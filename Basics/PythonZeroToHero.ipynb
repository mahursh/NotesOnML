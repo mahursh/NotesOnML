{
 "cells": [
  {
   "cell_type": "markdown",
   "id": "a608ee68-9e40-4a37-b6db-599f916190e7",
   "metadata": {},
   "source": [
    "# This is Python Tutorial"
   ]
  },
  {
   "cell_type": "markdown",
   "id": "e7307b88-c742-4d1b-a7b9-1cd054230014",
   "metadata": {},
   "source": [
    "this is our first program in python"
   ]
  },
  {
   "cell_type": "code",
   "execution_count": 2,
   "id": "83a32df1-d2f1-4435-9837-20b63fcab7d8",
   "metadata": {},
   "outputs": [
    {
     "name": "stdout",
     "output_type": "stream",
     "text": [
      "Hello World!\n"
     ]
    }
   ],
   "source": [
    "print(\"Hello World!\")"
   ]
  },
  {
   "cell_type": "markdown",
   "id": "df478a41-c464-493f-93c4-d3d413e417fa",
   "metadata": {},
   "source": [
    "$a+b=c$"
   ]
  },
  {
   "cell_type": "markdown",
   "id": "a042a8dd-ec78-41fa-8b46-e990c6af76e9",
   "metadata": {},
   "source": [
    "<h4>Data Types :</h4>"
   ]
  },
  {
   "cell_type": "code",
   "execution_count": 8,
   "id": "0ca161cb-7c03-47fc-95b3-44d5f68b7b81",
   "metadata": {},
   "outputs": [
    {
     "name": "stdout",
     "output_type": "stream",
     "text": [
      "<class 'int'>\n",
      "<class 'float'>\n",
      "<class 'str'>\n"
     ]
    }
   ],
   "source": [
    "x=2\n",
    "y=5.2\n",
    "z=\"str\"\n",
    "print(type(x))\n",
    "print(type(y))\n",
    "print(type(z))"
   ]
  },
  {
   "cell_type": "markdown",
   "id": "d34d0d7d-d162-4689-b4b5-e2069518a58f",
   "metadata": {},
   "source": [
    "<h4>Multiple Assignment :</h4>"
   ]
  },
  {
   "cell_type": "code",
   "execution_count": 9,
   "id": "9896ab79-4c0c-4248-985c-a1b98b6abb47",
   "metadata": {},
   "outputs": [],
   "source": [
    "a,b=2,\"test\""
   ]
  },
  {
   "cell_type": "code",
   "execution_count": 10,
   "id": "6b5cc087-c7ea-40ec-a0e4-88b06db1dc7f",
   "metadata": {},
   "outputs": [
    {
     "name": "stdout",
     "output_type": "stream",
     "text": [
      "2\n"
     ]
    }
   ],
   "source": [
    "print(a)"
   ]
  },
  {
   "cell_type": "markdown",
   "id": "d7aa6b3d-0a6b-4285-a984-a4e15c314b61",
   "metadata": {},
   "source": [
    "<h4>Calling Variable After Deletion , Causes Error :</h4>"
   ]
  },
  {
   "cell_type": "code",
   "execution_count": 11,
   "id": "afe23906-0b26-4800-b366-091432d55283",
   "metadata": {},
   "outputs": [
    {
     "ename": "NameError",
     "evalue": "name 'b' is not defined",
     "output_type": "error",
     "traceback": [
      "\u001b[1;31m---------------------------------------------------------------------------\u001b[0m",
      "\u001b[1;31mNameError\u001b[0m                                 Traceback (most recent call last)",
      "Cell \u001b[1;32mIn[11], line 2\u001b[0m\n\u001b[0;32m      1\u001b[0m \u001b[38;5;28;01mdel\u001b[39;00m b \n\u001b[1;32m----> 2\u001b[0m \u001b[38;5;28mprint\u001b[39m(b)\n",
      "\u001b[1;31mNameError\u001b[0m: name 'b' is not defined"
     ]
    }
   ],
   "source": [
    "del b \n",
    "print(b)"
   ]
  },
  {
   "cell_type": "markdown",
   "id": "b4925b48-27fe-4449-8387-0b64d7865c03",
   "metadata": {},
   "source": [
    "if you wan to know what variables are inseide memory use this:"
   ]
  },
  {
   "cell_type": "code",
   "execution_count": 12,
   "id": "7660b316-0d8c-4499-a22b-54f16dce56a3",
   "metadata": {},
   "outputs": [
    {
     "name": "stdout",
     "output_type": "stream",
     "text": [
      "Variable   Type     Data/Info\n",
      "-----------------------------\n",
      "a          int      2\n",
      "x          int      2\n",
      "y          float    5.2\n",
      "z          str      str\n"
     ]
    }
   ],
   "source": [
    "%whos"
   ]
  },
  {
   "cell_type": "markdown",
   "id": "370973f9-4737-46f1-b852-78ed9a10260e",
   "metadata": {},
   "source": [
    "<h4>Complex Number :</h4>"
   ]
  },
  {
   "cell_type": "code",
   "execution_count": 13,
   "id": "b3e8492b-6598-4d33-aa21-6757f84d8ba5",
   "metadata": {},
   "outputs": [],
   "source": [
    "c = 2+4j"
   ]
  },
  {
   "cell_type": "code",
   "execution_count": 15,
   "id": "b80813b9-ea83-42f0-9ee6-06fb5722cc08",
   "metadata": {},
   "outputs": [
    {
     "name": "stdout",
     "output_type": "stream",
     "text": [
      "<class 'complex'>\n"
     ]
    }
   ],
   "source": [
    "print(type(c))"
   ]
  },
  {
   "cell_type": "markdown",
   "id": "15adf7cf-86e1-4c1b-963a-b656711448d2",
   "metadata": {},
   "source": [
    "<h2>Operatores :</h2>\n",
    "\n",
    "| Operator |   Task   | \n",
    "|:--------:|:--------:|\n",
    "|    +     | Addition | \n",
    "|    -     |   Subtraction  | \n",
    "|       /     |     Divisionn    | \n",
    "|      %     |      Mod   |\n",
    "|     *      |       Multiplication   |\n",
    "|      //    |        Floor Division  |\n",
    "|      **     |        To the power of  |\n",
    "\n"
   ]
  },
  {
   "cell_type": "code",
   "execution_count": 22,
   "id": "76753e43-5a39-4de7-89eb-5177da538e04",
   "metadata": {},
   "outputs": [
    {
     "name": "stdout",
     "output_type": "stream",
     "text": [
      "4\n"
     ]
    }
   ],
   "source": [
    "sum_ax = a+x\n",
    "print(sum_ax)"
   ]
  },
  {
   "cell_type": "code",
   "execution_count": 23,
   "id": "490858f6-2783-4916-acda-befc696fa6d9",
   "metadata": {},
   "outputs": [
    {
     "data": {
      "text/plain": [
       "93.31200000000001"
      ]
     },
     "execution_count": 23,
     "metadata": {},
     "output_type": "execute_result"
    }
   ],
   "source": [
    "((a+y)**3)/4"
   ]
  },
  {
   "cell_type": "code",
   "execution_count": 24,
   "id": "e33e3111-aea6-45a5-bad2-48a628c6c4ee",
   "metadata": {},
   "outputs": [
    {
     "name": "stdout",
     "output_type": "stream",
     "text": [
      "hello\n"
     ]
    }
   ],
   "source": [
    "s1 = \"hel\"\n",
    "s2 =\"lo\"\n",
    "s3 = s1+s2\n",
    "print(s3)"
   ]
  },
  {
   "cell_type": "code",
   "execution_count": 25,
   "id": "4996b9bb-ac0f-4dc4-8f86-a132896c0321",
   "metadata": {},
   "outputs": [
    {
     "data": {
      "text/plain": [
       "3.3333333333333335"
      ]
     },
     "execution_count": 25,
     "metadata": {},
     "output_type": "execute_result"
    }
   ],
   "source": [
    "10/3"
   ]
  },
  {
   "cell_type": "code",
   "execution_count": 26,
   "id": "bea0e5b5-3cf1-440d-8334-c404304d024f",
   "metadata": {},
   "outputs": [
    {
     "data": {
      "text/plain": [
       "3"
      ]
     },
     "execution_count": 26,
     "metadata": {},
     "output_type": "execute_result"
    }
   ],
   "source": [
    "10//3"
   ]
  },
  {
   "cell_type": "markdown",
   "id": "f2570e71-9f99-46e1-8008-0751922d76b9",
   "metadata": {},
   "source": [
    "<h4>If you dont assign the result to any variable , there is a default variable in python that stores the last result (value) inside it . underscore :  </h4>"
   ]
  },
  {
   "cell_type": "code",
   "execution_count": 27,
   "id": "ee3ba9e2-a7f0-4a37-835e-b6c71da548ff",
   "metadata": {},
   "outputs": [
    {
     "data": {
      "text/plain": [
       "3"
      ]
     },
     "execution_count": 27,
     "metadata": {},
     "output_type": "execute_result"
    }
   ],
   "source": [
    "_"
   ]
  },
  {
   "cell_type": "markdown",
   "id": "1d0f3747-ea35-44f3-a32f-fae5e9c8f9a1",
   "metadata": {},
   "source": [
    "<h2>?</h2>\n",
    "<h4>can a variable name start with digit ?</h4>\n",
    "<h2>NO!</h2>"
   ]
  },
  {
   "cell_type": "code",
   "execution_count": 28,
   "id": "a9addb25-bbec-46cc-a2db-91bbe82aeaaa",
   "metadata": {},
   "outputs": [
    {
     "ename": "SyntaxError",
     "evalue": "invalid decimal literal (3096300167.py, line 1)",
     "output_type": "error",
     "traceback": [
      "\u001b[1;36m  Cell \u001b[1;32mIn[28], line 1\u001b[1;36m\u001b[0m\n\u001b[1;33m    3v = \"will it be assigned ?\"\u001b[0m\n\u001b[1;37m    ^\u001b[0m\n\u001b[1;31mSyntaxError\u001b[0m\u001b[1;31m:\u001b[0m invalid decimal literal\n"
     ]
    }
   ],
   "source": [
    "3v = \"will it be assigned ?\""
   ]
  },
  {
   "cell_type": "code",
   "execution_count": 29,
   "id": "7d8fcf8c-04f5-4b12-9dd6-37069573f77d",
   "metadata": {},
   "outputs": [
    {
     "ename": "SyntaxError",
     "evalue": "invalid syntax (3700968009.py, line 1)",
     "output_type": "error",
     "traceback": [
      "\u001b[1;36m  Cell \u001b[1;32mIn[29], line 1\u001b[1;36m\u001b[0m\n\u001b[1;33m    $3 = 1\u001b[0m\n\u001b[1;37m    ^\u001b[0m\n\u001b[1;31mSyntaxError\u001b[0m\u001b[1;31m:\u001b[0m invalid syntax\n"
     ]
    }
   ],
   "source": [
    "$3 = 1"
   ]
  },
  {
   "cell_type": "code",
   "execution_count": 30,
   "id": "9c8facfa-4847-4748-8cee-d2671b282513",
   "metadata": {},
   "outputs": [
    {
     "name": "stderr",
     "output_type": "stream",
     "text": [
      "'d' is not recognized as an internal or external command,\n",
      "operable program or batch file.\n"
     ]
    }
   ],
   "source": [
    "!d = 10.2"
   ]
  },
  {
   "cell_type": "code",
   "execution_count": 31,
   "id": "2799f2da-3a28-4d80-bd61-c6905f1fc69f",
   "metadata": {},
   "outputs": [
    {
     "ename": "SyntaxError",
     "evalue": "invalid syntax. Maybe you meant '==' or ':=' instead of '='? (120549099.py, line 1)",
     "output_type": "error",
     "traceback": [
      "\u001b[1;36m  Cell \u001b[1;32mIn[31], line 1\u001b[1;36m\u001b[0m\n\u001b[1;33m    @m = \"test\"\u001b[0m\n\u001b[1;37m     ^\u001b[0m\n\u001b[1;31mSyntaxError\u001b[0m\u001b[1;31m:\u001b[0m invalid syntax. Maybe you meant '==' or ':=' instead of '='?\n"
     ]
    }
   ],
   "source": [
    "@m = \"test\""
   ]
  },
  {
   "cell_type": "code",
   "execution_count": 33,
   "id": "c71e88d4-d7e8-417f-8399-345d3aea0cb6",
   "metadata": {},
   "outputs": [
    {
     "name": "stdout",
     "output_type": "stream",
     "text": [
      "_ is allowed at the begining of the variable name .\n"
     ]
    }
   ],
   "source": [
    "_e = 4\n",
    "print(\"_ is allowed at the begining of the variable name .\")"
   ]
  },
  {
   "cell_type": "markdown",
   "id": "c0ebf2b9-69ff-468a-b5ea-e224251a9563",
   "metadata": {},
   "source": [
    "## Type bool and Comparisons"
   ]
  },
  {
   "cell_type": "markdown",
   "id": "269dfe3e-9209-46e0-8e2d-4219dca35304",
   "metadata": {},
   "source": [
    "| Operator |   Task   | \n",
    "|:--------:|:--------:|\n",
    "|    ==    |  True, if it is equal   | \n",
    "|    !=    |  True, if it is not equal   | \n",
    "|     <     |   Less than       | \n",
    "|      >    |  Greater than        |\n",
    "|       <=   |    Less than or equal to      |\n",
    "|      >=    |    Greater than or equal to      |\n"
   ]
  },
  {
   "cell_type": "code",
   "execution_count": 34,
   "id": "ccd39e1e-7c18-4267-9d92-a8ee323138ab",
   "metadata": {},
   "outputs": [],
   "source": [
    "a=True\n",
    "b=True\n",
    "c=False"
   ]
  },
  {
   "cell_type": "code",
   "execution_count": 35,
   "id": "872a2e6a-9696-464d-ab73-db064c944c49",
   "metadata": {},
   "outputs": [
    {
     "name": "stdout",
     "output_type": "stream",
     "text": [
      "Variable   Type     Data/Info\n",
      "-----------------------------\n",
      "Sum        int      4\n",
      "a          bool     True\n",
      "b          bool     True\n",
      "c          bool     False\n",
      "s1         str      hel\n",
      "s2         str      lo\n",
      "s3         str      hello\n",
      "sum        int      4\n",
      "sum_ax     int      4\n",
      "x          int      2\n",
      "y          float    5.2\n",
      "z          str      str\n"
     ]
    }
   ],
   "source": [
    "%whos"
   ]
  },
  {
   "cell_type": "code",
   "execution_count": 36,
   "id": "f822f918-51fb-40a1-afea-08a1164c2e0a",
   "metadata": {},
   "outputs": [
    {
     "name": "stdout",
     "output_type": "stream",
     "text": [
      "True\n",
      "True\n",
      "False\n",
      "True\n",
      "False\n"
     ]
    }
   ],
   "source": [
    "print(a and b)\n",
    "print(a or b)\n",
    "print(a and c)\n",
    "print(a or c)\n",
    "print(not a)"
   ]
  },
  {
   "cell_type": "code",
   "execution_count": 37,
   "id": "6e4bbf01-f9db-4b70-b13a-3fab9544b1fc",
   "metadata": {},
   "outputs": [
    {
     "data": {
      "text/plain": [
       "3"
      ]
     },
     "execution_count": 37,
     "metadata": {},
     "output_type": "execute_result"
    }
   ],
   "source": [
    "_"
   ]
  },
  {
   "cell_type": "code",
   "execution_count": 38,
   "id": "01bf9907-25a7-4a35-ad7b-9579c13759e3",
   "metadata": {},
   "outputs": [
    {
     "data": {
      "text/plain": [
       "False"
      ]
     },
     "execution_count": 38,
     "metadata": {},
     "output_type": "execute_result"
    }
   ],
   "source": [
    "not(a)"
   ]
  },
  {
   "cell_type": "code",
   "execution_count": 39,
   "id": "26e716ca-1203-4e21-a37e-2528155293ce",
   "metadata": {},
   "outputs": [
    {
     "data": {
      "text/plain": [
       "False"
      ]
     },
     "execution_count": 39,
     "metadata": {},
     "output_type": "execute_result"
    }
   ],
   "source": [
    "not a"
   ]
  },
  {
   "cell_type": "markdown",
   "id": "d3d30641-31e9-4357-852e-ca2843e56dcf",
   "metadata": {},
   "source": [
    "# Comparisons :"
   ]
  },
  {
   "cell_type": "code",
   "execution_count": 40,
   "id": "c47c0794-b960-4f29-94b5-dc71285207c0",
   "metadata": {},
   "outputs": [
    {
     "name": "stdout",
     "output_type": "stream",
     "text": [
      "True\n"
     ]
    }
   ],
   "source": [
    "print(2<3)"
   ]
  },
  {
   "cell_type": "code",
   "execution_count": 42,
   "id": "89a59c8e-7716-45d0-97a8-91736deac349",
   "metadata": {},
   "outputs": [
    {
     "name": "stdout",
     "output_type": "stream",
     "text": [
      "False\n"
     ]
    }
   ],
   "source": [
    "print (2 == 3)"
   ]
  },
  {
   "cell_type": "code",
   "execution_count": 43,
   "id": "2c789ead-f083-437b-8f20-22e07ed4d0a7",
   "metadata": {},
   "outputs": [
    {
     "name": "stdout",
     "output_type": "stream",
     "text": [
      "True\n"
     ]
    }
   ],
   "source": [
    "print(2 != 3)"
   ]
  },
  {
   "cell_type": "code",
   "execution_count": 44,
   "id": "b9191590-b374-48d3-8e34-236e0ed8fb28",
   "metadata": {},
   "outputs": [
    {
     "data": {
      "text/plain": [
       "True"
      ]
     },
     "execution_count": 44,
     "metadata": {},
     "output_type": "execute_result"
    }
   ],
   "source": [
    "3 <= 4"
   ]
  },
  {
   "cell_type": "code",
   "execution_count": 45,
   "id": "e2760ea8-a184-4a99-8dac-7e6227b0932f",
   "metadata": {},
   "outputs": [
    {
     "data": {
      "text/plain": [
       "True"
      ]
     },
     "execution_count": 45,
     "metadata": {},
     "output_type": "execute_result"
    }
   ],
   "source": [
    "3 == 3.0"
   ]
  },
  {
   "cell_type": "code",
   "execution_count": 49,
   "id": "43812f52-a01d-47fd-b6eb-a22d0379d0bc",
   "metadata": {},
   "outputs": [
    {
     "data": {
      "text/plain": [
       "True"
      ]
     },
     "execution_count": 49,
     "metadata": {},
     "output_type": "execute_result"
    }
   ],
   "source": [
    "null == \"\""
   ]
  },
  {
   "cell_type": "code",
   "execution_count": 50,
   "id": "83304a76-79ec-42be-81ed-ed3396f4b3df",
   "metadata": {},
   "outputs": [
    {
     "data": {
      "text/plain": [
       "True"
      ]
     },
     "execution_count": 50,
     "metadata": {},
     "output_type": "execute_result"
    }
   ],
   "source": [
    "True or False and True "
   ]
  },
  {
   "cell_type": "markdown",
   "id": "68593cd2-8dbc-4b30-b1fe-16c1b9d4c74e",
   "metadata": {},
   "source": [
    "<h4> and will be applied first </h4>"
   ]
  },
  {
   "cell_type": "code",
   "execution_count": 51,
   "id": "df27a713-4aa9-4aeb-89bc-d2c030c3d478",
   "metadata": {},
   "outputs": [
    {
     "data": {
      "text/plain": [
       "True"
      ]
     },
     "execution_count": 51,
     "metadata": {},
     "output_type": "execute_result"
    }
   ],
   "source": [
    "True or False and False"
   ]
  },
  {
   "cell_type": "code",
   "execution_count": 52,
   "id": "68d519d4-b036-4502-881e-4233631fd028",
   "metadata": {},
   "outputs": [
    {
     "data": {
      "text/plain": [
       "True"
      ]
     },
     "execution_count": 52,
     "metadata": {},
     "output_type": "execute_result"
    }
   ],
   "source": [
    "False and False or True"
   ]
  },
  {
   "cell_type": "code",
   "execution_count": 55,
   "id": "c3c4f72b-6810-43c8-b0d2-d638e433818d",
   "metadata": {},
   "outputs": [
    {
     "name": "stdout",
     "output_type": "stream",
     "text": [
      "False\n"
     ]
    }
   ],
   "source": [
    "print((not(2!=3) and True) or (False and True))"
   ]
  },
  {
   "cell_type": "markdown",
   "id": "13a4249d-5871-4cef-92b3-be152ab3f4e2",
   "metadata": {},
   "source": [
    "+ <b>round()</b> function, rounds the input value to a specified nummber of places or the nearest integer."
   ]
  },
  {
   "cell_type": "code",
   "execution_count": 56,
   "id": "9a71c07e-2871-4716-b79b-b610aad4812c",
   "metadata": {},
   "outputs": [
    {
     "name": "stdout",
     "output_type": "stream",
     "text": [
      "6\n",
      "4.678\n"
     ]
    }
   ],
   "source": [
    "print(round(5.6783))\n",
    "print(round(4.678434, 3))"
   ]
  },
  {
   "cell_type": "markdown",
   "id": "4fc19e89-04b6-49ab-abd2-ebf37f7f7cfd",
   "metadata": {},
   "source": [
    "+ <b>divmod(x,y)</b> function, outputs the quotient and the remainder in a tuple. "
   ]
  },
  {
   "cell_type": "code",
   "execution_count": 57,
   "id": "40019fa1-8655-4db4-aaf7-a972b01c88b8",
   "metadata": {},
   "outputs": [
    {
     "data": {
      "text/plain": [
       "(5, 2)"
      ]
     },
     "execution_count": 57,
     "metadata": {},
     "output_type": "execute_result"
    }
   ],
   "source": [
    "divmod(27,5)"
   ]
  },
  {
   "cell_type": "code",
   "execution_count": 58,
   "id": "45e5416c-c177-41f0-a37d-8a639fb97b76",
   "metadata": {},
   "outputs": [
    {
     "data": {
      "text/plain": [
       "(4, 1)"
      ]
     },
     "execution_count": 58,
     "metadata": {},
     "output_type": "execute_result"
    }
   ],
   "source": [
    "divmod(17 ,4)"
   ]
  },
  {
   "cell_type": "code",
   "execution_count": 60,
   "id": "e2e11848-adea-422f-b895-c188e624ebd5",
   "metadata": {},
   "outputs": [
    {
     "data": {
      "text/plain": [
       "tuple"
      ]
     },
     "execution_count": 60,
     "metadata": {},
     "output_type": "execute_result"
    }
   ],
   "source": [
    "type(_)"
   ]
  },
  {
   "cell_type": "markdown",
   "id": "4fe07e13-156d-46f8-95a1-10ecfd03a492",
   "metadata": {},
   "source": [
    "+ <b>isinstance()</b> function, returns True if the first argument is an instance of the class. Multiple class can also be checked at once."
   ]
  },
  {
   "cell_type": "code",
   "execution_count": 61,
   "id": "55f434fa-f671-40fe-904f-35896d56125f",
   "metadata": {},
   "outputs": [
    {
     "name": "stdout",
     "output_type": "stream",
     "text": [
      "True\n",
      "False\n",
      "True\n"
     ]
    }
   ],
   "source": [
    "print(isinstance(1, int))\n",
    "print(isinstance(1.0 , int))\n",
    "print(isinstance(1.0 , (int , float)))"
   ]
  },
  {
   "cell_type": "markdown",
   "id": "d92e924c-a77b-49c5-81c3-d21ecc000d87",
   "metadata": {},
   "source": [
    "+ <b>pow(x,y,z)</b> : x raise to the power y and remainder by z."
   ]
  },
  {
   "cell_type": "code",
   "execution_count": 62,
   "id": "7f2c821a-8a65-4ac4-b703-81b1b1eef340",
   "metadata": {},
   "outputs": [
    {
     "data": {
      "text/plain": [
       "8"
      ]
     },
     "execution_count": 62,
     "metadata": {},
     "output_type": "execute_result"
    }
   ],
   "source": [
    "pow(2,3)"
   ]
  },
  {
   "cell_type": "code",
   "execution_count": 64,
   "id": "2c30e13b-53be-4820-a305-ca7e798dfbe1",
   "metadata": {},
   "outputs": [
    {
     "data": {
      "text/plain": [
       "4"
      ]
     },
     "execution_count": 64,
     "metadata": {},
     "output_type": "execute_result"
    }
   ],
   "source": [
    "pow(19,2,7)"
   ]
  },
  {
   "cell_type": "markdown",
   "id": "d9631e61-8116-4898-906c-3b3321f34037",
   "metadata": {},
   "source": [
    "+ <b>input() "
   ]
  },
  {
   "cell_type": "code",
   "execution_count": 71,
   "id": "4d35daac-e06c-4757-ac05-9f5ee938e1db",
   "metadata": {},
   "outputs": [
    {
     "name": "stdin",
     "output_type": "stream",
     "text": [
      "Enter Something : 69\n"
     ]
    }
   ],
   "source": [
    "a = input(\"Enter Something :\")"
   ]
  },
  {
   "cell_type": "code",
   "execution_count": 72,
   "id": "05124b2b-5896-4658-82a7-d30ed68c0906",
   "metadata": {},
   "outputs": [
    {
     "name": "stdout",
     "output_type": "stream",
     "text": [
      "Variable   Type     Data/Info\n",
      "-----------------------------\n",
      "Sum        int      4\n",
      "a          str      69\n",
      "b          bool     True\n",
      "c          bool     False\n",
      "null       str      \n",
      "s1         str      hel\n",
      "s2         str      lo\n",
      "s3         str      hello\n",
      "sum        int      4\n",
      "sum_ax     int      4\n",
      "x          int      2\n",
      "y          float    5.2\n",
      "z          str      str\n"
     ]
    }
   ],
   "source": [
    "%whos\n"
   ]
  },
  {
   "cell_type": "code",
   "execution_count": 73,
   "id": "4be767c3-d0b4-4d7c-adea-c99a75bca87f",
   "metadata": {},
   "outputs": [],
   "source": [
    "a = int(a)"
   ]
  },
  {
   "cell_type": "code",
   "execution_count": 74,
   "id": "38c77787-8227-4a70-956f-e3720d867741",
   "metadata": {},
   "outputs": [
    {
     "data": {
      "text/plain": [
       "int"
      ]
     },
     "execution_count": 74,
     "metadata": {},
     "output_type": "execute_result"
    }
   ],
   "source": [
    "type(a)"
   ]
  },
  {
   "cell_type": "code",
   "execution_count": 75,
   "id": "37c1d771-099b-42c3-aa95-cc78933bd3b1",
   "metadata": {},
   "outputs": [
    {
     "name": "stdin",
     "output_type": "stream",
     "text": [
      "Enter Float : 2.76\n"
     ]
    }
   ],
   "source": [
    "b = float(input(\"Enter Float :\"))"
   ]
  },
  {
   "cell_type": "code",
   "execution_count": 76,
   "id": "5ebd04ec-2c0f-47c2-b9ba-f8387448b8e2",
   "metadata": {},
   "outputs": [
    {
     "data": {
      "text/plain": [
       "float"
      ]
     },
     "execution_count": 76,
     "metadata": {},
     "output_type": "execute_result"
    }
   ],
   "source": [
    "type(b)"
   ]
  },
  {
   "cell_type": "code",
   "execution_count": 77,
   "id": "8b863807-98d1-44b8-83f7-138e162250ed",
   "metadata": {},
   "outputs": [
    {
     "name": "stdin",
     "output_type": "stream",
     "text": [
      "Enter Float : abc\n"
     ]
    },
    {
     "ename": "ValueError",
     "evalue": "could not convert string to float: 'abc'",
     "output_type": "error",
     "traceback": [
      "\u001b[1;31m---------------------------------------------------------------------------\u001b[0m",
      "\u001b[1;31mValueError\u001b[0m                                Traceback (most recent call last)",
      "Cell \u001b[1;32mIn[77], line 1\u001b[0m\n\u001b[1;32m----> 1\u001b[0m f \u001b[38;5;241m=\u001b[39m \u001b[38;5;28mfloat\u001b[39m(\u001b[38;5;28minput\u001b[39m(\u001b[38;5;124m\"\u001b[39m\u001b[38;5;124mEnter Float :\u001b[39m\u001b[38;5;124m\"\u001b[39m))\n",
      "\u001b[1;31mValueError\u001b[0m: could not convert string to float: 'abc'"
     ]
    }
   ],
   "source": [
    "f = float(input(\"Enter Float :\"))"
   ]
  },
  {
   "cell_type": "markdown",
   "id": "83a1e32d-2371-4725-9302-8d7da19b29e2",
   "metadata": {},
   "source": [
    "if you dont know how to use a function use this:"
   ]
  },
  {
   "cell_type": "code",
   "execution_count": 78,
   "id": "e59a244c-ed14-4428-b17f-ffabec6b452e",
   "metadata": {},
   "outputs": [
    {
     "data": {
      "text/plain": [
       "\u001b[1;31mSignature:\u001b[0m \u001b[0mpow\u001b[0m\u001b[1;33m(\u001b[0m\u001b[0mbase\u001b[0m\u001b[1;33m,\u001b[0m \u001b[0mexp\u001b[0m\u001b[1;33m,\u001b[0m \u001b[0mmod\u001b[0m\u001b[1;33m=\u001b[0m\u001b[1;32mNone\u001b[0m\u001b[1;33m)\u001b[0m\u001b[1;33m\u001b[0m\u001b[1;33m\u001b[0m\u001b[0m\n",
       "\u001b[1;31mDocstring:\u001b[0m\n",
       "Equivalent to base**exp with 2 arguments or base**exp % mod with 3 arguments\n",
       "\n",
       "Some types, such as ints, are able to use a more efficient algorithm when\n",
       "invoked using the three argument form.\n",
       "\u001b[1;31mType:\u001b[0m      builtin_function_or_method"
      ]
     },
     "metadata": {},
     "output_type": "display_data"
    }
   ],
   "source": [
    "pow?"
   ]
  },
  {
   "cell_type": "code",
   "execution_count": 79,
   "id": "a10d4c16-8d60-45f7-9a8f-ae6d45f3bbb6",
   "metadata": {},
   "outputs": [
    {
     "data": {
      "text/plain": [
       "\u001b[1;31mSignature:\u001b[0m \u001b[0minput\u001b[0m\u001b[1;33m(\u001b[0m\u001b[0mprompt\u001b[0m\u001b[1;33m=\u001b[0m\u001b[1;34m''\u001b[0m\u001b[1;33m)\u001b[0m\u001b[1;33m\u001b[0m\u001b[1;33m\u001b[0m\u001b[0m\n",
       "\u001b[1;31mDocstring:\u001b[0m\n",
       "Forward raw_input to frontends\n",
       "\n",
       "Raises\n",
       "------\n",
       "StdinNotImplementedError if active frontend doesn't support stdin.\n",
       "\u001b[1;31mFile:\u001b[0m      c:\\users\\mahoor\\anaconda3\\lib\\site-packages\\ipykernel\\kernelbase.py\n",
       "\u001b[1;31mType:\u001b[0m      method"
      ]
     },
     "metadata": {},
     "output_type": "display_data"
    }
   ],
   "source": [
    "input?"
   ]
  },
  {
   "cell_type": "markdown",
   "id": "04cdf501-6b34-4b61-b617-ba887e097169",
   "metadata": {},
   "source": [
    "# Control flow"
   ]
  },
  {
   "cell_type": "markdown",
   "id": "2534d501-60db-4c66-b6c5-24e89b498f18",
   "metadata": {},
   "source": [
    "<h3>If-Else</h3>"
   ]
  },
  {
   "cell_type": "code",
   "execution_count": 83,
   "id": "0f2d2b75-0d08-4e42-af60-8ae25b640d43",
   "metadata": {},
   "outputs": [
    {
     "name": "stdin",
     "output_type": "stream",
     "text": [
      " 2\n",
      " 3\n"
     ]
    },
    {
     "name": "stdout",
     "output_type": "stream",
     "text": [
      "3\n"
     ]
    }
   ],
   "source": [
    "a = int(input())\n",
    "b = int(input())\n",
    "if a>b :\n",
    "    print(a)\n",
    "else:\n",
    "    print(b)\n"
   ]
  },
  {
   "cell_type": "markdown",
   "id": "d350949c-37c7-4c20-9b97-51ed8b0a192b",
   "metadata": {},
   "source": [
    "<h3>If-Elif-Else</h3>"
   ]
  },
  {
   "cell_type": "code",
   "execution_count": 84,
   "id": "a267dadb-50fd-4387-9bfd-1803caa6b188",
   "metadata": {},
   "outputs": [
    {
     "name": "stdin",
     "output_type": "stream",
     "text": [
      "Enter first number :  12\n",
      "Enter second number :  12\n"
     ]
    },
    {
     "name": "stdout",
     "output_type": "stream",
     "text": [
      "a and b are equal\n"
     ]
    }
   ],
   "source": [
    "a = float(input(\"Enter first number : \"))\n",
    "b = float(input(\"Enter second number : \"))\n",
    "if a>b:\n",
    "    print(\"a is greater than b.\")\n",
    "elif a<b:\n",
    "    print(\"a is less than b.\")\n",
    "else:\n",
    "    print(\"a and b are equal\")"
   ]
  },
  {
   "cell_type": "markdown",
   "id": "d0101492-1eb5-4210-bfe9-7cd9a00089f1",
   "metadata": {},
   "source": [
    "<h3>Short Hand If</h3>"
   ]
  },
  {
   "cell_type": "code",
   "execution_count": 86,
   "id": "6762f2aa-919b-49eb-bade-04d844b3a2bc",
   "metadata": {},
   "outputs": [
    {
     "name": "stdout",
     "output_type": "stream",
     "text": [
      "b\n"
     ]
    }
   ],
   "source": [
    "a = 9\n",
    "b = 10\n",
    "print(\"a\") if a>b else print(\"=\") if a==b else print(\"b\")"
   ]
  },
  {
   "cell_type": "code",
   "execution_count": 88,
   "id": "b7f06fa2-49cb-448d-91f9-dc198ed395eb",
   "metadata": {},
   "outputs": [
    {
     "name": "stdout",
     "output_type": "stream",
     "text": [
      "else part\n"
     ]
    }
   ],
   "source": [
    "a = 1\n",
    "if a>10:\n",
    "    print(\">10\")\n",
    "elif not(a>10):\n",
    "    print(\"else part\")"
   ]
  },
  {
   "cell_type": "markdown",
   "id": "61d3a989-3e88-4171-a656-adb78ea6bcac",
   "metadata": {},
   "source": [
    "<h3>Nested If</h3>"
   ]
  },
  {
   "cell_type": "code",
   "execution_count": 93,
   "id": "b1422831-60d5-45c8-a2ce-d3dfea7f5a85",
   "metadata": {},
   "outputs": [
    {
     "name": "stdin",
     "output_type": "stream",
     "text": [
      "Enter a number:  28\n"
     ]
    },
    {
     "name": "stdout",
     "output_type": "stream",
     "text": [
      "your number is above 10.\n",
      "and also above 20.\n"
     ]
    }
   ],
   "source": [
    "x = int(input(\"Enter a number: \"))\n",
    "\n",
    "if x>10:\n",
    "    print(\"your number is above 10.\")\n",
    "    if x>20:\n",
    "        print(\"and also above 20.\")\n",
    "    else:\n",
    "        print(\"but not above 20!\")\n",
    "else: \n",
    "    print(\"your number is under or equal 10.\")        \n",
    "        "
   ]
  },
  {
   "cell_type": "code",
   "execution_count": 100,
   "id": "f780cddc-bf09-42d2-8fbc-c871575f0feb",
   "metadata": {},
   "outputs": [
    {
     "data": {
      "text/plain": [
       "' \\nmulti line comment\\n\\n'"
      ]
     },
     "execution_count": 100,
     "metadata": {},
     "output_type": "execute_result"
    }
   ],
   "source": [
    "# single line comment\n",
    "\"\"\" \n",
    "multi line comment\n",
    "\n",
    "\"\"\""
   ]
  },
  {
   "cell_type": "code",
   "execution_count": 99,
   "id": "b65f6e61-7b52-40af-b559-6d4e073ddbfc",
   "metadata": {},
   "outputs": [
    {
     "name": "stdin",
     "output_type": "stream",
     "text": [
      " 12\n"
     ]
    },
    {
     "name": "stdout",
     "output_type": "stream",
     "text": [
      "round :  12\n",
      "already round\n"
     ]
    }
   ],
   "source": [
    "a = float(input())\n",
    "b = round(a)\n",
    "print(\"round : \" ,b)\n",
    "if a>b:\n",
    "    print(\"rounded to floor\")\n",
    "elif a<b:\n",
    "    print(\"rounded to ceil\")\n",
    "else:\n",
    "    print(\"already round\")"
   ]
  },
  {
   "cell_type": "markdown",
   "id": "d68fa352-d677-4570-a938-3d50e6831d57",
   "metadata": {},
   "source": [
    "# Loops"
   ]
  },
  {
   "cell_type": "markdown",
   "id": "311b98e1-3a8e-4272-ac3f-64505815f5d2",
   "metadata": {},
   "source": [
    "<h3>While Loop</h3>"
   ]
  },
  {
   "cell_type": "code",
   "execution_count": 104,
   "id": "4205d115-ce7c-4bb2-94d4-69b9f65f032a",
   "metadata": {},
   "outputs": [
    {
     "name": "stdin",
     "output_type": "stream",
     "text": [
      "max iteration:  5\n"
     ]
    },
    {
     "name": "stdout",
     "output_type": "stream",
     "text": [
      "1\n",
      "2\n",
      "3\n",
      "4\n",
      "5\n",
      "done!\n"
     ]
    }
   ],
   "source": [
    "n = int(input(\"max iteration: \"))\n",
    "i = 1\n",
    "while i<=n:\n",
    "    print(i)\n",
    "    i+=1\n",
    "print(\"done!\")    "
   ]
  },
  {
   "cell_type": "markdown",
   "id": "45154658-98c1-47ce-9fde-fe65e7a44e7f",
   "metadata": {},
   "source": [
    "<h4>pass says that: Do Nothing .</h4>"
   ]
  },
  {
   "cell_type": "code",
   "execution_count": 105,
   "id": "7edd04df-d712-4793-a654-efbb7c2daed9",
   "metadata": {},
   "outputs": [
    {
     "name": "stdout",
     "output_type": "stream",
     "text": [
      "2\n",
      "4\n",
      "6\n",
      "8\n",
      "10\n",
      "12\n",
      "14\n",
      "16\n",
      "done!\n"
     ]
    }
   ],
   "source": [
    "n = 17\n",
    "i = 1\n",
    "while i<n:\n",
    "    if i%2 == 0:\n",
    "        print(i)\n",
    "    else:\n",
    "        pass\n",
    "    i +=1\n",
    "print(\"done!\")    \n"
   ]
  },
  {
   "cell_type": "markdown",
   "id": "aee43fdc-add8-4381-90b5-b90f85ffeda6",
   "metadata": {},
   "source": [
    "### Break , Continue"
   ]
  },
  {
   "cell_type": "code",
   "execution_count": 109,
   "id": "91b9a2ab-c124-4a32-8018-baf97c50cd85",
   "metadata": {},
   "outputs": [
    {
     "name": "stdout",
     "output_type": "stream",
     "text": [
      "break\n",
      "done!\n"
     ]
    }
   ],
   "source": [
    "i = 1\n",
    "while(True): \n",
    "  if i%17 == 0:\n",
    "    print(\"break\")\n",
    "    break\n",
    "  else:\n",
    "    i+=1\n",
    "    continue\n",
    "  print(\"i am inside while loop\")\n",
    "print(\"done!\")"
   ]
  },
  {
   "cell_type": "markdown",
   "id": "30afad92-80ec-425f-85a2-9851d7438c7d",
   "metadata": {},
   "source": [
    "### For Loop"
   ]
  },
  {
   "cell_type": "code",
   "execution_count": 113,
   "id": "63aea3ec-5720-4134-bccb-5f4b79c8a5e8",
   "metadata": {},
   "outputs": [
    {
     "name": "stdout",
     "output_type": "stream",
     "text": [
      "1\n",
      "2\n",
      "3\n",
      "4\n",
      "5\n",
      "6\n",
      "7\n",
      "8\n",
      "9\n",
      "10\n",
      "[0, 1, 4, 9, 16, 25, 36, 49, 64, 81]\n"
     ]
    }
   ],
   "source": [
    "l = []\n",
    "for i in range(10):\n",
    "    print(i+1)\n",
    "    l.append(i**2)\n",
    "print(l)   "
   ]
  },
  {
   "cell_type": "code",
   "execution_count": 114,
   "id": "d241e595-5323-48a2-8d4c-3ce732685868",
   "metadata": {},
   "outputs": [
    {
     "data": {
      "text/plain": [
       "\u001b[1;31mInit signature:\u001b[0m \u001b[0mrange\u001b[0m\u001b[1;33m(\u001b[0m\u001b[0mself\u001b[0m\u001b[1;33m,\u001b[0m \u001b[1;33m/\u001b[0m\u001b[1;33m,\u001b[0m \u001b[1;33m*\u001b[0m\u001b[0margs\u001b[0m\u001b[1;33m,\u001b[0m \u001b[1;33m**\u001b[0m\u001b[0mkwargs\u001b[0m\u001b[1;33m)\u001b[0m\u001b[1;33m\u001b[0m\u001b[1;33m\u001b[0m\u001b[0m\n",
       "\u001b[1;31mDocstring:\u001b[0m     \n",
       "range(stop) -> range object\n",
       "range(start, stop[, step]) -> range object\n",
       "\n",
       "Return an object that produces a sequence of integers from start (inclusive)\n",
       "to stop (exclusive) by step.  range(i, j) produces i, i+1, i+2, ..., j-1.\n",
       "start defaults to 0, and stop is omitted!  range(4) produces 0, 1, 2, 3.\n",
       "These are exactly the valid indices for a list of 4 elements.\n",
       "When step is given, it specifies the increment (or decrement).\n",
       "\u001b[1;31mType:\u001b[0m           type\n",
       "\u001b[1;31mSubclasses:\u001b[0m     "
      ]
     },
     "metadata": {},
     "output_type": "display_data"
    }
   ],
   "source": [
    "range?"
   ]
  },
  {
   "cell_type": "code",
   "execution_count": 116,
   "id": "4d2dd8cd-0755-45c2-ac62-be73004d69be",
   "metadata": {},
   "outputs": [
    {
     "name": "stdout",
     "output_type": "stream",
     "text": [
      "1\n",
      "3\n",
      "5\n",
      "7\n",
      "9\n",
      "[0, 8, 64, 216, 512]\n"
     ]
    }
   ],
   "source": [
    "p = []\n",
    "for i in range(0,10,2):\n",
    "    print(i+1)\n",
    "    p.append(i**3)\n",
    "print(p)"
   ]
  },
  {
   "cell_type": "code",
   "execution_count": 1,
   "id": "9385199f-2f8f-409f-a9f8-2b5391127661",
   "metadata": {},
   "outputs": [
    {
     "name": "stdout",
     "output_type": "stream",
     "text": [
      "cherry\n",
      "apple\n",
      "4.9\n",
      "loop completes its iteration .\n"
     ]
    }
   ],
   "source": [
    "s = {\"apple\" , 4.9 , \"cherry\"}\n",
    "for x in s:\n",
    "    print(x)\n",
    "else:\n",
    "    print(\"loop completes its iteration .\")"
   ]
  },
  {
   "cell_type": "code",
   "execution_count": 3,
   "id": "55cfa6f3-1b69-48ec-b7c0-d8e56774a938",
   "metadata": {},
   "outputs": [
    {
     "data": {
      "text/plain": [
       "set"
      ]
     },
     "execution_count": 3,
     "metadata": {},
     "output_type": "execute_result"
    }
   ],
   "source": [
    "type(s)"
   ]
  },
  {
   "cell_type": "code",
   "execution_count": 5,
   "id": "d81b5d47-7469-426d-b333-31ea3475a1ad",
   "metadata": {},
   "outputs": [
    {
     "name": "stdout",
     "output_type": "stream",
     "text": [
      "cherry\n",
      "apple\n",
      "outside loop\n"
     ]
    }
   ],
   "source": [
    "s = {\"apple\" , 4.9 , \"cherry\"}\n",
    "i = 1\n",
    "for x in s:\n",
    "    print(x)\n",
    "    i +=1\n",
    "    if i==3:\n",
    "        break\n",
    "    else:\n",
    "        pass\n",
    "else:\n",
    "    print(\"loop completes its iteration .\")\n",
    "print(\"outside loop\")    "
   ]
  },
  {
   "cell_type": "code",
   "execution_count": 19,
   "id": "80b5c489-d8a2-42a2-883a-7e46339307e8",
   "metadata": {},
   "outputs": [
    {
     "name": "stdout",
     "output_type": "stream",
     "text": [
      "key :  apple ---- value :  12.36\n",
      "key :  cherry ---- value :  15\n",
      "key :  type ---- value :  fruite\n"
     ]
    }
   ],
   "source": [
    "d = {\"apple\" :12.36 , \"cherry\" :15 , \"type\" :\"fruite\"}\n",
    "for x in d :\n",
    "    print(\"key : \" , x ,\"---- value : \",d[x])"
   ]
  },
  {
   "cell_type": "markdown",
   "id": "1132c566-853a-4226-8be6-dcf91d670b9a",
   "metadata": {},
   "source": [
    "### Sorting a list manualy"
   ]
  },
  {
   "cell_type": "code",
   "execution_count": 35,
   "id": "a7969871-bf6a-46a6-89f4-ea812374a864",
   "metadata": {},
   "outputs": [
    {
     "name": "stdout",
     "output_type": "stream",
     "text": [
      "[-5, 1, 2, 2, 3, 4, 7, 9]\n"
     ]
    }
   ],
   "source": [
    "l = [1,2,4,-5,7,9,3,2]\n",
    "\n",
    "for j in range(len(l)):\n",
    "    m = l[j]\n",
    "    idx= j\n",
    "    c = j\n",
    "    for i in range(j , len(l)) :\n",
    "        if l[i]<m:\n",
    "            m=l[i]\n",
    "            idx=c\n",
    "        c+=1\n",
    "    temp = l[j]\n",
    "    l[j] = m\n",
    "    l[idx] = temp\n",
    "\n",
    "print(l)"
   ]
  },
  {
   "cell_type": "markdown",
   "id": "ba89ef68-3b7f-4416-ab09-774e19a828a2",
   "metadata": {},
   "source": [
    "# Functions"
   ]
  },
  {
   "cell_type": "code",
   "execution_count": 40,
   "id": "9a1b74e6-57ff-4f17-b890-3aba83111e92",
   "metadata": {},
   "outputs": [],
   "source": [
    "def successLog():\n",
    "    print(\"job is done.\")\n",
    "    print(\"let me know my next task.\")"
   ]
  },
  {
   "cell_type": "code",
   "execution_count": 44,
   "id": "354e756c-ecd3-4a6f-9d0a-c732858eefab",
   "metadata": {},
   "outputs": [
    {
     "name": "stdout",
     "output_type": "stream",
     "text": [
      "job is done.\n",
      "let me know my next task.\n"
     ]
    }
   ],
   "source": [
    "successLog()"
   ]
  },
  {
   "cell_type": "markdown",
   "id": "79c32621-bb4d-4d7c-af21-d24adba517df",
   "metadata": {},
   "source": [
    "### Doc String"
   ]
  },
  {
   "cell_type": "code",
   "execution_count": 47,
   "id": "73e3cd5e-a5ac-44a8-b2de-248a1734b08b",
   "metadata": {},
   "outputs": [],
   "source": [
    "def test():\n",
    "    \"\"\"this method just prints test\"\"\"\n",
    "    print(\"test\")"
   ]
  },
  {
   "cell_type": "code",
   "execution_count": 49,
   "id": "e848111c-2b38-4818-af56-9744de23d714",
   "metadata": {},
   "outputs": [
    {
     "data": {
      "text/plain": [
       "\u001b[1;31mSignature:\u001b[0m \u001b[0mtest\u001b[0m\u001b[1;33m(\u001b[0m\u001b[1;33m)\u001b[0m\u001b[1;33m\u001b[0m\u001b[1;33m\u001b[0m\u001b[0m\n",
       "\u001b[1;31mDocstring:\u001b[0m this method just prints test\n",
       "\u001b[1;31mFile:\u001b[0m      c:\\users\\mahoor\\appdata\\local\\temp\\ipykernel_10292\\3076319851.py\n",
       "\u001b[1;31mType:\u001b[0m      function"
      ]
     },
     "metadata": {},
     "output_type": "display_data"
    }
   ],
   "source": [
    "test?"
   ]
  },
  {
   "cell_type": "code",
   "execution_count": 51,
   "id": "be4c00fc-3264-4389-801b-8e88ffa9b1e1",
   "metadata": {},
   "outputs": [
    {
     "data": {
      "text/plain": [
       "\u001b[1;31mSignature:\u001b[0m \u001b[0mtest\u001b[0m\u001b[1;33m(\u001b[0m\u001b[1;33m)\u001b[0m\u001b[1;33m\u001b[0m\u001b[1;33m\u001b[0m\u001b[0m\n",
       "\u001b[1;31mSource:\u001b[0m   \n",
       "\u001b[1;32mdef\u001b[0m \u001b[0mtest\u001b[0m\u001b[1;33m(\u001b[0m\u001b[1;33m)\u001b[0m\u001b[1;33m:\u001b[0m\u001b[1;33m\n",
       "\u001b[0m    \u001b[1;34m\"\"\"this method just prints test\"\"\"\u001b[0m\u001b[1;33m\n",
       "\u001b[0m    \u001b[0mprint\u001b[0m\u001b[1;33m(\u001b[0m\u001b[1;34m\"test\"\u001b[0m\u001b[1;33m)\u001b[0m\u001b[1;33m\u001b[0m\u001b[1;33m\u001b[0m\u001b[0m\n",
       "\u001b[1;31mFile:\u001b[0m      c:\\users\\mahoor\\appdata\\local\\temp\\ipykernel_10292\\3076319851.py\n",
       "\u001b[1;31mType:\u001b[0m      function"
      ]
     },
     "metadata": {},
     "output_type": "display_data"
    }
   ],
   "source": [
    "test??"
   ]
  },
  {
   "cell_type": "code",
   "execution_count": 57,
   "id": "f6573084-a243-438b-b21c-ea0ca7d3ca46",
   "metadata": {},
   "outputs": [
    {
     "name": "stdout",
     "output_type": "stream",
     "text": [
      "Help on function test in module __main__:\n",
      "\n",
      "test()\n",
      "    this method just prints test\n",
      "\n"
     ]
    }
   ],
   "source": [
    "help(test)"
   ]
  },
  {
   "cell_type": "markdown",
   "id": "51200dec-7a60-4c2e-af6e-c872f8369753",
   "metadata": {},
   "source": [
    "### Input Arguments"
   ]
  },
  {
   "cell_type": "code",
   "execution_count": 60,
   "id": "41f49e99-d11c-479f-9916-c336bf13eef9",
   "metadata": {},
   "outputs": [
    {
     "name": "stdout",
     "output_type": "stream",
     "text": [
      "hello\n"
     ]
    }
   ],
   "source": [
    "def printMsg(msg):\n",
    "    print(msg)\n",
    "\n",
    "printMsg(\"hello\")"
   ]
  },
  {
   "cell_type": "code",
   "execution_count": 62,
   "id": "8a58a0db-c774-4fb6-934a-9697daf665b1",
   "metadata": {},
   "outputs": [],
   "source": [
    "def sumFunction(i,j):\n",
    "    print(i+j)"
   ]
  },
  {
   "cell_type": "code",
   "execution_count": 64,
   "id": "e4c8ec9f-0295-404d-987b-accff393e7a8",
   "metadata": {},
   "outputs": [
    {
     "name": "stdout",
     "output_type": "stream",
     "text": [
      "154\n"
     ]
    }
   ],
   "source": [
    "sumFunction(89,65)"
   ]
  },
  {
   "cell_type": "code",
   "execution_count": 28,
   "id": "ff5fd963-e6a1-4fe8-99a1-286de799fbcd",
   "metadata": {},
   "outputs": [
    {
     "name": "stdout",
     "output_type": "stream",
     "text": [
      "36\n"
     ]
    }
   ],
   "source": [
    "def myPow(x,y):\n",
    "    \"\"\"this method print x**y \"\"\"\n",
    "    print(x**y)\n",
    "\n",
    "myPow(6,2)"
   ]
  },
  {
   "cell_type": "code",
   "execution_count": 30,
   "id": "03017abb-4300-409a-9408-6495faf14a77",
   "metadata": {},
   "outputs": [
    {
     "data": {
      "text/plain": [
       "\u001b[1;31mSignature:\u001b[0m \u001b[0mmyPow\u001b[0m\u001b[1;33m(\u001b[0m\u001b[0mx\u001b[0m\u001b[1;33m,\u001b[0m \u001b[0my\u001b[0m\u001b[1;33m)\u001b[0m\u001b[1;33m\u001b[0m\u001b[1;33m\u001b[0m\u001b[0m\n",
       "\u001b[1;31mDocstring:\u001b[0m this method print x**y \n",
       "\u001b[1;31mFile:\u001b[0m      c:\\users\\mahoor\\appdata\\local\\temp\\ipykernel_16216\\2260410728.py\n",
       "\u001b[1;31mType:\u001b[0m      function"
      ]
     },
     "metadata": {},
     "output_type": "display_data"
    }
   ],
   "source": [
    "myPow?"
   ]
  },
  {
   "cell_type": "markdown",
   "id": "47a12dcc-5fb6-4783-9f7b-8d10d4f1846e",
   "metadata": {},
   "source": [
    "### Order of arguments"
   ]
  },
  {
   "cell_type": "code",
   "execution_count": 1,
   "id": "68890674-ff16-4aa4-81dd-789ae4272d85",
   "metadata": {},
   "outputs": [
    {
     "name": "stdout",
     "output_type": "stream",
     "text": [
      "A is :  2\n",
      "B is :  3\n",
      "C is :  game\n"
     ]
    }
   ],
   "source": [
    "def f(a,b,c):\n",
    "    print(\"A is : \" , a)\n",
    "    print(\"B is : \" , b)\n",
    "    print(\"C is : \" , c)\n",
    "\n",
    "f(2,3,\"game\")"
   ]
  },
  {
   "cell_type": "code",
   "execution_count": 3,
   "id": "1ce8bd2d-2b15-4bb1-94ce-5402aa0e1d74",
   "metadata": {},
   "outputs": [
    {
     "name": "stdout",
     "output_type": "stream",
     "text": [
      "A is :  2\n",
      "B is :  \n",
      "C is :  4\n"
     ]
    }
   ],
   "source": [
    "f(a=2, c=4 , b=\"\")"
   ]
  },
  {
   "cell_type": "markdown",
   "id": "dfcad68b-0442-4146-8d81-84b56d1a702a",
   "metadata": {},
   "source": [
    "### Return Statement"
   ]
  },
  {
   "cell_type": "code",
   "execution_count": 10,
   "id": "e89fbcbc-e2c2-46cc-abf4-241f3e2e126d",
   "metadata": {},
   "outputs": [
    {
     "data": {
      "text/plain": [
       "9"
      ]
     },
     "execution_count": 10,
     "metadata": {},
     "output_type": "execute_result"
    }
   ],
   "source": [
    "def add(x,y):\n",
    "    return x+y\n",
    "\n",
    "add(4,5)"
   ]
  },
  {
   "cell_type": "markdown",
   "id": "40350e23-8dee-43af-b7f6-8445cc6d93c8",
   "metadata": {},
   "source": [
    "### $*$ the variable that is declared inside a method, is not accessable outside the function :"
   ]
  },
  {
   "cell_type": "code",
   "execution_count": 14,
   "id": "47ebbd9c-fdc8-4747-99b2-aa4cd96d2b2f",
   "metadata": {},
   "outputs": [],
   "source": [
    "def myDef(g,b):\n",
    "    test = g**b-3"
   ]
  },
  {
   "cell_type": "code",
   "execution_count": 20,
   "id": "a5f12f13-8d3c-49cf-aa95-a275d4add1eb",
   "metadata": {},
   "outputs": [
    {
     "ename": "NameError",
     "evalue": "name 'test' is not defined",
     "output_type": "error",
     "traceback": [
      "\u001b[1;31m---------------------------------------------------------------------------\u001b[0m",
      "\u001b[1;31mNameError\u001b[0m                                 Traceback (most recent call last)",
      "Cell \u001b[1;32mIn[20], line 1\u001b[0m\n\u001b[1;32m----> 1\u001b[0m \u001b[38;5;28mprint\u001b[39m(test)\n",
      "\u001b[1;31mNameError\u001b[0m: name 'test' is not defined"
     ]
    }
   ],
   "source": [
    "print(test)"
   ]
  },
  {
   "cell_type": "markdown",
   "id": "59dd5de9-b363-46b8-8a46-0432fa139e69",
   "metadata": {},
   "source": [
    "### even if you return that variable :"
   ]
  },
  {
   "cell_type": "code",
   "execution_count": 44,
   "id": "8c2d2834-39df-4b3c-b611-7428f830a0f6",
   "metadata": {},
   "outputs": [
    {
     "ename": "NameError",
     "evalue": "name 'a' is not defined",
     "output_type": "error",
     "traceback": [
      "\u001b[1;31m---------------------------------------------------------------------------\u001b[0m",
      "\u001b[1;31mNameError\u001b[0m                                 Traceback (most recent call last)",
      "Cell \u001b[1;32mIn[44], line 5\u001b[0m\n\u001b[0;32m      2\u001b[0m      a \u001b[38;5;241m=\u001b[39m g\u001b[38;5;241m*\u001b[39m\u001b[38;5;241m*\u001b[39mb\u001b[38;5;241m-\u001b[39m\u001b[38;5;241m3\u001b[39m\n\u001b[0;32m      3\u001b[0m      \u001b[38;5;28;01mreturn\u001b[39;00m a\n\u001b[1;32m----> 5\u001b[0m \u001b[38;5;28mprint\u001b[39m(a)\n",
      "\u001b[1;31mNameError\u001b[0m: name 'a' is not defined"
     ]
    }
   ],
   "source": [
    "def myDef(g,b):\n",
    "     a = g**b-3\n",
    "     return a\n",
    "\n",
    "print(a)"
   ]
  },
  {
   "cell_type": "code",
   "execution_count": 46,
   "id": "c1c504a0-0c30-426d-89a8-1f43ae9eafb1",
   "metadata": {},
   "outputs": [],
   "source": [
    "def myDef(g,b):\n",
    "     a = g**b-3\n",
    "     return a\n",
    "\n",
    "d = myDef(2,3)"
   ]
  },
  {
   "cell_type": "code",
   "execution_count": 48,
   "id": "b32a00dd-3050-459f-8dbf-567aeb6eb86b",
   "metadata": {},
   "outputs": [
    {
     "name": "stdout",
     "output_type": "stream",
     "text": [
      "5\n"
     ]
    }
   ],
   "source": [
    "print(d)"
   ]
  },
  {
   "cell_type": "markdown",
   "id": "98a44bdb-7bee-49e8-90fa-63ff29d9782c",
   "metadata": {},
   "source": [
    "### $*$ in python , a method always returns a value . even if do not actually return a data:"
   ]
  },
  {
   "cell_type": "code",
   "execution_count": 58,
   "id": "4bc734d3-0dc2-4007-9399-f6dac529b20a",
   "metadata": {},
   "outputs": [],
   "source": [
    "def g():\n",
    "    pass"
   ]
  },
  {
   "cell_type": "code",
   "execution_count": 60,
   "id": "a09d4ba4-c6d6-4a57-83e6-3214902559b9",
   "metadata": {},
   "outputs": [
    {
     "name": "stdout",
     "output_type": "stream",
     "text": [
      "None\n"
     ]
    }
   ],
   "source": [
    "print(g())"
   ]
  },
  {
   "cell_type": "code",
   "execution_count": 62,
   "id": "721a1b43-aaa6-48bf-8550-b70e9d80f78a",
   "metadata": {},
   "outputs": [
    {
     "name": "stdout",
     "output_type": "stream",
     "text": [
      "<class 'NoneType'>\n"
     ]
    }
   ],
   "source": [
    "print(type(g()))"
   ]
  },
  {
   "cell_type": "code",
   "execution_count": 7,
   "id": "eb018d8e-06e4-4c0a-aa8f-16f8769cc94c",
   "metadata": {},
   "outputs": [
    {
     "name": "stdout",
     "output_type": "stream",
     "text": [
      "<class 'NoneType'>\n"
     ]
    }
   ],
   "source": [
    "def g():\n",
    "    return\n",
    "\n",
    "print(type(g()))"
   ]
  },
  {
   "cell_type": "markdown",
   "id": "01d39f21-3e8d-48b1-9c2b-ed99169b6313",
   "metadata": {},
   "source": [
    "### $*$ statements after <b>return</b> will not be executed ."
   ]
  },
  {
   "cell_type": "code",
   "execution_count": 5,
   "id": "1c312d30-08a8-451a-b7d2-138f7dd6fc33",
   "metadata": {},
   "outputs": [
    {
     "name": "stdout",
     "output_type": "stream",
     "text": [
      "before return\n"
     ]
    },
    {
     "data": {
      "text/plain": [
       "15"
      ]
     },
     "execution_count": 5,
     "metadata": {},
     "output_type": "execute_result"
    }
   ],
   "source": [
    "def r():\n",
    "    b = 8+7\n",
    "    print(\"before return\")\n",
    "    return b\n",
    "    print(\"after return\")\n",
    "    d= 5*4\n",
    "    print(d)\n",
    "\n",
    "r()"
   ]
  },
  {
   "cell_type": "markdown",
   "id": "727079d9-5a06-4e38-b969-7508c1499d22",
   "metadata": {},
   "source": [
    "### $*$ python can return multiple data:"
   ]
  },
  {
   "cell_type": "code",
   "execution_count": 12,
   "id": "5f0129bf-f178-422c-8967-53132644b486",
   "metadata": {},
   "outputs": [
    {
     "name": "stdout",
     "output_type": "stream",
     "text": [
      "7 8.4 str\n"
     ]
    }
   ],
   "source": [
    "def r():\n",
    "    a=7\n",
    "    b=8.4\n",
    "    c=\"str\"\n",
    "    return a,b,c\n",
    "\n",
    "x,y,z = r()\n",
    "print(x,y,z)"
   ]
  },
  {
   "cell_type": "markdown",
   "id": "bc8b433e-6f95-4a29-8100-a1827a272ad6",
   "metadata": {},
   "source": [
    "## Variable-Lenget Arguments ($*$args and $**$kwargs)"
   ]
  },
  {
   "cell_type": "markdown",
   "id": "26291f25-59ad-4c5c-a13e-f82972facf95",
   "metadata": {},
   "source": [
    "### $*$args:"
   ]
  },
  {
   "cell_type": "code",
   "execution_count": 18,
   "id": "f5ac03fc-c455-4f50-a818-c312bbacba93",
   "metadata": {},
   "outputs": [
    {
     "data": {
      "text/plain": [
       "28"
      ]
     },
     "execution_count": 18,
     "metadata": {},
     "output_type": "execute_result"
    }
   ],
   "source": [
    "def add(*a):\n",
    "    sum=0\n",
    "    for i in range(len(a)):\n",
    "        sum+=a[i]\n",
    "    return sum\n",
    "\n",
    "add(1,2,3,4,5,6,7)\n"
   ]
  },
  {
   "cell_type": "markdown",
   "id": "eea9d5e0-5822-4c29-8489-863335cdce48",
   "metadata": {},
   "source": [
    "### $**$kwargs:"
   ]
  },
  {
   "cell_type": "code",
   "execution_count": 26,
   "id": "5cc8c8c5-2233-4725-8c5e-7b2e2338932b",
   "metadata": {},
   "outputs": [
    {
     "name": "stdout",
     "output_type": "stream",
     "text": [
      "a a\n",
      "b b\n",
      "c c\n"
     ]
    }
   ],
   "source": [
    "def f(**k):\n",
    "    for x in k:\n",
    "        print(x, k[x])\n",
    "\n",
    "f(a=\"a\",b=\"b\",c=\"c\")"
   ]
  },
  {
   "cell_type": "markdown",
   "id": "d300b79d-9fa0-4990-9988-3359e1dd37de",
   "metadata": {},
   "source": [
    "### Default Values "
   ]
  },
  {
   "cell_type": "code",
   "execution_count": 33,
   "id": "40f15b83-5f18-4daf-9a72-77368945fbb0",
   "metadata": {},
   "outputs": [
    {
     "name": "stdout",
     "output_type": "stream",
     "text": [
      "0\n"
     ]
    }
   ],
   "source": [
    "def f(sum=0):\n",
    "    print(sum)\n",
    "\n",
    "f()"
   ]
  },
  {
   "cell_type": "code",
   "execution_count": 35,
   "id": "9e0d04ab-abd1-4fe3-aa6c-2d20eec42da8",
   "metadata": {},
   "outputs": [
    {
     "name": "stdout",
     "output_type": "stream",
     "text": [
      "6\n"
     ]
    }
   ],
   "source": [
    "f(6)"
   ]
  },
  {
   "cell_type": "code",
   "execution_count": 39,
   "id": "d4d23ac7-01d4-46ea-a92a-e12364e9c74c",
   "metadata": {},
   "outputs": [
    {
     "name": "stdout",
     "output_type": "stream",
     "text": [
      "[-9, 2, 3]\n"
     ]
    }
   ],
   "source": [
    "l1=[1,2,3]\n",
    "l2=l1\n",
    "l2[0] = -9\n",
    "print(l1)"
   ]
  },
  {
   "cell_type": "code",
   "execution_count": 41,
   "id": "71061577-de7c-40f6-bb9e-bdf88535d2f8",
   "metadata": {},
   "outputs": [],
   "source": [
    "def f(l=[1,2]):\n",
    "    for i in l:\n",
    "        print(i)"
   ]
  },
  {
   "cell_type": "code",
   "execution_count": 43,
   "id": "a242eede-d74e-4e0d-b4a5-18c40bd83625",
   "metadata": {},
   "outputs": [],
   "source": [
    "l2 = [12,3,4]"
   ]
  },
  {
   "cell_type": "code",
   "execution_count": 45,
   "id": "c2cebe74-178f-41f2-86ab-ec6e011ed7d3",
   "metadata": {},
   "outputs": [
    {
     "name": "stdout",
     "output_type": "stream",
     "text": [
      "1\n",
      "2\n",
      "12\n",
      "3\n",
      "4\n"
     ]
    }
   ],
   "source": [
    "f()\n",
    "f(l2)"
   ]
  },
  {
   "cell_type": "code",
   "execution_count": 51,
   "id": "00b57576-ca6b-4092-be09-455af78fc322",
   "metadata": {},
   "outputs": [
    {
     "name": "stdout",
     "output_type": "stream",
     "text": [
      "1\n",
      "2\n"
     ]
    }
   ],
   "source": [
    "f()"
   ]
  },
  {
   "cell_type": "markdown",
   "id": "9e581a85-03bc-4894-897d-2ca1f4a1146a",
   "metadata": {},
   "source": [
    "### Modules"
   ]
  },
  {
   "cell_type": "markdown",
   "id": "7915323b-c3ed-4f1b-87fa-71e96d6677cc",
   "metadata": {},
   "source": [
    "#### modules are basically, python files that contain functions that you dont want to write or implement again in your project ."
   ]
  },
  {
   "cell_type": "code",
   "execution_count": 61,
   "id": "c3fe4bb1-5510-4379-b8a5-940abc304eea",
   "metadata": {},
   "outputs": [],
   "source": [
    "import sys \n",
    "sys.path.append(\"C:\\test\")\n",
    "import myModule as myM\n",
    "# from myModule import checkTypeOfAllArgs"
   ]
  },
  {
   "cell_type": "code",
   "execution_count": 65,
   "id": "ca11336f-f34b-4f31-a23d-a20cc4e26769",
   "metadata": {},
   "outputs": [
    {
     "data": {
      "text/plain": [
       "\u001b[1;31mSignature:\u001b[0m \u001b[0mmyM\u001b[0m\u001b[1;33m.\u001b[0m\u001b[0mcheckTypeOfAllArgs\u001b[0m\u001b[1;33m(\u001b[0m\u001b[1;33m*\u001b[0m\u001b[0margs\u001b[0m\u001b[1;33m)\u001b[0m\u001b[1;33m\u001b[0m\u001b[1;33m\u001b[0m\u001b[0m\n",
       "\u001b[1;31mDocstring:\u001b[0m <no docstring>\n",
       "\u001b[1;31mSource:\u001b[0m   \n",
       "\u001b[1;32mdef\u001b[0m \u001b[0mcheckTypeOfAllArgs\u001b[0m\u001b[1;33m(\u001b[0m\u001b[1;33m*\u001b[0m\u001b[0margs\u001b[0m\u001b[1;33m)\u001b[0m\u001b[1;33m:\u001b[0m\u001b[1;33m\n",
       "\u001b[0m    \u001b[1;32mfor\u001b[0m \u001b[0mx\u001b[0m \u001b[1;32min\u001b[0m \u001b[0margs\u001b[0m\u001b[1;33m:\u001b[0m\u001b[1;33m\n",
       "\u001b[0m        \u001b[1;32mif\u001b[0m \u001b[1;32mnot\u001b[0m\u001b[1;33m(\u001b[0m\u001b[0misinstance\u001b[0m\u001b[1;33m(\u001b[0m\u001b[0mx\u001b[0m\u001b[1;33m,\u001b[0m \u001b[1;33m(\u001b[0m\u001b[0mint\u001b[0m\u001b[1;33m,\u001b[0m\u001b[0mfloat\u001b[0m\u001b[1;33m)\u001b[0m\u001b[1;33m)\u001b[0m\u001b[1;33m)\u001b[0m\u001b[1;33m:\u001b[0m\u001b[1;33m\n",
       "\u001b[0m            \u001b[1;32mreturn\u001b[0m \u001b[1;32mFalse\u001b[0m\u001b[1;33m\n",
       "\u001b[0m    \u001b[1;32mreturn\u001b[0m \u001b[1;32mTrue\u001b[0m\u001b[1;33m\u001b[0m\u001b[1;33m\u001b[0m\u001b[0m\n",
       "\u001b[1;31mFile:\u001b[0m      c:\\users\\mahoor\\mymodule.py\n",
       "\u001b[1;31mType:\u001b[0m      function"
      ]
     },
     "metadata": {},
     "output_type": "display_data"
    }
   ],
   "source": [
    "myM.checkTypeOfAllArgs??"
   ]
  },
  {
   "cell_type": "code",
   "execution_count": 67,
   "id": "a529f367-710a-4acd-9adb-f34f890883b1",
   "metadata": {},
   "outputs": [],
   "source": [
    "myM.myName = \"Changed\""
   ]
  },
  {
   "cell_type": "code",
   "execution_count": 69,
   "id": "fb330c65-c1cd-4219-90ff-41d49d54e786",
   "metadata": {},
   "outputs": [
    {
     "name": "stdout",
     "output_type": "stream",
     "text": [
      "Changed\n"
     ]
    }
   ],
   "source": [
    "print(myM.myName)"
   ]
  },
  {
   "cell_type": "markdown",
   "id": "50476ac9-0c50-4a73-ba6b-9fddd06e51e7",
   "metadata": {},
   "source": [
    "### practice\n"
   ]
  },
  {
   "cell_type": "code",
   "execution_count": 120,
   "id": "724c5aeb-0963-4a3d-97da-a82bf71a9948",
   "metadata": {},
   "outputs": [
    {
     "name": "stdout",
     "output_type": "stream",
     "text": [
      "0 2\n"
     ]
    }
   ],
   "source": [
    "def findmin(l,startIndex):\n",
    "     m = l[startIndex]\n",
    "     idx=startIndex\n",
    "     \n",
    "     for i in range(startIndex ,len(l)):\n",
    "        x=l[i]\n",
    "        if x<m:\n",
    "            m = x\n",
    "            idx = i\n",
    "        else:\n",
    "            pass\n",
    "        i+=1\n",
    "     return m,idx\n",
    "\n",
    "a,b=findmin([2,4,0,6] ,1)\n",
    "print(a,b)"
   ]
  },
  {
   "cell_type": "code",
   "execution_count": 106,
   "id": "f6dd8c5c-aad8-43bc-acc6-e12fb895a08f",
   "metadata": {},
   "outputs": [
    {
     "data": {
      "text/plain": [
       "[2, 3, 7, 6]"
      ]
     },
     "execution_count": 106,
     "metadata": {},
     "output_type": "execute_result"
    }
   ],
   "source": [
    "def swapValues(l,idx1,idx2):\n",
    "    tmp = l[idx1]\n",
    "    l[idx1] = l[idx2]\n",
    "    l[idx2] = tmp\n",
    "    return l\n",
    "\n",
    "swapValues([2,3,6,7] , 2 , 3)"
   ]
  },
  {
   "cell_type": "code",
   "execution_count": 128,
   "id": "67142861-4528-401c-95e6-c0c2e3ed8023",
   "metadata": {},
   "outputs": [
    {
     "data": {
      "text/plain": [
       "[1, 4, 5, 7, 8]"
      ]
     },
     "execution_count": 128,
     "metadata": {},
     "output_type": "execute_result"
    }
   ],
   "source": [
    "def checkTypeOfAllArgs(l):\n",
    "    for x in l:\n",
    "        if not(isinstance(x, (int,float))):\n",
    "            return False\n",
    "    return True\n",
    "    \n",
    "\n",
    "def sortList(l):\n",
    "    if not(checkTypeOfAllArgs(l)):\n",
    "        print(\"Error : List dose not contain numeric values !\")\n",
    "        return\n",
    "    else:\n",
    "        c = 0\n",
    "        for x in l:\n",
    "            m , idx = findmin(l ,c)\n",
    "            l = swapValues(l,c,idx)\n",
    "            c+=1\n",
    "    return l\n",
    "\n",
    "sortList([1,7,4,5,8])\n"
   ]
  },
  {
   "cell_type": "markdown",
   "id": "ac493258-4f73-4156-9d8d-4bf6bd86e6a2",
   "metadata": {},
   "source": [
    "# Data Structures"
   ]
  },
  {
   "cell_type": "markdown",
   "id": "95894bfd-bc2b-4d3a-9aa9-f34cd3dd8025",
   "metadata": {},
   "source": [
    "## 1. String "
   ]
  },
  {
   "cell_type": "code",
   "execution_count": 141,
   "id": "59432d05-2706-479b-9eab-3943ffe5b19a",
   "metadata": {},
   "outputs": [
    {
     "name": "stdout",
     "output_type": "stream",
     "text": [
      "test test\n"
     ]
    }
   ],
   "source": [
    "s= \"test\"\n",
    "p= 'test'\n",
    "\n",
    "print(s,p)"
   ]
  },
  {
   "cell_type": "code",
   "execution_count": 147,
   "id": "bbd98cd2-7398-4004-be7c-c2cdb3def318",
   "metadata": {},
   "outputs": [
    {
     "name": "stdout",
     "output_type": "stream",
     "text": [
      "The price of this book is : 12\n",
      "The price of this book is :  12\n"
     ]
    }
   ],
   "source": [
    "price = 12\n",
    "s=\"The price of this book is : \"\n",
    "result = s+str(price)\n",
    "print(result)\n",
    "print(s,price)\n"
   ]
  },
  {
   "cell_type": "markdown",
   "id": "9b557780-e431-40e6-b648-637310b1c6c2",
   "metadata": {},
   "source": [
    "### multi-line string:\n"
   ]
  },
  {
   "cell_type": "code",
   "execution_count": 155,
   "id": "035374f2-1c73-4ff4-b2b4-f4abe4e103b7",
   "metadata": {},
   "outputs": [
    {
     "name": "stdout",
     "output_type": "stream",
     "text": [
      "this is first line of string\n",
      "this is second line of string\n",
      "and this is third line of string !\n"
     ]
    }
   ],
   "source": [
    "mult=\"\"\"this is first line of string\n",
    "this is second line of string\n",
    "and this is third line of string !\"\"\"\n",
    "\n",
    "print(mult)"
   ]
  },
  {
   "cell_type": "markdown",
   "id": "ef04ab39-b49a-42d2-84d9-cfc96a28433a",
   "metadata": {},
   "source": [
    "### Indexing and Slicing"
   ]
  },
  {
   "cell_type": "code",
   "execution_count": 159,
   "id": "7ba93953-63ab-4f35-8dae-4677b1164ce8",
   "metadata": {},
   "outputs": [
    {
     "name": "stdout",
     "output_type": "stream",
     "text": [
      "n\n"
     ]
    }
   ],
   "source": [
    "s = \"python and java for machine learning .\"\n",
    "print(s[5])"
   ]
  },
  {
   "cell_type": "code",
   "execution_count": 177,
   "id": "5f001a48-d0ba-48d8-b317-d62a6d91e242",
   "metadata": {},
   "outputs": [
    {
     "name": "stdout",
     "output_type": "stream",
     "text": [
      "va for m\n"
     ]
    }
   ],
   "source": [
    "print(s[13:21])"
   ]
  },
  {
   "cell_type": "code",
   "execution_count": 167,
   "id": "cb09c65b-f51a-4da6-ac2e-70712ba494d0",
   "metadata": {},
   "outputs": [
    {
     "name": "stdout",
     "output_type": "stream",
     "text": [
      "ni\n"
     ]
    }
   ],
   "source": [
    "print(s[-6:-4])"
   ]
  },
  {
   "cell_type": "code",
   "execution_count": 169,
   "id": "7da0e7c4-f7ac-4241-9ce3-c8b517e4b60d",
   "metadata": {},
   "outputs": [
    {
     "name": "stdout",
     "output_type": "stream",
     "text": [
      "38\n"
     ]
    }
   ],
   "source": [
    "print(len(s))"
   ]
  },
  {
   "cell_type": "code",
   "execution_count": 175,
   "id": "fd5d3b2e-e52b-4340-89d4-7a743ec1bb2e",
   "metadata": {},
   "outputs": [
    {
     "name": "stdout",
     "output_type": "stream",
     "text": [
      "3\n"
     ]
    }
   ],
   "source": [
    "print(len(s[-4:-1]))"
   ]
  },
  {
   "cell_type": "markdown",
   "id": "b2182233-b29b-4784-8056-9289c221fcaf",
   "metadata": {},
   "source": [
    "### s[srart=s[0] : end=s[len(s)] : step = 1]"
   ]
  },
  {
   "cell_type": "code",
   "execution_count": 181,
   "id": "5adb5fbc-a5c2-43bc-b294-186f0616fd63",
   "metadata": {},
   "outputs": [
    {
     "data": {
      "text/plain": [
       "'pytho'"
      ]
     },
     "execution_count": 181,
     "metadata": {},
     "output_type": "execute_result"
    }
   ],
   "source": [
    "s[:5]"
   ]
  },
  {
   "cell_type": "code",
   "execution_count": 183,
   "id": "a6b6821e-f0e4-4950-84a6-3f077d6f4f6a",
   "metadata": {},
   "outputs": [
    {
     "data": {
      "text/plain": [
       "'hon and java for machine learning .'"
      ]
     },
     "execution_count": 183,
     "metadata": {},
     "output_type": "execute_result"
    }
   ],
   "source": [
    "s[3:]"
   ]
  },
  {
   "cell_type": "code",
   "execution_count": 186,
   "id": "266c7208-9c8c-4d33-8650-444f21468c97",
   "metadata": {},
   "outputs": [
    {
     "data": {
      "text/plain": [
       "'thon and java fo'"
      ]
     },
     "execution_count": 186,
     "metadata": {},
     "output_type": "execute_result"
    }
   ],
   "source": [
    "s[2:18]"
   ]
  },
  {
   "cell_type": "code",
   "execution_count": 196,
   "id": "38b78457-4d6d-4de6-8d79-70d7c6b96fad",
   "metadata": {},
   "outputs": [
    {
     "data": {
      "text/plain": [
       "'yoa vf'"
      ]
     },
     "execution_count": 196,
     "metadata": {},
     "output_type": "execute_result"
    }
   ],
   "source": [
    "s[1:17:3]"
   ]
  },
  {
   "cell_type": "code",
   "execution_count": 200,
   "id": "4a5ca041-91e6-421b-96af-61b9126b449a",
   "metadata": {},
   "outputs": [
    {
     "data": {
      "text/plain": [
       "'python and java for machine learning .'"
      ]
     },
     "execution_count": 200,
     "metadata": {},
     "output_type": "execute_result"
    }
   ],
   "source": [
    "s[::]"
   ]
  },
  {
   "cell_type": "code",
   "execution_count": 202,
   "id": "65d52fba-c81d-466b-980b-92fb8d2e91be",
   "metadata": {},
   "outputs": [
    {
     "data": {
      "text/plain": [
       "'. gninrael enihcam rof avaj dna nohtyp'"
      ]
     },
     "execution_count": 202,
     "metadata": {},
     "output_type": "execute_result"
    }
   ],
   "source": [
    "s[::-1]"
   ]
  },
  {
   "cell_type": "markdown",
   "id": "e2189d23-b851-42e8-a074-5c5ba137cfaf",
   "metadata": {},
   "source": [
    "### Methods of String"
   ]
  },
  {
   "cell_type": "code",
   "execution_count": 3,
   "id": "8e7884f9-d8ac-4df6-99c7-71b957bb1ef8",
   "metadata": {},
   "outputs": [
    {
     "name": "stdout",
     "output_type": "stream",
     "text": [
      "A lot OF Spaces at The      beGining and end\n",
      "a lot of spaces at the      begining and end\n",
      "A LOT OF SPACES AT THE      BEGINING AND END\n",
      "AlotOFSpacesatThebeGiningandend\n"
     ]
    },
    {
     "data": {
      "text/plain": [
       "['python', 'rust', 'java', 'js']"
      ]
     },
     "execution_count": 3,
     "metadata": {},
     "output_type": "execute_result"
    }
   ],
   "source": [
    "a=\"           A lot OF Spaces at The      beGining and end     \"\n",
    "b = a.strip()\n",
    "print(b)\n",
    "print(b.lower())\n",
    "print(b.upper())\n",
    "print(a.replace(\" \" , \"\"))\n",
    "l = \"python,rust,java,js\"\n",
    "l.split(\",\")"
   ]
  },
  {
   "cell_type": "code",
   "execution_count": 213,
   "id": "638d273d-0150-49da-bca5-6818e9896f27",
   "metadata": {},
   "outputs": [
    {
     "data": {
      "text/plain": [
       "\u001b[1;31mType:\u001b[0m        str\n",
       "\u001b[1;31mString form:\u001b[0m            A lot OF Spaces at The      beGining and end     \n",
       "\u001b[1;31mLength:\u001b[0m      60\n",
       "\u001b[1;31mDocstring:\u001b[0m  \n",
       "str(object='') -> str\n",
       "str(bytes_or_buffer[, encoding[, errors]]) -> str\n",
       "\n",
       "Create a new string object from the given object. If encoding or\n",
       "errors is specified, then the object must expose a data buffer\n",
       "that will be decoded using the given encoding and error handler.\n",
       "Otherwise, returns the result of object.__str__() (if defined)\n",
       "or repr(object).\n",
       "encoding defaults to sys.getdefaultencoding().\n",
       "errors defaults to 'strict'."
      ]
     },
     "metadata": {},
     "output_type": "display_data"
    }
   ],
   "source": [
    "a?"
   ]
  },
  {
   "cell_type": "code",
   "execution_count": 215,
   "id": "06991156-5ad2-4a6c-aa43-3c6f306dcaea",
   "metadata": {},
   "outputs": [
    {
     "data": {
      "text/plain": [
       "\u001b[1;31mSignature:\u001b[0m \u001b[0ma\u001b[0m\u001b[1;33m.\u001b[0m\u001b[0mcapitalize\u001b[0m\u001b[1;33m(\u001b[0m\u001b[1;33m)\u001b[0m\u001b[1;33m\u001b[0m\u001b[1;33m\u001b[0m\u001b[0m\n",
       "\u001b[1;31mDocstring:\u001b[0m\n",
       "Return a capitalized version of the string.\n",
       "\n",
       "More specifically, make the first character have upper case and the rest lower\n",
       "case.\n",
       "\u001b[1;31mType:\u001b[0m      builtin_function_or_method"
      ]
     },
     "metadata": {},
     "output_type": "display_data"
    }
   ],
   "source": [
    "a.capitalize?"
   ]
  },
  {
   "cell_type": "code",
   "execution_count": 5,
   "id": "76a75e43-5f2c-40e8-b023-ae884f410803",
   "metadata": {},
   "outputs": [
    {
     "name": "stdout",
     "output_type": "stream",
     "text": [
      "Help on built-in function count:\n",
      "\n",
      "count(...) method of builtins.str instance\n",
      "    S.count(sub[, start[, end]]) -> int\n",
      "\n",
      "    Return the number of non-overlapping occurrences of substring sub in\n",
      "    string S[start:end].  Optional arguments start and end are\n",
      "    interpreted as in slice notation.\n",
      "\n"
     ]
    }
   ],
   "source": [
    "help(a.count)"
   ]
  },
  {
   "cell_type": "code",
   "execution_count": 7,
   "id": "69eb7f7e-6c5c-4e2e-9dee-751c5be8c674",
   "metadata": {},
   "outputs": [
    {
     "name": "stdout",
     "output_type": "stream",
     "text": [
      "Variable               Type        Data/Info\n",
      "--------------------------------------------\n",
      "a                      str                    A lot OF Space<...>    beGining and end     \n",
      "b                      str         A lot OF Spaces at The      beGining and end\n",
      "dataframe_columns      function    <function dataframe_colum<...>ns at 0x0000025085AC6200>\n",
      "dataframe_hash         function    <function dataframe_hash at 0x0000025085642CA0>\n",
      "dtypes_str             function    <function dtypes_str at 0x0000025085AC4B80>\n",
      "get_dataframes         function    <function get_dataframes at 0x000002508732B380>\n",
      "getpass                module      <module 'getpass' from 'C<...>conda3\\\\Lib\\\\getpass.py'>\n",
      "hashlib                module      <module 'hashlib' from 'C<...>conda3\\\\Lib\\\\hashlib.py'>\n",
      "import_pandas_safely   function    <function import_pandas_s<...>ly at 0x0000025082A51440>\n",
      "is_data_frame          function    <function is_data_frame at 0x0000025085AC5940>\n",
      "json                   module      <module 'json' from 'C:\\\\<...>\\Lib\\\\json\\\\__init__.py'>\n",
      "l                      str         python,rust,java,js\n"
     ]
    }
   ],
   "source": [
    "%whos"
   ]
  },
  {
   "cell_type": "code",
   "execution_count": 9,
   "id": "8557e692-9362-450d-9216-451ba60fb89a",
   "metadata": {},
   "outputs": [
    {
     "name": "stdout",
     "output_type": "stream",
     "text": [
      "True\n"
     ]
    }
   ],
   "source": [
    "print(\"at\" in \"sdaljhdkjatiu\")"
   ]
  },
  {
   "cell_type": "code",
   "execution_count": 11,
   "id": "082fb18a-8db6-4d8f-aee7-25f2931d986c",
   "metadata": {},
   "outputs": [
    {
     "name": "stdout",
     "output_type": "stream",
     "text": [
      "False\n"
     ]
    }
   ],
   "source": [
    "print(\"p\" not in \"python\")"
   ]
  },
  {
   "cell_type": "code",
   "execution_count": 13,
   "id": "d470b077-abfc-4da1-a8e3-835a67de5d09",
   "metadata": {},
   "outputs": [
    {
     "data": {
      "text/plain": [
       "'we are leaning\"strings\"here.'"
      ]
     },
     "execution_count": 13,
     "metadata": {},
     "output_type": "execute_result"
    }
   ],
   "source": [
    "\"we are leaning\\\"strings\\\"here.\""
   ]
  },
  {
   "cell_type": "code",
   "execution_count": 15,
   "id": "5803ed38-aaea-491d-888a-f3f8c3e7aa48",
   "metadata": {},
   "outputs": [
    {
     "data": {
      "text/plain": [
       "'we are learning \"strings\" here.'"
      ]
     },
     "execution_count": 15,
     "metadata": {},
     "output_type": "execute_result"
    }
   ],
   "source": [
    "'we are learning \"strings\" here.'"
   ]
  },
  {
   "cell_type": "code",
   "execution_count": 17,
   "id": "5093c655-d7b5-462b-94b2-bc55f2c2d06a",
   "metadata": {},
   "outputs": [
    {
     "name": "stdout",
     "output_type": "stream",
     "text": [
      "c:\\drive\\name\n"
     ]
    }
   ],
   "source": [
    "print(r\"c:\\drive\\name\")"
   ]
  },
  {
   "cell_type": "code",
   "execution_count": 19,
   "id": "7e616734-4289-425e-984b-6b45ec2bcdbc",
   "metadata": {},
   "outputs": [
    {
     "name": "stdout",
     "output_type": "stream",
     "text": [
      "c:\\drive\\name\n"
     ]
    }
   ],
   "source": [
    "print(r\"c:\\drive\\name\")"
   ]
  },
  {
   "cell_type": "code",
   "execution_count": 21,
   "id": "f9352720-1473-40e2-bac2-12ef406739b2",
   "metadata": {},
   "outputs": [
    {
     "data": {
      "text/plain": [
       "True"
      ]
     },
     "execution_count": 21,
     "metadata": {},
     "output_type": "execute_result"
    }
   ],
   "source": [
    "\"a\"==\"a\""
   ]
  },
  {
   "cell_type": "code",
   "execution_count": 23,
   "id": "52a0b3be-adf4-4ed2-accf-6b3dd012c677",
   "metadata": {},
   "outputs": [
    {
     "data": {
      "text/plain": [
       "False"
      ]
     },
     "execution_count": 23,
     "metadata": {},
     "output_type": "execute_result"
    }
   ],
   "source": [
    "\"ad\">\"er\""
   ]
  },
  {
   "attachments": {
    "94860f38-87ad-46b1-ac09-2651eed9453b.png": {
     "image/png": "[encoded data removed]"
    }
   },
   "cell_type": "markdown",
   "id": "a84bf3ab-3287-4f85-8a58-1ec491c9cb1c",
   "metadata": {},
   "source": [
    "![Screenshot 2024-11-17 202632.png](attachment:94860f38-87ad-46b1-ac09-2651eed9453b.png)"
   ]
  },
  {
   "cell_type": "code",
   "execution_count": 28,
   "id": "f6a1e995-4985-46e8-b83a-c31c289076f7",
   "metadata": {},
   "outputs": [
    {
     "name": "stdout",
     "output_type": "stream",
     "text": [
      "test\n",
      "True\n",
      "test\n"
     ]
    }
   ],
   "source": [
    "# List \n",
    "L=[6,3.34,-4,\"test\" ,True]\n",
    "print(L[3]) # access with index\n",
    "\n",
    "#__________________________________\n",
    "# Tuple\n",
    "T=(6,3.34,-4,\"test\" ,True)\n",
    "print(T[4]) # access with index\n",
    "\n",
    "#__________________________________\n",
    "# Set\n",
    "S={6,3.34,-4,\"test\" ,True}\n",
    "#we dont have access to elments inside set , directly. it is unordered\n",
    "#__________________________________\n",
    "# Dictionary\n",
    "D={\"key1\" :\"test\" , \"key2\" : 46, 23:23}\n",
    "print(D[\"key1\"]) # access with key\n",
    "\n"
   ]
  },
  {
   "cell_type": "code",
   "execution_count": 30,
   "id": "bdfb118d-bb6d-417b-86d1-7a47ef9de977",
   "metadata": {},
   "outputs": [],
   "source": [
    "L = L+[\"how\" ,\"are \",\"you\"] "
   ]
  },
  {
   "cell_type": "code",
   "execution_count": 32,
   "id": "faa753fa-5106-4dae-94be-b51a8ced4997",
   "metadata": {},
   "outputs": [
    {
     "name": "stdout",
     "output_type": "stream",
     "text": [
      "[6, 3.34, -4, 'test', True, 'how', 'are ', 'you']\n"
     ]
    }
   ],
   "source": [
    "print(L)"
   ]
  },
  {
   "cell_type": "code",
   "execution_count": 34,
   "id": "cc407d80-2e86-4914-9265-184056f3e2d9",
   "metadata": {},
   "outputs": [],
   "source": [
    "L.append(6)"
   ]
  },
  {
   "cell_type": "code",
   "execution_count": 38,
   "id": "ac17fd17-b06c-4b70-ac62-30b5efc77d30",
   "metadata": {},
   "outputs": [
    {
     "name": "stdout",
     "output_type": "stream",
     "text": [
      "[6, 3.34, -4, 'test', True, 'how', 'are ', 'you', 6]\n"
     ]
    }
   ],
   "source": [
    "print(L)"
   ]
  },
  {
   "cell_type": "code",
   "execution_count": 40,
   "id": "70e10cf8-0d3e-4014-9921-e28fb984340e",
   "metadata": {},
   "outputs": [
    {
     "name": "stdout",
     "output_type": "stream",
     "text": [
      "(6, 3.34, -4, 'test', True, 'a', 'b', 7, 5)\n"
     ]
    }
   ],
   "source": [
    "T2=('a','b' ,7 ,5)\n",
    "T3=T+T2\n",
    "print(T3)"
   ]
  },
  {
   "cell_type": "code",
   "execution_count": 42,
   "id": "d62b5d22-23b5-4dd9-a420-f2445b0b94c6",
   "metadata": {},
   "outputs": [],
   "source": [
    "S.add(4)"
   ]
  },
  {
   "cell_type": "code",
   "execution_count": 46,
   "id": "d9260f73-1320-41f9-8e40-157dce763f84",
   "metadata": {},
   "outputs": [
    {
     "name": "stdout",
     "output_type": "stream",
     "text": [
      "{32, True, 'test', 3.34, 4, 6, 'game', -4}\n"
     ]
    }
   ],
   "source": [
    "S.update({32,\"game\"})\n",
    "print(S)"
   ]
  },
  {
   "cell_type": "code",
   "execution_count": 48,
   "id": "75b3c0d7-3353-4f03-b26a-0ee4e9b4645f",
   "metadata": {},
   "outputs": [
    {
     "name": "stdout",
     "output_type": "stream",
     "text": [
      "{'key1': 'test', 'key2': 46, 23: 23, 'newKey': 'newValue'}\n"
     ]
    }
   ],
   "source": [
    "D['newKey'] ='newValue'\n",
    "print(D)"
   ]
  },
  {
   "cell_type": "code",
   "execution_count": 52,
   "id": "54ce2df2-8a5a-4063-a37d-84e7bd5489d2",
   "metadata": {},
   "outputs": [
    {
     "name": "stdout",
     "output_type": "stream",
     "text": [
      "[6, 3.34, -4]\n"
     ]
    }
   ],
   "source": [
    "del L[3:]\n",
    "print(L)"
   ]
  },
  {
   "cell_type": "code",
   "execution_count": 62,
   "id": "35d3a9a9-4f2c-429e-b60a-5af946f977e1",
   "metadata": {},
   "outputs": [
    {
     "name": "stdout",
     "output_type": "stream",
     "text": [
      "{32, True, 3.34, 4, 6, -4}\n"
     ]
    }
   ],
   "source": [
    "S.remove(\"game\")\n",
    "print(S)"
   ]
  },
  {
   "cell_type": "code",
   "execution_count": 64,
   "id": "fd636aad-9ac8-40c4-9b5b-473f1d87a451",
   "metadata": {},
   "outputs": [
    {
     "name": "stdout",
     "output_type": "stream",
     "text": [
      "{'key1': 'test', 'key2': 46, 23: 23}\n"
     ]
    }
   ],
   "source": [
    "del D[\"newKey\"]\n",
    "print(D)"
   ]
  },
  {
   "cell_type": "code",
   "execution_count": 66,
   "id": "033a893c-5bc8-4f0b-aa17-b5144366d8c0",
   "metadata": {},
   "outputs": [
    {
     "name": "stdout",
     "output_type": "stream",
     "text": [
      "{'key1': 'test', 'key2': 46, 23: 23, 1: 1, 2: 2, 3: 3}\n"
     ]
    }
   ],
   "source": [
    "D2={1:1 ,2:2 ,3:3}\n",
    "D.update(D2)\n",
    "print(D)"
   ]
  },
  {
   "cell_type": "markdown",
   "id": "fc5d7e88-6be9-442a-a473-f41a48875cbc",
   "metadata": {},
   "source": [
    "### Shallow Copy"
   ]
  },
  {
   "cell_type": "code",
   "execution_count": 69,
   "id": "c70e21db-9d8a-4be9-876f-5e6ea5f8b538",
   "metadata": {},
   "outputs": [],
   "source": [
    "L2 = L"
   ]
  },
  {
   "cell_type": "code",
   "execution_count": 73,
   "id": "9443b6b3-0c3c-48a2-ac9c-99e46f1e9eda",
   "metadata": {},
   "outputs": [
    {
     "name": "stdout",
     "output_type": "stream",
     "text": [
      "[6, 3.34, -4] [6, 3.34, -4]\n"
     ]
    }
   ],
   "source": [
    "print(L2, L)"
   ]
  },
  {
   "cell_type": "code",
   "execution_count": 75,
   "id": "cae4903d-3601-4fe0-b6a0-b92db95b6215",
   "metadata": {},
   "outputs": [
    {
     "name": "stdout",
     "output_type": "stream",
     "text": [
      "[6, 3.34, -4, True] [6, 3.34, -4, True]\n"
     ]
    }
   ],
   "source": [
    "L.append(True)\n",
    "print(L2, L)"
   ]
  },
  {
   "cell_type": "markdown",
   "id": "9c316fb8-9507-491a-9474-1c3cfe5aa520",
   "metadata": {},
   "source": [
    "###  Deep Copy"
   ]
  },
  {
   "cell_type": "code",
   "execution_count": 79,
   "id": "03c12423-f68d-485a-a5c9-c2cdef4bcfc0",
   "metadata": {},
   "outputs": [],
   "source": [
    "L3= L.copy()"
   ]
  },
  {
   "cell_type": "code",
   "execution_count": 81,
   "id": "ec2b98a5-6a03-4f06-bc6e-37e6f594b371",
   "metadata": {},
   "outputs": [
    {
     "name": "stdout",
     "output_type": "stream",
     "text": [
      "[6, 3.34, -4, True] [6, 3.34, -4, True]\n"
     ]
    }
   ],
   "source": [
    "print(L,L3)"
   ]
  },
  {
   "cell_type": "code",
   "execution_count": 83,
   "id": "919c24b5-291e-4da4-b980-595db11a4ec8",
   "metadata": {},
   "outputs": [
    {
     "name": "stdout",
     "output_type": "stream",
     "text": [
      "[6, 3.34, -4] [6, 3.34, -4, True]\n"
     ]
    }
   ],
   "source": [
    "L.pop()\n",
    "print(L,L3)"
   ]
  },
  {
   "cell_type": "code",
   "execution_count": 85,
   "id": "196778d3-0823-4426-9d43-a612e0370d25",
   "metadata": {},
   "outputs": [],
   "source": [
    "D = {\"list\":L , \"tuple\":T, \"set\":S , \"dict\":D2}"
   ]
  },
  {
   "cell_type": "code",
   "execution_count": 89,
   "id": "5f867e1d-d939-4173-bc0a-141a93089efe",
   "metadata": {},
   "outputs": [
    {
     "data": {
      "text/plain": [
       "3.34"
      ]
     },
     "execution_count": 89,
     "metadata": {},
     "output_type": "execute_result"
    }
   ],
   "source": [
    "D[\"list\"][1]"
   ]
  },
  {
   "cell_type": "code",
   "execution_count": 91,
   "id": "1c201673-6aac-4f7d-a559-cc373db45daf",
   "metadata": {},
   "outputs": [
    {
     "data": {
      "text/plain": [
       "[0, 1, 4, 9, 16, 25, 36, 49, 64, 81]"
      ]
     },
     "execution_count": 91,
     "metadata": {},
     "output_type": "execute_result"
    }
   ],
   "source": [
    "L3 = [x**2 for x in range(10)]\n",
    "L3"
   ]
  },
  {
   "cell_type": "code",
   "execution_count": 97,
   "id": "2510cdad-6f41-4a16-bded-7783ec4abab5",
   "metadata": {},
   "outputs": [],
   "source": [
    "S3={x**2 for x in range(2,20,2)}"
   ]
  },
  {
   "cell_type": "code",
   "execution_count": 99,
   "id": "e9b569f7-ed7b-4314-90f5-184f3142ae49",
   "metadata": {},
   "outputs": [
    {
     "data": {
      "text/plain": [
       "{4, 16, 36, 64, 100, 144, 196, 256, 324}"
      ]
     },
     "execution_count": 99,
     "metadata": {},
     "output_type": "execute_result"
    }
   ],
   "source": [
    "S3\n"
   ]
  },
  {
   "cell_type": "markdown",
   "id": "21b3caad-084e-4432-b06e-4b3b7b415b91",
   "metadata": {},
   "source": [
    "#### parctice "
   ]
  },
  {
   "cell_type": "code",
   "execution_count": 102,
   "id": "5427f820-56b7-4b06-b4b9-9e5c58c3db60",
   "metadata": {},
   "outputs": [
    {
     "name": "stdin",
     "output_type": "stream",
     "text": [
      "Enter the ID. 1\n",
      "Enter the marks by comma seperated values : 12,3,14,48\n",
      "keep adding? y/n n\n"
     ]
    }
   ],
   "source": [
    "def getData():\n",
    "    d={}\n",
    "    while True :\n",
    "        studentId = input(\"Enter the ID.\")\n",
    "        marksList = input(\"Enter the marks by comma seperated values :\")\n",
    "        moreSteudent = input(\"keep adding? y/n\")\n",
    "        if studentId in d:\n",
    "            print(\"Student already exist.\")\n",
    "        else:\n",
    "            d[studentId] = marksList.split(\",\")\n",
    "        if moreSteudent.lower() == \"n\":\n",
    "            return d\n",
    "\n",
    "\n",
    "studentData = getData()"
   ]
  },
  {
   "cell_type": "code",
   "execution_count": 106,
   "id": "ce417ded-5c92-409d-ad9c-adf4d2710482",
   "metadata": {},
   "outputs": [
    {
     "name": "stdout",
     "output_type": "stream",
     "text": [
      "{'1': ['12', '3', '14', '48']}\n"
     ]
    }
   ],
   "source": [
    "print(studentData)"
   ]
  },
  {
   "cell_type": "code",
   "execution_count": 114,
   "id": "1587f66b-80ca-4db9-a68b-fffacc74881c",
   "metadata": {},
   "outputs": [
    {
     "name": "stdout",
     "output_type": "stream",
     "text": [
      "{'1': 19.25}\n"
     ]
    }
   ],
   "source": [
    "def getAvrg(d):\n",
    "    avrgMarkDict ={}\n",
    "    for x in d:\n",
    "        l = d[x]\n",
    "        s=0\n",
    "        for marks in l :\n",
    "            s+=int(marks)\n",
    "        avrgMarkDict[x] = s/len(l)    \n",
    "    return avrgMarkDict\n",
    "\n",
    "avg=getAvrg(studentData)\n",
    "print(avg)           "
   ]
  },
  {
   "cell_type": "code",
   "execution_count": null,
   "id": "02a48a18-2c28-4550-9da5-4372a53497fa",
   "metadata": {},
   "outputs": [],
   "source": []
  }
 ],
 "metadata": {
  "kernelspec": {
   "display_name": "Python 3 (ipykernel)",
   "language": "python",
   "name": "python3"
  },
  "language_info": {
   "codemirror_mode": {
    "name": "ipython",
    "version": 3
   },
   "file_extension": ".py",
   "mimetype": "text/x-python",
   "name": "python",
   "nbconvert_exporter": "python",
   "pygments_lexer": "ipython3",
   "version": "3.12.7"
  }
 },
 "nbformat": 4,
 "nbformat_minor": 5
}
