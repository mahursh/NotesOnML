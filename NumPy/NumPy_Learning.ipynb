{
 "cells": [
  {
   "cell_type": "markdown",
   "id": "f26c9dc7-66ab-4940-a546-1b2c4f63b0ba",
   "metadata": {},
   "source": [
    "# NumPy"
   ]
  },
  {
   "cell_type": "markdown",
   "id": "cb8e3cc6-d778-4ce8-995e-7dd1d96f7734",
   "metadata": {},
   "source": [
    "### numpy list is much faster that python list"
   ]
  },
  {
   "cell_type": "code",
   "execution_count": 5,
   "id": "b54e461d-837c-48e9-a40a-9cad1b849db0",
   "metadata": {},
   "outputs": [
    {
     "name": "stdout",
     "output_type": "stream",
     "text": [
      "[1 2 3 4 5]\n",
      "[1. 6. 3. 4. 9.]\n"
     ]
    }
   ],
   "source": [
    "import numpy as np\n",
    "\n",
    "a = np.array([1,2,3,4,5],dtype='i')\n",
    "b = np.array((1,6,3,4,9),dtype='f')\n",
    "print(a)\n",
    "print(b)"
   ]
  },
  {
   "cell_type": "code",
   "execution_count": 5,
   "id": "64ce7b5e-5ba9-4e3e-a1f1-3aef15295cae",
   "metadata": {},
   "outputs": [
    {
     "data": {
      "text/plain": [
       "numpy.ndarray"
      ]
     },
     "execution_count": 5,
     "metadata": {},
     "output_type": "execute_result"
    }
   ],
   "source": [
    "type(a)\n",
    "type(b)"
   ]
  },
  {
   "cell_type": "code",
   "execution_count": 7,
   "id": "c27ef875-8b3c-4175-85a7-a6b6ffa8403d",
   "metadata": {},
   "outputs": [
    {
     "data": {
      "text/plain": [
       "dtype('int32')"
      ]
     },
     "execution_count": 7,
     "metadata": {},
     "output_type": "execute_result"
    }
   ],
   "source": [
    "a.dtype"
   ]
  },
  {
   "cell_type": "code",
   "execution_count": 9,
   "id": "29a1707b-cb28-44a4-b19b-24619e8f4c22",
   "metadata": {},
   "outputs": [
    {
     "data": {
      "text/plain": [
       "dtype('float32')"
      ]
     },
     "execution_count": 9,
     "metadata": {},
     "output_type": "execute_result"
    }
   ],
   "source": [
    "b.dtype"
   ]
  },
  {
   "cell_type": "markdown",
   "id": "b770406c-f750-4c40-a467-718a2499b23d",
   "metadata": {},
   "source": [
    "----------------------------------------\n",
    "### Demensions "
   ]
  },
  {
   "cell_type": "code",
   "execution_count": 14,
   "id": "cac5d178-3f56-4b07-8951-0e3d722be7fc",
   "metadata": {},
   "outputs": [
    {
     "name": "stdout",
     "output_type": "stream",
     "text": [
      "2\n"
     ]
    }
   ],
   "source": [
    "c = np.array([[1,2,3] , [4,5,6]])\n",
    "print(c.ndim)"
   ]
  },
  {
   "cell_type": "code",
   "execution_count": 16,
   "id": "0bb31423-f9f0-418e-a746-c0f8b0fe1640",
   "metadata": {},
   "outputs": [
    {
     "name": "stdout",
     "output_type": "stream",
     "text": [
      "[[[1 2 3]\n",
      "  [4 5 6]]\n",
      "\n",
      " [[1 2 3]\n",
      "  [4 5 6]]]\n",
      "3\n"
     ]
    }
   ],
   "source": [
    "d = np.array([[[1,2,3] ,[4,5,6]],[[1,2,3],[4,5,6]]])\n",
    "print(d)\n",
    "print(d.ndim)"
   ]
  },
  {
   "cell_type": "code",
   "execution_count": 20,
   "id": "bc247172-bc82-4422-a475-67e3a60949d6",
   "metadata": {},
   "outputs": [
    {
     "name": "stdout",
     "output_type": "stream",
     "text": [
      "2 2 3\n",
      "3\n"
     ]
    }
   ],
   "source": [
    "print(d.shape[0] , d.shape[1] , d.shape[2])\n",
    "print(d[1,0,2])"
   ]
  },
  {
   "cell_type": "code",
   "execution_count": 22,
   "id": "fae3e165-0318-4752-86e9-5505074a24ac",
   "metadata": {},
   "outputs": [
    {
     "name": "stdout",
     "output_type": "stream",
     "text": [
      "4\n"
     ]
    }
   ],
   "source": [
    "print(d[0][1][0])"
   ]
  },
  {
   "cell_type": "code",
   "execution_count": 24,
   "id": "f96e086d-4edc-4b73-9836-2ab188846a22",
   "metadata": {},
   "outputs": [
    {
     "name": "stdout",
     "output_type": "stream",
     "text": [
      "4\n"
     ]
    }
   ],
   "source": [
    "print(d[0,1,0])"
   ]
  },
  {
   "cell_type": "code",
   "execution_count": 30,
   "id": "2587eef4-58e2-49f8-a527-f0bed65241a0",
   "metadata": {},
   "outputs": [
    {
     "ename": "ValueError",
     "evalue": "setting an array element with a sequence. The requested array has an inhomogeneous shape after 1 dimensions. The detected shape was (2,) + inhomogeneous part.",
     "output_type": "error",
     "traceback": [
      "\u001b[1;31m---------------------------------------------------------------------------\u001b[0m",
      "\u001b[1;31mValueError\u001b[0m                                Traceback (most recent call last)",
      "Cell \u001b[1;32mIn[30], line 1\u001b[0m\n\u001b[1;32m----> 1\u001b[0m c\u001b[38;5;241m=\u001b[39m np\u001b[38;5;241m.\u001b[39marray([[\u001b[38;5;241m1\u001b[39m,\u001b[38;5;241m2\u001b[39m],[\u001b[38;5;241m1\u001b[39m,\u001b[38;5;241m2\u001b[39m,\u001b[38;5;241m3\u001b[39m]])\n",
      "\u001b[1;31mValueError\u001b[0m: setting an array element with a sequence. The requested array has an inhomogeneous shape after 1 dimensions. The detected shape was (2,) + inhomogeneous part."
     ]
    }
   ],
   "source": [
    "c= np.array([[1,2],[1,2,3]])"
   ]
  },
  {
   "cell_type": "code",
   "execution_count": 51,
   "id": "ef1f3cbd-2a0b-4295-9adf-84ce1ef71ab9",
   "metadata": {},
   "outputs": [],
   "source": [
    "c = np.array([[[1,2,3],[4,5,6],[0,0,-1]], [[-1,-2,-3],[-4,-5,-6],[0,0,1]]])"
   ]
  },
  {
   "cell_type": "code",
   "execution_count": 34,
   "id": "1b4fc0c5-4099-42c3-95b9-025f4ed975ab",
   "metadata": {},
   "outputs": [
    {
     "data": {
      "text/plain": [
       "3"
      ]
     },
     "execution_count": 34,
     "metadata": {},
     "output_type": "execute_result"
    }
   ],
   "source": [
    "c.ndim"
   ]
  },
  {
   "cell_type": "code",
   "execution_count": 36,
   "id": "78f4b8f7-d61a-4c04-ade8-21f28c9680d7",
   "metadata": {},
   "outputs": [
    {
     "data": {
      "text/plain": [
       "numpy.ndarray"
      ]
     },
     "execution_count": 36,
     "metadata": {},
     "output_type": "execute_result"
    }
   ],
   "source": [
    "type(c)"
   ]
  },
  {
   "cell_type": "markdown",
   "id": "629bc5c9-9e12-4f41-8015-f7bfc2e20915",
   "metadata": {},
   "source": [
    "----------------------------------------\n",
    "### shape  "
   ]
  },
  {
   "cell_type": "markdown",
   "id": "d8a9ce46-cd0c-4107-9317-bb21574a7693",
   "metadata": {},
   "source": [
    "#### $*$ The shape of an array is the number of elements in each dimension."
   ]
  },
  {
   "cell_type": "code",
   "execution_count": 38,
   "id": "cd406b9a-1c5d-46a8-a6d9-86d979b7d141",
   "metadata": {},
   "outputs": [
    {
     "name": "stdout",
     "output_type": "stream",
     "text": [
      "Help on _ArrayFunctionDispatcher in module numpy:\n",
      "\n",
      "shape(a)\n",
      "    Return the shape of an array.\n",
      "\n",
      "    Parameters\n",
      "    ----------\n",
      "    a : array_like\n",
      "        Input array.\n",
      "\n",
      "    Returns\n",
      "    -------\n",
      "    shape : tuple of ints\n",
      "        The elements of the shape tuple give the lengths of the\n",
      "        corresponding array dimensions.\n",
      "\n",
      "    See Also\n",
      "    --------\n",
      "    len : ``len(a)`` is equivalent to ``np.shape(a)[0]`` for N-D arrays with\n",
      "          ``N>=1``.\n",
      "    ndarray.shape : Equivalent array method.\n",
      "\n",
      "    Examples\n",
      "    --------\n",
      "    >>> np.shape(np.eye(3))\n",
      "    (3, 3)\n",
      "    >>> np.shape([[1, 3]])\n",
      "    (1, 2)\n",
      "    >>> np.shape([0])\n",
      "    (1,)\n",
      "    >>> np.shape(0)\n",
      "    ()\n",
      "\n",
      "    >>> a = np.array([(1, 2), (3, 4), (5, 6)],\n",
      "    ...              dtype=[('x', 'i4'), ('y', 'i4')])\n",
      "    >>> np.shape(a)\n",
      "    (3,)\n",
      "    >>> a.shape\n",
      "    (3,)\n",
      "\n"
     ]
    }
   ],
   "source": [
    "help(np.shape)"
   ]
  },
  {
   "cell_type": "code",
   "execution_count": 40,
   "id": "fc8d2c73-9faa-4347-9f42-76cc3b58cd99",
   "metadata": {},
   "outputs": [
    {
     "data": {
      "text/plain": [
       "(2, 3, 3)"
      ]
     },
     "execution_count": 40,
     "metadata": {},
     "output_type": "execute_result"
    }
   ],
   "source": [
    "c.shape"
   ]
  },
  {
   "cell_type": "code",
   "execution_count": 44,
   "id": "6f4352d8-160d-405b-b281-b790cdc03447",
   "metadata": {},
   "outputs": [
    {
     "data": {
      "text/plain": [
       "3"
      ]
     },
     "execution_count": 44,
     "metadata": {},
     "output_type": "execute_result"
    }
   ],
   "source": [
    "c.shape[1]"
   ]
  },
  {
   "cell_type": "code",
   "execution_count": 46,
   "id": "8a5e3f43-4272-4935-b36c-bc4e5a69be07",
   "metadata": {},
   "outputs": [
    {
     "data": {
      "text/plain": [
       "3"
      ]
     },
     "execution_count": 46,
     "metadata": {},
     "output_type": "execute_result"
    }
   ],
   "source": [
    "c.ndim"
   ]
  },
  {
   "cell_type": "code",
   "execution_count": 61,
   "id": "aea9b76e-eddd-4d59-915e-18326d7ae4fc",
   "metadata": {},
   "outputs": [
    {
     "name": "stdout",
     "output_type": "stream",
     "text": [
      "(1, 1, 2, 3)\n",
      "4\n"
     ]
    }
   ],
   "source": [
    "e = np.array([[[[1,2,3],[1,2,3]]]])\n",
    "print(e.shape)\n",
    "print(e.ndim)"
   ]
  },
  {
   "cell_type": "code",
   "execution_count": 63,
   "id": "185f4b3c-b939-4cfa-914b-543e11940f16",
   "metadata": {},
   "outputs": [
    {
     "data": {
      "text/plain": [
       "1"
      ]
     },
     "execution_count": 63,
     "metadata": {},
     "output_type": "execute_result"
    }
   ],
   "source": [
    "f = np.array([2])\n",
    "f.ndim"
   ]
  },
  {
   "cell_type": "code",
   "execution_count": 65,
   "id": "3ff42903-efd7-4d72-b905-ec77f511a17f",
   "metadata": {},
   "outputs": [],
   "source": [
    "g = np.array(3)"
   ]
  },
  {
   "cell_type": "code",
   "execution_count": 67,
   "id": "1b2b2996-e043-43c0-857b-666329fab5e1",
   "metadata": {},
   "outputs": [
    {
     "data": {
      "text/plain": [
       "0"
      ]
     },
     "execution_count": 67,
     "metadata": {},
     "output_type": "execute_result"
    }
   ],
   "source": [
    "g.ndim"
   ]
  },
  {
   "cell_type": "markdown",
   "id": "e3a749a6-4015-4b0a-a797-cbf0add0192b",
   "metadata": {},
   "source": [
    "----------------------------------------\n",
    "### size "
   ]
  },
  {
   "cell_type": "markdown",
   "id": "5762c9a6-1f44-45c8-808a-0e8a0a584b87",
   "metadata": {},
   "source": [
    "#### $*$ Gives the total number of elements ."
   ]
  },
  {
   "cell_type": "code",
   "execution_count": 77,
   "id": "8ee14006-ab74-4bdc-b81c-745f81359a4b",
   "metadata": {},
   "outputs": [
    {
     "name": "stdout",
     "output_type": "stream",
     "text": [
      "1\n",
      "1\n",
      "6\n",
      "12\n",
      "18\n",
      "5\n",
      "5\n"
     ]
    }
   ],
   "source": [
    "print(g.size)\n",
    "print(f.size)\n",
    "print(e.size)\n",
    "print(d.size)\n",
    "print(c.size)\n",
    "print(b.size)\n",
    "print(a.size)"
   ]
  },
  {
   "cell_type": "markdown",
   "id": "1058a00d-27ab-4095-aac6-d9dabb23b845",
   "metadata": {},
   "source": [
    "----------------------------------------\n",
    "### nbytes\n",
    "\n"
   ]
  },
  {
   "cell_type": "markdown",
   "id": "7507679d-3492-4b7b-9003-44f086b91c55",
   "metadata": {},
   "source": [
    "#### $*$The number of bytes that it takes in memory"
   ]
  },
  {
   "cell_type": "code",
   "execution_count": 75,
   "id": "d2853c3b-5ecd-440f-b5dc-d13a66af4762",
   "metadata": {},
   "outputs": [
    {
     "name": "stdout",
     "output_type": "stream",
     "text": [
      "4\n",
      "4\n",
      "24\n",
      "48\n",
      "72\n",
      "20\n",
      "20\n"
     ]
    }
   ],
   "source": [
    "print(g.nbytes)\n",
    "print(f.nbytes)\n",
    "print(e.nbytes)\n",
    "print(d.nbytes)\n",
    "print(c.nbytes)\n",
    "print(b.nbytes)\n",
    "print(a.nbytes)"
   ]
  },
  {
   "cell_type": "markdown",
   "id": "6254cc4b-de22-4736-b158-fcace0744e94",
   "metadata": {},
   "source": [
    "### arange"
   ]
  },
  {
   "cell_type": "markdown",
   "id": "b17268f1-c96d-4f98-a919-37ca4ebeada0",
   "metadata": {},
   "source": [
    "#### arange(start, stop, step,, dtype) : Returns an array with evenly spaced elements as per the interval. "
   ]
  },
  {
   "cell_type": "code",
   "execution_count": 7,
   "id": "a61757e3-a097-4484-be79-7caf0550ae14",
   "metadata": {},
   "outputs": [],
   "source": [
    "a = np.arange(100)"
   ]
  },
  {
   "cell_type": "code",
   "execution_count": 11,
   "id": "0065aef0-34b6-4e3b-b75f-e80626548dfc",
   "metadata": {},
   "outputs": [
    {
     "name": "stdout",
     "output_type": "stream",
     "text": [
      "[ 0  1  2  3  4  5  6  7  8  9 10 11 12 13 14 15 16 17 18 19 20 21 22 23\n",
      " 24 25 26 27 28 29 30 31 32 33 34 35 36 37 38 39 40 41 42 43 44 45 46 47\n",
      " 48 49 50 51 52 53 54 55 56 57 58 59 60 61 62 63 64 65 66 67 68 69 70 71\n",
      " 72 73 74 75 76 77 78 79 80 81 82 83 84 85 86 87 88 89 90 91 92 93 94 95\n",
      " 96 97 98 99]\n"
     ]
    }
   ],
   "source": [
    "print(a)"
   ]
  },
  {
   "cell_type": "code",
   "execution_count": 15,
   "id": "a6898346-23f8-4e5e-9a82-c39e136d627c",
   "metadata": {},
   "outputs": [],
   "source": [
    "a = np.arange(20,100,4,'float32')"
   ]
  },
  {
   "cell_type": "code",
   "execution_count": 17,
   "id": "14393c33-eac3-4cbc-b9dd-3b4dd9d03366",
   "metadata": {},
   "outputs": [
    {
     "name": "stdout",
     "output_type": "stream",
     "text": [
      "[20. 24. 28. 32. 36. 40. 44. 48. 52. 56. 60. 64. 68. 72. 76. 80. 84. 88.\n",
      " 92. 96.]\n"
     ]
    }
   ],
   "source": [
    "print(a)"
   ]
  },
  {
   "cell_type": "markdown",
   "id": "3a9e1b00-d7db-489f-a2bb-1055ff9caf45",
   "metadata": {},
   "source": [
    "### random"
   ]
  },
  {
   "cell_type": "code",
   "execution_count": 5,
   "id": "ae235db0-6727-4de0-b621-b33f9da62b61",
   "metadata": {},
   "outputs": [
    {
     "name": "stdout",
     "output_type": "stream",
     "text": [
      "91\n"
     ]
    }
   ],
   "source": [
    "from numpy import random\n",
    "x = random.randint(100)\n",
    "print(x) "
   ]
  },
  {
   "cell_type": "code",
   "execution_count": 48,
   "id": "0072b55c-8df5-4e90-a10c-7a083bdc1734",
   "metadata": {},
   "outputs": [
    {
     "name": "stdout",
     "output_type": "stream",
     "text": [
      "[66 92 75 45 44]\n"
     ]
    }
   ],
   "source": [
    "x = random.randint(100, size=(5))\n",
    "print(x)"
   ]
  },
  {
   "cell_type": "code",
   "execution_count": 50,
   "id": "87ffd6e2-a87f-416b-9850-95aa1bcd587d",
   "metadata": {},
   "outputs": [
    {
     "name": "stdout",
     "output_type": "stream",
     "text": [
      "[[12 99 70 48  4]\n",
      " [53 64 22 24 50]\n",
      " [30 62 36 46 11]]\n"
     ]
    }
   ],
   "source": [
    "x = random.randint(100, size=(3, 5))\n",
    "print(x)"
   ]
  },
  {
   "cell_type": "code",
   "execution_count": 74,
   "id": "c8a2c1c7-cdf7-48c2-93a9-64290a046816",
   "metadata": {},
   "outputs": [
    {
     "name": "stdout",
     "output_type": "stream",
     "text": [
      "[0.54978589 0.30809422 0.90717483 0.43686087 0.04850644 0.13160317\n",
      " 0.64484335 0.28514687 0.53248315 0.50859871]\n"
     ]
    }
   ],
   "source": [
    "x = random.rand(10)\n",
    "print(x)"
   ]
  },
  {
   "cell_type": "code",
   "execution_count": 52,
   "id": "ea71c301-bfe5-492d-9810-b78af4ad1021",
   "metadata": {},
   "outputs": [
    {
     "name": "stdout",
     "output_type": "stream",
     "text": [
      "[[0.60545603 0.13934186 0.48933363 0.7203497  0.1732698 ]\n",
      " [0.67059157 0.43349478 0.46797112 0.82435309 0.2523013 ]\n",
      " [0.29625651 0.21425571 0.9607617  0.30893662 0.82758895]]\n"
     ]
    }
   ],
   "source": [
    "x = random.rand(3, 5)\n",
    "print(x)"
   ]
  },
  {
   "cell_type": "code",
   "execution_count": 56,
   "id": "69f040a8-4be3-4b7d-b122-2f7557577bb9",
   "metadata": {},
   "outputs": [
    {
     "name": "stdout",
     "output_type": "stream",
     "text": [
      "3\n"
     ]
    }
   ],
   "source": [
    "x = random.choice([3, 5, 7, 9])\n",
    "print(x)"
   ]
  },
  {
   "cell_type": "code",
   "execution_count": 58,
   "id": "3be2296d-66ff-4a9d-9aa1-7c6d52607b78",
   "metadata": {},
   "outputs": [
    {
     "name": "stdout",
     "output_type": "stream",
     "text": [
      "[[7 5 3 7 5]\n",
      " [7 7 9 5 9]\n",
      " [7 7 7 7 5]]\n"
     ]
    }
   ],
   "source": [
    "x = random.choice([3, 5, 7, 9], size=(3, 5))\n",
    "print(x)"
   ]
  },
  {
   "cell_type": "code",
   "execution_count": 80,
   "id": "50c8e428-ef53-4d69-b88b-d6cb6646533f",
   "metadata": {},
   "outputs": [
    {
     "name": "stdout",
     "output_type": "stream",
     "text": [
      "[-0.97888345 -0.79536492 -0.67426448  0.81977847  0.51197223 -1.02094928\n",
      " -0.06235829 -0.41682735 -1.01111964  1.05155149]\n"
     ]
    }
   ],
   "source": [
    "B = random.randn(10)\n",
    "print(B)"
   ]
  },
  {
   "cell_type": "code",
   "execution_count": 82,
   "id": "3b6603ea-d973-4d85-b8b1-62180c961ae1",
   "metadata": {},
   "outputs": [
    {
     "name": "stdout",
     "output_type": "stream",
     "text": [
      "[[[[0.69991983 0.44297422]\n",
      "   [0.68137032 0.16075331]\n",
      "   [0.81763751 0.4353439 ]\n",
      "   [0.30843444 0.63491917]]\n",
      "\n",
      "  [[0.98236918 0.97956565]\n",
      "   [0.38781851 0.41128512]\n",
      "   [0.98800561 0.5685431 ]\n",
      "   [0.0256113  0.19179184]]\n",
      "\n",
      "  [[0.37856993 0.09644467]\n",
      "   [0.93561366 0.87012338]\n",
      "   [0.03263357 0.74651193]\n",
      "   [0.57748844 0.35463929]]]\n",
      "\n",
      "\n",
      " [[[0.24477976 0.10164465]\n",
      "   [0.05064284 0.10545007]\n",
      "   [0.52069016 0.23627739]\n",
      "   [0.54072417 0.62901753]]\n",
      "\n",
      "  [[0.79742042 0.59390395]\n",
      "   [0.93077873 0.39404464]\n",
      "   [0.35461336 0.1367498 ]\n",
      "   [0.15993369 0.15032652]]\n",
      "\n",
      "  [[0.07328601 0.08239671]\n",
      "   [0.19595304 0.89916789]\n",
      "   [0.7286973  0.62283415]\n",
      "   [0.37536003 0.33834137]]]]\n"
     ]
    }
   ],
   "source": [
    "C  = random.rand(2,3,4,2)\n",
    "print(C)"
   ]
  },
  {
   "cell_type": "markdown",
   "id": "9f503e70-2166-44b6-93b2-30f884f7a887",
   "metadata": {},
   "source": [
    "### Permutations "
   ]
  },
  {
   "cell_type": "markdown",
   "id": "5c62462a-2a13-45c6-a6f0-694fbd272082",
   "metadata": {},
   "source": [
    "#### A permutation refers to an arrangement of elements. e.g. [3, 2, 1] is a permutation of [1, 2, 3] and vice-versa. "
   ]
  },
  {
   "cell_type": "code",
   "execution_count": 84,
   "id": "33d3f6c2-764c-424f-a9bd-ad1deb8d1201",
   "metadata": {},
   "outputs": [
    {
     "name": "stdout",
     "output_type": "stream",
     "text": [
      "[8 5 0 6 7 2 3 1 9 4]\n"
     ]
    }
   ],
   "source": [
    "A = random.permutation(np.arange(10))\n",
    "print(A)"
   ]
  },
  {
   "cell_type": "markdown",
   "id": "f889e289-ee98-432a-9fa6-14a729fb42be",
   "metadata": {},
   "source": [
    "###  reshape\n"
   ]
  },
  {
   "cell_type": "markdown",
   "id": "403af36d-8d52-4b98-87d2-14bae0e70902",
   "metadata": {},
   "source": [
    "#### Reshaping means changing the shape of an array."
   ]
  },
  {
   "cell_type": "markdown",
   "id": "be0da2a9-397d-4123-84ed-88324433bd0e",
   "metadata": {},
   "source": [
    "#### The shape of an array is the number of elements in each dimension.\n"
   ]
  },
  {
   "cell_type": "markdown",
   "id": "3c9ecf21-5dfc-4147-a961-1f423c5b7065",
   "metadata": {},
   "source": [
    "#### By reshaping we can add or remove dimensions or change number of elements in each dimension."
   ]
  },
  {
   "cell_type": "code",
   "execution_count": 86,
   "id": "6780b4a8-7ee4-4260-b67d-34e1abbc7133",
   "metadata": {},
   "outputs": [
    {
     "name": "stdout",
     "output_type": "stream",
     "text": [
      "[[ 0  1  2  3  4  5  6  7  8  9 10 11 12 13 14 15 16 17 18 19 20 21 22 23\n",
      "  24]\n",
      " [25 26 27 28 29 30 31 32 33 34 35 36 37 38 39 40 41 42 43 44 45 46 47 48\n",
      "  49]\n",
      " [50 51 52 53 54 55 56 57 58 59 60 61 62 63 64 65 66 67 68 69 70 71 72 73\n",
      "  74]\n",
      " [75 76 77 78 79 80 81 82 83 84 85 86 87 88 89 90 91 92 93 94 95 96 97 98\n",
      "  99]]\n",
      "(4, 25)\n"
     ]
    }
   ],
   "source": [
    "D = np.arange(100).reshape(4, 25)\n",
    "print(D)\n",
    "print(D.shape)"
   ]
  },
  {
   "cell_type": "code",
   "execution_count": 88,
   "id": "be36a0eb-71ce-4ce7-bfa3-411c8728b503",
   "metadata": {},
   "outputs": [
    {
     "name": "stdout",
     "output_type": "stream",
     "text": [
      "[[[ 0  1  2  3  4]\n",
      "  [ 5  6  7  8  9]\n",
      "  [10 11 12 13 14]\n",
      "  [15 16 17 18 19]\n",
      "  [20 21 22 23 24]]\n",
      "\n",
      " [[25 26 27 28 29]\n",
      "  [30 31 32 33 34]\n",
      "  [35 36 37 38 39]\n",
      "  [40 41 42 43 44]\n",
      "  [45 46 47 48 49]]\n",
      "\n",
      " [[50 51 52 53 54]\n",
      "  [55 56 57 58 59]\n",
      "  [60 61 62 63 64]\n",
      "  [65 66 67 68 69]\n",
      "  [70 71 72 73 74]]\n",
      "\n",
      " [[75 76 77 78 79]\n",
      "  [80 81 82 83 84]\n",
      "  [85 86 87 88 89]\n",
      "  [90 91 92 93 94]\n",
      "  [95 96 97 98 99]]]\n",
      "(4, 5, 5)\n"
     ]
    }
   ],
   "source": [
    "D = np.arange(100).reshape(4, 5,5)\n",
    "print(D)\n",
    "print(D.shape)"
   ]
  },
  {
   "cell_type": "markdown",
   "id": "9c8342e2-a3b1-4f47-b374-757eed6921e2",
   "metadata": {},
   "source": [
    "### Slicing"
   ]
  },
  {
   "cell_type": "code",
   "execution_count": 9,
   "id": "282ea684-1fd1-4ad8-9253-8000eede337e",
   "metadata": {},
   "outputs": [],
   "source": [
    "import numpy as np\n",
    "a = np.arange(100)\n",
    "b = a[3:10]"
   ]
  },
  {
   "cell_type": "code",
   "execution_count": 12,
   "id": "d11baf27-56b6-44cb-9704-190df99e7fa5",
   "metadata": {},
   "outputs": [
    {
     "data": {
      "text/plain": [
       "array([3, 4, 5, 6, 7, 8, 9])"
      ]
     },
     "execution_count": 12,
     "metadata": {},
     "output_type": "execute_result"
    }
   ],
   "source": [
    "b"
   ]
  },
  {
   "cell_type": "code",
   "execution_count": 14,
   "id": "f002c938-cf8c-4773-890c-b2f62d3bbfa8",
   "metadata": {},
   "outputs": [
    {
     "data": {
      "text/plain": [
       "array([-1200,     4,     5,     6,     7,     8,     9])"
      ]
     },
     "execution_count": 14,
     "metadata": {},
     "output_type": "execute_result"
    }
   ],
   "source": [
    "b[0] = -1200\n",
    "b"
   ]
  },
  {
   "cell_type": "code",
   "execution_count": 16,
   "id": "03ede0e1-9d30-43a7-9452-2df91f70330f",
   "metadata": {},
   "outputs": [
    {
     "data": {
      "text/plain": [
       "array([    0,     1,     2, -1200,     4,     5,     6,     7,     8,\n",
       "           9,    10,    11,    12,    13,    14,    15,    16,    17,\n",
       "          18,    19,    20,    21,    22,    23,    24,    25,    26,\n",
       "          27,    28,    29,    30,    31,    32,    33,    34,    35,\n",
       "          36,    37,    38,    39,    40,    41,    42,    43,    44,\n",
       "          45,    46,    47,    48,    49,    50,    51,    52,    53,\n",
       "          54,    55,    56,    57,    58,    59,    60,    61,    62,\n",
       "          63,    64,    65,    66,    67,    68,    69,    70,    71,\n",
       "          72,    73,    74,    75,    76,    77,    78,    79,    80,\n",
       "          81,    82,    83,    84,    85,    86,    87,    88,    89,\n",
       "          90,    91,    92,    93,    94,    95,    96,    97,    98,\n",
       "          99])"
      ]
     },
     "execution_count": 16,
     "metadata": {},
     "output_type": "execute_result"
    }
   ],
   "source": [
    "a"
   ]
  },
  {
   "cell_type": "code",
   "execution_count": 20,
   "id": "27a1b503-ae39-47ad-bcf0-d98710787638",
   "metadata": {},
   "outputs": [
    {
     "data": {
      "text/plain": [
       "array([ 5,  6,  7,  8,  9, 10, 11, 12, 13, 14, 15, 16, 17, 18, 19, 20])"
      ]
     },
     "execution_count": 20,
     "metadata": {},
     "output_type": "execute_result"
    }
   ],
   "source": [
    "b = a[5:21].copy()\n",
    "b"
   ]
  },
  {
   "cell_type": "code",
   "execution_count": 22,
   "id": "0c0cc113-5356-480a-a6b3-d8dd88e0a054",
   "metadata": {},
   "outputs": [
    {
     "data": {
      "text/plain": [
       "array([ 0,  5, 10, 15, 20, 25, 30, 35, 40, 45, 50, 55, 60, 65, 70, 75, 80,\n",
       "       85, 90, 95])"
      ]
     },
     "execution_count": 22,
     "metadata": {},
     "output_type": "execute_result"
    }
   ],
   "source": [
    "a[::5]"
   ]
  },
  {
   "cell_type": "code",
   "execution_count": 24,
   "id": "77663a39-dfd4-4917-bb55-55f15b081fd7",
   "metadata": {},
   "outputs": [
    {
     "data": {
      "text/plain": [
       "array([99, 94, 89, 84, 79, 74, 69, 64, 59, 54, 49, 44, 39, 34, 29, 24, 19,\n",
       "       14,  9,  4])"
      ]
     },
     "execution_count": 24,
     "metadata": {},
     "output_type": "execute_result"
    }
   ],
   "source": [
    "a[::-5]"
   ]
  },
  {
   "cell_type": "code",
   "execution_count": 26,
   "id": "f64f09f6-f635-4d90-8e8d-febc45c679e7",
   "metadata": {},
   "outputs": [
    {
     "data": {
      "text/plain": [
       "array([False, False, False,  True, False, False, False, False, False,\n",
       "       False, False, False, False, False, False, False, False, False,\n",
       "       False, False, False, False, False, False, False, False, False,\n",
       "       False, False, False, False, False, False, False, False, False,\n",
       "       False, False, False, False, False, False, False, False, False,\n",
       "       False, False, False, False, False, False, False, False, False,\n",
       "       False, False, False, False, False, False, False, False, False,\n",
       "       False, False, False, False, False, False, False, False, False,\n",
       "       False, False, False, False, False, False, False, False, False,\n",
       "       False, False, False, False, False, False, False, False, False,\n",
       "       False, False, False, False, False, False, False, False, False,\n",
       "       False])"
      ]
     },
     "execution_count": 26,
     "metadata": {},
     "output_type": "execute_result"
    }
   ],
   "source": [
    "a ==-1200"
   ]
  },
  {
   "cell_type": "code",
   "execution_count": 32,
   "id": "c19e2d84-4041-45e5-8c9a-73891da7846a",
   "metadata": {},
   "outputs": [
    {
     "data": {
      "text/plain": [
       "array([0, 0, 0, 3, 0, 0, 0, 0, 0, 0, 0, 0, 0, 0, 0, 0, 0, 0, 0, 0, 0, 0,\n",
       "       0, 0, 0, 0, 0, 0, 0, 0, 0, 0, 0, 0, 0, 0, 0, 0, 0, 0, 0, 0, 0, 0,\n",
       "       0, 0, 0, 0, 0, 0, 0, 0, 0, 0, 0, 0, 0, 0, 0, 0, 0, 0, 0, 0, 0, 0,\n",
       "       0, 0, 0, 0, 0, 0, 0, 0, 0, 0, 0, 0, 0, 0, 0, 0, 0, 0, 0, 0, 0, 0,\n",
       "       0, 0, 0, 0, 0, 0, 0, 0, 0, 0, 0, 0])"
      ]
     },
     "execution_count": 32,
     "metadata": {},
     "output_type": "execute_result"
    }
   ],
   "source": [
    "b = (a==-1200)*np.arange(a.size)\n",
    "b"
   ]
  },
  {
   "cell_type": "code",
   "execution_count": 11,
   "id": "0cc8c7de-3667-4436-94e8-133b9e6e4648",
   "metadata": {},
   "outputs": [
    {
     "data": {
      "text/plain": [
       "array([ 0,  1,  2,  3,  4,  5,  6,  7,  8,  9, 10, 11, 12, 13, 14, 15, 16,\n",
       "       17, 18, 19, 20, 21, 22, 23, 24, 25, 26, 27, 28, 29, 30, 31, 32, 33,\n",
       "       34, 35, 36, 37, 38, 39, 40, 41, 42, 43, 44, 45, 46, 47, 48, 49, 50,\n",
       "       51, 52, 53, 54, 55, 56, 57, 58, 59, 60, 61, 62, 63, 64, 65, 66, 67,\n",
       "       68, 69, 70, 71, 72, 73, 74, 75, 76, 77, 78, 79, 80, 81, 82, 83, 84,\n",
       "       85, 86, 87, 88, 89, 90, 91, 92, 93, 94, 95, 96, 97, 98, 99])"
      ]
     },
     "execution_count": 11,
     "metadata": {},
     "output_type": "execute_result"
    }
   ],
   "source": [
    "a"
   ]
  },
  {
   "cell_type": "code",
   "execution_count": 36,
   "id": "0e5df6d5-c2e2-40be-af2e-c0017a8088e7",
   "metadata": {},
   "outputs": [],
   "source": [
    "idx = np.argwhere(a==-1200)[0][0]"
   ]
  },
  {
   "cell_type": "code",
   "execution_count": 40,
   "id": "cfcd0b03-00a0-4dd8-afdb-13eff4619184",
   "metadata": {},
   "outputs": [
    {
     "data": {
      "text/plain": [
       "3"
      ]
     },
     "execution_count": 40,
     "metadata": {},
     "output_type": "execute_result"
    }
   ],
   "source": [
    "idx"
   ]
  },
  {
   "cell_type": "code",
   "execution_count": 42,
   "id": "e8d46878-285c-47a1-a542-ee98f75b1659",
   "metadata": {},
   "outputs": [
    {
     "data": {
      "text/plain": [
       "array([ 0,  1,  2,  3,  4,  5,  6,  7,  8,  9, 10, 11, 12, 13, 14, 15, 16,\n",
       "       17, 18, 19, 20, 21, 22, 23, 24, 25, 26, 27, 28, 29, 30, 31, 32, 33,\n",
       "       34, 35, 36, 37, 38, 39, 40, 41, 42, 43, 44, 45, 46, 47, 48, 49, 50,\n",
       "       51, 52, 53, 54, 55, 56, 57, 58, 59, 60, 61, 62, 63, 64, 65, 66, 67,\n",
       "       68, 69, 70, 71, 72, 73, 74, 75, 76, 77, 78, 79, 80, 81, 82, 83, 84,\n",
       "       85, 86, 87, 88, 89, 90, 91, 92, 93, 94, 95, 96, 97, 98, 99])"
      ]
     },
     "execution_count": 42,
     "metadata": {},
     "output_type": "execute_result"
    }
   ],
   "source": [
    "a[idx] = 3\n",
    "a"
   ]
  },
  {
   "cell_type": "code",
   "execution_count": 21,
   "id": "5be022fb-d8a5-42fd-8b89-97328fed2529",
   "metadata": {},
   "outputs": [
    {
     "data": {
      "text/plain": [
       "array([[6., 1., 8., 9.],\n",
       "       [2., 7., 2., 5.],\n",
       "       [7., 6., 1., 9.],\n",
       "       [1., 5., 5., 6.],\n",
       "       [1., 4., 8., 5.]])"
      ]
     },
     "execution_count": 21,
     "metadata": {},
     "output_type": "execute_result"
    }
   ],
   "source": [
    "a = np.round(10*np.random.rand(5,4))\n",
    "a"
   ]
  },
  {
   "cell_type": "code",
   "execution_count": 46,
   "id": "88419394-7053-4265-88f1-c84c60bfeda4",
   "metadata": {},
   "outputs": [
    {
     "data": {
      "text/plain": [
       "7.0"
      ]
     },
     "execution_count": 46,
     "metadata": {},
     "output_type": "execute_result"
    }
   ],
   "source": [
    "a[1,2]"
   ]
  },
  {
   "cell_type": "code",
   "execution_count": 48,
   "id": "5dcc754e-27d2-40b9-87f4-622649dc9218",
   "metadata": {},
   "outputs": [
    {
     "data": {
      "text/plain": [
       "array([ 8.,  8.,  7., 10.])"
      ]
     },
     "execution_count": 48,
     "metadata": {},
     "output_type": "execute_result"
    }
   ],
   "source": [
    "a[1,:]"
   ]
  },
  {
   "cell_type": "code",
   "execution_count": 50,
   "id": "83f2b403-fc40-4e32-af47-ee7716558b88",
   "metadata": {},
   "outputs": [
    {
     "data": {
      "text/plain": [
       "array([9., 7., 5., 9., 5.])"
      ]
     },
     "execution_count": 50,
     "metadata": {},
     "output_type": "execute_result"
    }
   ],
   "source": [
    "a[:,2]"
   ]
  },
  {
   "cell_type": "code",
   "execution_count": 54,
   "id": "74b6f137-e5dc-45f5-af54-5e45d8c65afb",
   "metadata": {},
   "outputs": [
    {
     "data": {
      "text/plain": [
       "array([[ 7., 10.],\n",
       "       [ 5.,  0.]])"
      ]
     },
     "execution_count": 54,
     "metadata": {},
     "output_type": "execute_result"
    }
   ],
   "source": [
    "a[1:3,2:4]"
   ]
  },
  {
   "cell_type": "markdown",
   "id": "9027e046-27e6-4456-97ae-0e4d7ef43147",
   "metadata": {},
   "source": [
    "#### The transpose of a matrix is obtained by moving the rows data to the column and columns data to the rows ."
   ]
  },
  {
   "cell_type": "code",
   "execution_count": 56,
   "id": "0e77d0f8-b6b3-407c-a89f-37b3c84894fc",
   "metadata": {},
   "outputs": [
    {
     "data": {
      "text/plain": [
       "array([[ 4.,  8.,  9.,  9.,  1.],\n",
       "       [ 5.,  8.,  5.,  1.,  4.],\n",
       "       [ 9.,  7.,  5.,  9.,  5.],\n",
       "       [ 5., 10.,  0.,  5.,  9.]])"
      ]
     },
     "execution_count": 56,
     "metadata": {},
     "output_type": "execute_result"
    }
   ],
   "source": [
    "a.T"
   ]
  },
  {
   "cell_type": "code",
   "execution_count": 66,
   "id": "3924d076-6a88-4c00-bce7-bf4a26702c4c",
   "metadata": {},
   "outputs": [],
   "source": [
    "import numpy.linalg as la"
   ]
  },
  {
   "cell_type": "markdown",
   "id": "38f38ce1-14eb-41e4-89b2-b52477c9b7fb",
   "metadata": {},
   "source": [
    "#### linalg.inv(a)\n",
    "Compute the inverse of a matrix."
   ]
  },
  {
   "cell_type": "code",
   "execution_count": 68,
   "id": "2693a996-1268-4286-ad87-75085e069998",
   "metadata": {},
   "outputs": [
    {
     "data": {
      "text/plain": [
       "array([[-28.80121412,  -8.66033528,  11.8874232 ],\n",
       "       [ 12.0380633 ,   1.96208646,  -3.37913554],\n",
       "       [  1.172346  ,   2.89879645,  -0.64212968]])"
      ]
     },
     "execution_count": 68,
     "metadata": {},
     "output_type": "execute_result"
    }
   ],
   "source": [
    "la.inv(np.random.rand(3,3))"
   ]
  },
  {
   "cell_type": "code",
   "execution_count": 23,
   "id": "69afa082-4cf0-442e-836b-543e80b8119e",
   "metadata": {},
   "outputs": [
    {
     "data": {
      "text/plain": [
       "array([[6., 1., 8., 9.],\n",
       "       [2., 7., 2., 5.],\n",
       "       [7., 6., 1., 9.],\n",
       "       [1., 5., 5., 6.],\n",
       "       [1., 4., 8., 5.]])"
      ]
     },
     "execution_count": 23,
     "metadata": {},
     "output_type": "execute_result"
    }
   ],
   "source": [
    "a"
   ]
  },
  {
   "cell_type": "code",
   "execution_count": 25,
   "id": "fd79627f-6a2a-4d02-9d4b-30b7de6de8ab",
   "metadata": {},
   "outputs": [],
   "source": [
    "a.sort(axis=0)"
   ]
  },
  {
   "cell_type": "code",
   "execution_count": 27,
   "id": "32969563-17fc-41ee-b167-c92cad75061a",
   "metadata": {},
   "outputs": [
    {
     "data": {
      "text/plain": [
       "array([[1., 1., 1., 5.],\n",
       "       [1., 4., 2., 5.],\n",
       "       [2., 5., 5., 6.],\n",
       "       [6., 6., 8., 9.],\n",
       "       [7., 7., 8., 9.]])"
      ]
     },
     "execution_count": 27,
     "metadata": {},
     "output_type": "execute_result"
    }
   ],
   "source": [
    "a"
   ]
  },
  {
   "cell_type": "code",
   "execution_count": 29,
   "id": "61281e13-27c3-455e-9de9-efefd0c658fa",
   "metadata": {},
   "outputs": [
    {
     "data": {
      "text/plain": [
       "array([[1., 1., 1., 5.],\n",
       "       [1., 2., 4., 5.],\n",
       "       [2., 5., 5., 6.],\n",
       "       [6., 6., 8., 9.],\n",
       "       [7., 7., 8., 9.]])"
      ]
     },
     "execution_count": 29,
     "metadata": {},
     "output_type": "execute_result"
    }
   ],
   "source": [
    "a.sort(axis=1)\n",
    "a"
   ]
  },
  {
   "cell_type": "code",
   "execution_count": 31,
   "id": "8ce1c29c-75f7-4f3e-8fa0-8d6604a9c24d",
   "metadata": {},
   "outputs": [],
   "source": [
    "a = np.arange(100)"
   ]
  },
  {
   "cell_type": "code",
   "execution_count": 33,
   "id": "44722be1-64c5-4797-b033-5302d08782df",
   "metadata": {},
   "outputs": [],
   "source": [
    "b = a[[3,5,6]]"
   ]
  },
  {
   "cell_type": "code",
   "execution_count": 35,
   "id": "946a59e0-20c1-4afc-8dbe-c0966cb50d6b",
   "metadata": {},
   "outputs": [
    {
     "data": {
      "text/plain": [
       "array([3, 5, 6])"
      ]
     },
     "execution_count": 35,
     "metadata": {},
     "output_type": "execute_result"
    }
   ],
   "source": [
    "b"
   ]
  },
  {
   "cell_type": "code",
   "execution_count": 37,
   "id": "85b4899e-5653-4302-bb90-ac7a76441b46",
   "metadata": {},
   "outputs": [],
   "source": [
    "b[0] = -4"
   ]
  },
  {
   "cell_type": "code",
   "execution_count": 39,
   "id": "8f9019d0-0304-4728-b171-9c61dec6b674",
   "metadata": {},
   "outputs": [
    {
     "data": {
      "text/plain": [
       "array([ 0,  1,  2,  3,  4,  5,  6,  7,  8,  9, 10, 11, 12, 13, 14, 15, 16,\n",
       "       17, 18, 19, 20, 21, 22, 23, 24, 25, 26, 27, 28, 29, 30, 31, 32, 33,\n",
       "       34, 35, 36, 37, 38, 39, 40, 41, 42, 43, 44, 45, 46, 47, 48, 49, 50,\n",
       "       51, 52, 53, 54, 55, 56, 57, 58, 59, 60, 61, 62, 63, 64, 65, 66, 67,\n",
       "       68, 69, 70, 71, 72, 73, 74, 75, 76, 77, 78, 79, 80, 81, 82, 83, 84,\n",
       "       85, 86, 87, 88, 89, 90, 91, 92, 93, 94, 95, 96, 97, 98, 99])"
      ]
     },
     "execution_count": 39,
     "metadata": {},
     "output_type": "execute_result"
    }
   ],
   "source": [
    "a"
   ]
  },
  {
   "cell_type": "code",
   "execution_count": 41,
   "id": "3a672bf0-8a3f-4736-8e93-e421795390ca",
   "metadata": {},
   "outputs": [
    {
     "data": {
      "text/plain": [
       "array([-4,  5,  6])"
      ]
     },
     "execution_count": 41,
     "metadata": {},
     "output_type": "execute_result"
    }
   ],
   "source": [
    "b"
   ]
  },
  {
   "cell_type": "code",
   "execution_count": 43,
   "id": "20fdd2cd-d7af-4993-ae3f-55821d7ae8b3",
   "metadata": {},
   "outputs": [],
   "source": [
    "b = a[a<40]"
   ]
  },
  {
   "cell_type": "code",
   "execution_count": 45,
   "id": "a4649046-d4ac-45d6-b976-ef4d1326e54b",
   "metadata": {},
   "outputs": [
    {
     "data": {
      "text/plain": [
       "array([ 0,  1,  2,  3,  4,  5,  6,  7,  8,  9, 10, 11, 12, 13, 14, 15, 16,\n",
       "       17, 18, 19, 20, 21, 22, 23, 24, 25, 26, 27, 28, 29, 30, 31, 32, 33,\n",
       "       34, 35, 36, 37, 38, 39])"
      ]
     },
     "execution_count": 45,
     "metadata": {},
     "output_type": "execute_result"
    }
   ],
   "source": [
    "b"
   ]
  },
  {
   "cell_type": "code",
   "execution_count": 51,
   "id": "001fcdbf-904e-4881-8541-fa1a86ab18b4",
   "metadata": {},
   "outputs": [
    {
     "data": {
      "text/plain": [
       "array([31, 32, 33, 34, 35, 36, 37, 38, 39])"
      ]
     },
     "execution_count": 51,
     "metadata": {},
     "output_type": "execute_result"
    }
   ],
   "source": [
    "b = a[(a<40) & (a>30)]\n",
    "b"
   ]
  },
  {
   "cell_type": "markdown",
   "id": "2167815b-b2af-4a30-b0ad-3a983b1f79ed",
   "metadata": {},
   "source": [
    "### & | ~   : these are used for arrays "
   ]
  },
  {
   "cell_type": "markdown",
   "id": "1a2d28b1-9c89-4b2a-920b-88916916d50e",
   "metadata": {},
   "source": [
    "### And Or Not: these are used for single objects"
   ]
  },
  {
   "cell_type": "code",
   "execution_count": 55,
   "id": "7f1e676d-06d4-48b9-a6c3-d035d8dce287",
   "metadata": {},
   "outputs": [
    {
     "data": {
      "text/plain": [
       "array([[ 2.,  6.,  8.],\n",
       "       [ 7., 10.,  9.]])"
      ]
     },
     "execution_count": 55,
     "metadata": {},
     "output_type": "execute_result"
    }
   ],
   "source": [
    "a = np.round(10*np.random.rand(2,3))\n",
    "a"
   ]
  },
  {
   "cell_type": "code",
   "execution_count": 57,
   "id": "a1ef5bc0-2e63-41a8-afbe-a941fa285e54",
   "metadata": {},
   "outputs": [
    {
     "data": {
      "text/plain": [
       "array([[ 5.,  9., 11.],\n",
       "       [10., 13., 12.]])"
      ]
     },
     "execution_count": 57,
     "metadata": {},
     "output_type": "execute_result"
    }
   ],
   "source": [
    "a+3"
   ]
  },
  {
   "cell_type": "code",
   "execution_count": 59,
   "id": "376c6d00-5518-41ed-a7b1-f079addd4ef4",
   "metadata": {},
   "outputs": [
    {
     "data": {
      "text/plain": [
       "array([[ 2.,  6.,  8.],\n",
       "       [ 8., 11., 10.]])"
      ]
     },
     "execution_count": 59,
     "metadata": {},
     "output_type": "execute_result"
    }
   ],
   "source": [
    "a+(np.arange(2).reshape(2,1))"
   ]
  },
  {
   "cell_type": "code",
   "execution_count": 61,
   "id": "9ef85bb5-70ca-4b24-a55e-be366f34dec8",
   "metadata": {},
   "outputs": [],
   "source": [
    "b = np.round(10*np.random.rand(2,2))"
   ]
  },
  {
   "cell_type": "code",
   "execution_count": 67,
   "id": "cb381ed8-8c2f-45b9-b3d0-824a995ef561",
   "metadata": {},
   "outputs": [
    {
     "data": {
      "text/plain": [
       "array([[ 2.,  6.,  8.],\n",
       "       [ 7., 10.,  9.]])"
      ]
     },
     "execution_count": 67,
     "metadata": {},
     "output_type": "execute_result"
    }
   ],
   "source": [
    "a\n"
   ]
  },
  {
   "cell_type": "code",
   "execution_count": 69,
   "id": "3d80ed82-ab38-45a8-9aa3-7a834fad309a",
   "metadata": {},
   "outputs": [
    {
     "data": {
      "text/plain": [
       "array([[7., 4.],\n",
       "       [6., 2.]])"
      ]
     },
     "execution_count": 69,
     "metadata": {},
     "output_type": "execute_result"
    }
   ],
   "source": [
    "b\n"
   ]
  },
  {
   "cell_type": "code",
   "execution_count": 75,
   "id": "2780e71e-13b0-4b17-80eb-38e4a4aaa6be",
   "metadata": {},
   "outputs": [],
   "source": [
    "c = np.hstack((a,b))"
   ]
  },
  {
   "cell_type": "code",
   "execution_count": 77,
   "id": "c82d5f81-4c39-4d50-9b6a-e9d4fb7a5dc3",
   "metadata": {},
   "outputs": [
    {
     "data": {
      "text/plain": [
       "array([[ 2.,  6.,  8.,  7.,  4.],\n",
       "       [ 7., 10.,  9.,  6.,  2.]])"
      ]
     },
     "execution_count": 77,
     "metadata": {},
     "output_type": "execute_result"
    }
   ],
   "source": [
    "c"
   ]
  },
  {
   "cell_type": "code",
   "execution_count": 79,
   "id": "2f3e381a-3e8f-47d7-a610-556aacf1dc4d",
   "metadata": {},
   "outputs": [],
   "source": [
    "a = np.random.permutation(np.arange(10))"
   ]
  },
  {
   "cell_type": "code",
   "execution_count": 81,
   "id": "df20b842-934b-418e-9298-bd45f46ce064",
   "metadata": {},
   "outputs": [
    {
     "data": {
      "text/plain": [
       "array([5, 0, 9, 8, 6, 7, 4, 2, 1, 3])"
      ]
     },
     "execution_count": 81,
     "metadata": {},
     "output_type": "execute_result"
    }
   ],
   "source": [
    "a"
   ]
  },
  {
   "cell_type": "code",
   "execution_count": 83,
   "id": "cb862d73-16c0-48f5-a66b-d37820de93b9",
   "metadata": {},
   "outputs": [
    {
     "data": {
      "text/plain": [
       "array([0, 1, 2, 3, 4, 5, 6, 7, 8, 9])"
      ]
     },
     "execution_count": 83,
     "metadata": {},
     "output_type": "execute_result"
    }
   ],
   "source": [
    "a.sort()\n",
    "a"
   ]
  },
  {
   "cell_type": "code",
   "execution_count": 85,
   "id": "5b6aa42e-c12a-4c1f-b1ed-a219d3f22602",
   "metadata": {},
   "outputs": [
    {
     "data": {
      "text/plain": [
       "array([0, 1, 2, 3, 4, 5, 6, 7, 8, 9])"
      ]
     },
     "execution_count": 85,
     "metadata": {},
     "output_type": "execute_result"
    }
   ],
   "source": [
    "np.sort(a)"
   ]
  },
  {
   "cell_type": "code",
   "execution_count": 87,
   "id": "2c018584-e0ba-4bef-93f2-0d27dd329e8c",
   "metadata": {},
   "outputs": [
    {
     "data": {
      "text/plain": [
       "array([9, 8, 7, 6, 5, 4, 3, 2, 1, 0])"
      ]
     },
     "execution_count": 87,
     "metadata": {},
     "output_type": "execute_result"
    }
   ],
   "source": [
    "a.sort()\n",
    "a = a[::-1]\n",
    "a"
   ]
  },
  {
   "cell_type": "code",
   "execution_count": 89,
   "id": "18f371c7-9793-43b9-845d-5b772f4e675d",
   "metadata": {},
   "outputs": [],
   "source": [
    "a = np.array([\"abc\",\"test\",\"how are you\",\"17a8h\"])"
   ]
  },
  {
   "cell_type": "code",
   "execution_count": 97,
   "id": "7abc2ae4-363d-4f8c-b997-6e74f95ee22c",
   "metadata": {},
   "outputs": [
    {
     "data": {
      "text/plain": [
       "array(['17a8h', 'abc', 'how are you', 'test'], dtype='<U11')"
      ]
     },
     "execution_count": 97,
     "metadata": {},
     "output_type": "execute_result"
    }
   ],
   "source": [
    "a.sort()\n",
    "a"
   ]
  },
  {
   "cell_type": "code",
   "execution_count": 99,
   "id": "df87bce1-dd18-4e3b-bb98-32b2cdb992b5",
   "metadata": {},
   "outputs": [],
   "source": [
    "b = np.random.rand(1000000)"
   ]
  },
  {
   "cell_type": "code",
   "execution_count": 101,
   "id": "a50b6f22-a429-4f40-8430-0c9c62b33c30",
   "metadata": {},
   "outputs": [
    {
     "name": "stdout",
     "output_type": "stream",
     "text": [
      "77.8 ms ± 7.61 ms per loop (mean ± std. dev. of 7 runs, 10 loops each)\n",
      "334 μs ± 10.7 μs per loop (mean ± std. dev. of 7 runs, 1,000 loops each)\n"
     ]
    }
   ],
   "source": [
    "%timeit sum(b)\n",
    "%timeit np.sum(b)"
   ]
  },
  {
   "cell_type": "code",
   "execution_count": 103,
   "id": "2bd5efba-767d-4c2d-ba07-19f36d480245",
   "metadata": {},
   "outputs": [],
   "source": [
    "def mySum(G):\n",
    "    s = 0\n",
    "    for x in G:\n",
    "        s+=x\n",
    "    return s    "
   ]
  },
  {
   "cell_type": "code",
   "execution_count": 105,
   "id": "86ede8a3-d7d6-497d-9561-1039a8efd90c",
   "metadata": {
    "editable": true,
    "slideshow": {
     "slide_type": ""
    },
    "tags": []
   },
   "outputs": [
    {
     "name": "stdout",
     "output_type": "stream",
     "text": [
      "105 ms ± 10.5 ms per loop (mean ± std. dev. of 7 runs, 10 loops each)\n"
     ]
    }
   ],
   "source": [
    "%timeit mySum(b)\n"
   ]
  },
  {
   "cell_type": "code",
   "execution_count": null,
   "id": "5189631b-e88f-45fa-8f1f-48b1119eb57e",
   "metadata": {},
   "outputs": [],
   "source": []
  }
 ],
 "metadata": {
  "kernelspec": {
   "display_name": "Python 3 (ipykernel)",
   "language": "python",
   "name": "python3"
  },
  "language_info": {
   "codemirror_mode": {
    "name": "ipython",
    "version": 3
   },
   "file_extension": ".py",
   "mimetype": "text/x-python",
   "name": "python",
   "nbconvert_exporter": "python",
   "pygments_lexer": "ipython3",
   "version": "3.12.7"
  }
 },
 "nbformat": 4,
 "nbformat_minor": 5
}
