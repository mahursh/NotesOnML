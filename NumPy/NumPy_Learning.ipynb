{
  "cells": [
    {
      "cell_type": "markdown",
      "id": "f26c9dc7-66ab-4940-a546-1b2c4f63b0ba",
      "metadata": {
        "id": "f26c9dc7-66ab-4940-a546-1b2c4f63b0ba"
      },
      "source": [
        "# NumPy"
      ]
    },
    {
      "cell_type": "markdown",
      "id": "cb8e3cc6-d778-4ce8-995e-7dd1d96f7734",
      "metadata": {
        "id": "cb8e3cc6-d778-4ce8-995e-7dd1d96f7734"
      },
      "source": [
        "### numpy list is much faster that python list"
      ]
    },
    {
      "cell_type": "code",
      "execution_count": null,
      "id": "b54e461d-837c-48e9-a40a-9cad1b849db0",
      "metadata": {
        "id": "b54e461d-837c-48e9-a40a-9cad1b849db0",
        "outputId": "ff4ba383-5892-4ce7-eec4-e5c6c081a153"
      },
      "outputs": [
        {
          "name": "stdout",
          "output_type": "stream",
          "text": [
            "[1 2 3 4 5]\n",
            "[1. 6. 3. 4. 9.]\n"
          ]
        }
      ],
      "source": [
        "import numpy as np\n",
        "\n",
        "a = np.array([1,2,3,4,5],dtype='i')\n",
        "b = np.array((1,6,3,4,9),dtype='f')\n",
        "print(a)\n",
        "print(b)"
      ]
    },
    {
      "cell_type": "code",
      "execution_count": null,
      "id": "64ce7b5e-5ba9-4e3e-a1f1-3aef15295cae",
      "metadata": {
        "id": "64ce7b5e-5ba9-4e3e-a1f1-3aef15295cae",
        "outputId": "4954d7a0-14ee-4a63-8949-16a6a89eae6b"
      },
      "outputs": [
        {
          "data": {
            "text/plain": [
              "numpy.ndarray"
            ]
          },
          "execution_count": 5,
          "metadata": {},
          "output_type": "execute_result"
        }
      ],
      "source": [
        "type(a)\n",
        "type(b)"
      ]
    },
    {
      "cell_type": "code",
      "execution_count": null,
      "id": "c27ef875-8b3c-4175-85a7-a6b6ffa8403d",
      "metadata": {
        "id": "c27ef875-8b3c-4175-85a7-a6b6ffa8403d",
        "outputId": "9a2afeba-4a2e-47f2-94af-334c36d6577f"
      },
      "outputs": [
        {
          "data": {
            "text/plain": [
              "dtype('int32')"
            ]
          },
          "execution_count": 7,
          "metadata": {},
          "output_type": "execute_result"
        }
      ],
      "source": [
        "a.dtype"
      ]
    },
    {
      "cell_type": "code",
      "execution_count": null,
      "id": "29a1707b-cb28-44a4-b19b-24619e8f4c22",
      "metadata": {
        "id": "29a1707b-cb28-44a4-b19b-24619e8f4c22",
        "outputId": "22919bb4-5e67-4797-e02f-153a1cb325ba"
      },
      "outputs": [
        {
          "data": {
            "text/plain": [
              "dtype('float32')"
            ]
          },
          "execution_count": 9,
          "metadata": {},
          "output_type": "execute_result"
        }
      ],
      "source": [
        "b.dtype"
      ]
    },
    {
      "cell_type": "markdown",
      "id": "b770406c-f750-4c40-a467-718a2499b23d",
      "metadata": {
        "id": "b770406c-f750-4c40-a467-718a2499b23d"
      },
      "source": [
        "----------------------------------------\n",
        "### Demensions"
      ]
    },
    {
      "cell_type": "code",
      "execution_count": null,
      "id": "cac5d178-3f56-4b07-8951-0e3d722be7fc",
      "metadata": {
        "id": "cac5d178-3f56-4b07-8951-0e3d722be7fc",
        "outputId": "945fd6fc-492d-417c-9148-0752baec5663"
      },
      "outputs": [
        {
          "name": "stdout",
          "output_type": "stream",
          "text": [
            "2\n"
          ]
        }
      ],
      "source": [
        "c = np.array([[1,2,3] , [4,5,6]])\n",
        "print(c.ndim)"
      ]
    },
    {
      "cell_type": "code",
      "execution_count": null,
      "id": "0bb31423-f9f0-418e-a746-c0f8b0fe1640",
      "metadata": {
        "id": "0bb31423-f9f0-418e-a746-c0f8b0fe1640",
        "outputId": "329805ba-1b55-4792-a300-b69ecbf713f0"
      },
      "outputs": [
        {
          "name": "stdout",
          "output_type": "stream",
          "text": [
            "[[[1 2 3]\n",
            "  [4 5 6]]\n",
            "\n",
            " [[1 2 3]\n",
            "  [4 5 6]]]\n",
            "3\n"
          ]
        }
      ],
      "source": [
        "d = np.array([[[1,2,3] ,[4,5,6]],[[1,2,3],[4,5,6]]])\n",
        "print(d)\n",
        "print(d.ndim)"
      ]
    },
    {
      "cell_type": "code",
      "execution_count": null,
      "id": "bc247172-bc82-4422-a475-67e3a60949d6",
      "metadata": {
        "id": "bc247172-bc82-4422-a475-67e3a60949d6",
        "outputId": "f7147deb-0ddb-4ad3-9cd0-b60bbfd21ea6"
      },
      "outputs": [
        {
          "name": "stdout",
          "output_type": "stream",
          "text": [
            "2 2 3\n",
            "3\n"
          ]
        }
      ],
      "source": [
        "print(d.shape[0] , d.shape[1] , d.shape[2])\n",
        "print(d[1,0,2])"
      ]
    },
    {
      "cell_type": "code",
      "execution_count": null,
      "id": "fae3e165-0318-4752-86e9-5505074a24ac",
      "metadata": {
        "id": "fae3e165-0318-4752-86e9-5505074a24ac",
        "outputId": "f6b5840e-5065-4b35-93f4-4e9bbbb86571"
      },
      "outputs": [
        {
          "name": "stdout",
          "output_type": "stream",
          "text": [
            "4\n"
          ]
        }
      ],
      "source": [
        "print(d[0][1][0])"
      ]
    },
    {
      "cell_type": "code",
      "execution_count": null,
      "id": "f96e086d-4edc-4b73-9836-2ab188846a22",
      "metadata": {
        "id": "f96e086d-4edc-4b73-9836-2ab188846a22",
        "outputId": "4ebc1283-1ef2-4d2a-ed40-4d23d616adc8"
      },
      "outputs": [
        {
          "name": "stdout",
          "output_type": "stream",
          "text": [
            "4\n"
          ]
        }
      ],
      "source": [
        "print(d[0,1,0])"
      ]
    },
    {
      "cell_type": "code",
      "execution_count": null,
      "id": "2587eef4-58e2-49f8-a527-f0bed65241a0",
      "metadata": {
        "id": "2587eef4-58e2-49f8-a527-f0bed65241a0",
        "outputId": "638f9dcc-4b90-418f-96ef-b1fcdf13ce4e"
      },
      "outputs": [
        {
          "ename": "ValueError",
          "evalue": "setting an array element with a sequence. The requested array has an inhomogeneous shape after 1 dimensions. The detected shape was (2,) + inhomogeneous part.",
          "output_type": "error",
          "traceback": [
            "\u001b[1;31m---------------------------------------------------------------------------\u001b[0m",
            "\u001b[1;31mValueError\u001b[0m                                Traceback (most recent call last)",
            "Cell \u001b[1;32mIn[30], line 1\u001b[0m\n\u001b[1;32m----> 1\u001b[0m c\u001b[38;5;241m=\u001b[39m np\u001b[38;5;241m.\u001b[39marray([[\u001b[38;5;241m1\u001b[39m,\u001b[38;5;241m2\u001b[39m],[\u001b[38;5;241m1\u001b[39m,\u001b[38;5;241m2\u001b[39m,\u001b[38;5;241m3\u001b[39m]])\n",
            "\u001b[1;31mValueError\u001b[0m: setting an array element with a sequence. The requested array has an inhomogeneous shape after 1 dimensions. The detected shape was (2,) + inhomogeneous part."
          ]
        }
      ],
      "source": [
        "c= np.array([[1,2],[1,2,3]])"
      ]
    },
    {
      "cell_type": "code",
      "execution_count": null,
      "id": "ef1f3cbd-2a0b-4295-9adf-84ce1ef71ab9",
      "metadata": {
        "id": "ef1f3cbd-2a0b-4295-9adf-84ce1ef71ab9"
      },
      "outputs": [],
      "source": [
        "c = np.array([[[1,2,3],[4,5,6],[0,0,-1]], [[-1,-2,-3],[-4,-5,-6],[0,0,1]]])"
      ]
    },
    {
      "cell_type": "code",
      "execution_count": null,
      "id": "1b4fc0c5-4099-42c3-95b9-025f4ed975ab",
      "metadata": {
        "id": "1b4fc0c5-4099-42c3-95b9-025f4ed975ab",
        "outputId": "8231e8c8-cc1f-4133-ad9a-b5d3b22fa394"
      },
      "outputs": [
        {
          "data": {
            "text/plain": [
              "3"
            ]
          },
          "execution_count": 34,
          "metadata": {},
          "output_type": "execute_result"
        }
      ],
      "source": [
        "c.ndim"
      ]
    },
    {
      "cell_type": "code",
      "execution_count": null,
      "id": "78f4b8f7-d61a-4c04-ade8-21f28c9680d7",
      "metadata": {
        "id": "78f4b8f7-d61a-4c04-ade8-21f28c9680d7",
        "outputId": "ffe653ad-0605-4834-9a2e-2ef198a964f3"
      },
      "outputs": [
        {
          "data": {
            "text/plain": [
              "numpy.ndarray"
            ]
          },
          "execution_count": 36,
          "metadata": {},
          "output_type": "execute_result"
        }
      ],
      "source": [
        "type(c)"
      ]
    },
    {
      "cell_type": "markdown",
      "id": "629bc5c9-9e12-4f41-8015-f7bfc2e20915",
      "metadata": {
        "id": "629bc5c9-9e12-4f41-8015-f7bfc2e20915"
      },
      "source": [
        "----------------------------------------\n",
        "### shape  "
      ]
    },
    {
      "cell_type": "markdown",
      "id": "d8a9ce46-cd0c-4107-9317-bb21574a7693",
      "metadata": {
        "id": "d8a9ce46-cd0c-4107-9317-bb21574a7693"
      },
      "source": [
        "#### $*$ The shape of an array is the number of elements in each dimension."
      ]
    },
    {
      "cell_type": "code",
      "execution_count": null,
      "id": "cd406b9a-1c5d-46a8-a6d9-86d979b7d141",
      "metadata": {
        "id": "cd406b9a-1c5d-46a8-a6d9-86d979b7d141",
        "outputId": "b9f7847e-828f-4824-ae6a-8c0f9bc01b4f"
      },
      "outputs": [
        {
          "name": "stdout",
          "output_type": "stream",
          "text": [
            "Help on _ArrayFunctionDispatcher in module numpy:\n",
            "\n",
            "shape(a)\n",
            "    Return the shape of an array.\n",
            "\n",
            "    Parameters\n",
            "    ----------\n",
            "    a : array_like\n",
            "        Input array.\n",
            "\n",
            "    Returns\n",
            "    -------\n",
            "    shape : tuple of ints\n",
            "        The elements of the shape tuple give the lengths of the\n",
            "        corresponding array dimensions.\n",
            "\n",
            "    See Also\n",
            "    --------\n",
            "    len : ``len(a)`` is equivalent to ``np.shape(a)[0]`` for N-D arrays with\n",
            "          ``N>=1``.\n",
            "    ndarray.shape : Equivalent array method.\n",
            "\n",
            "    Examples\n",
            "    --------\n",
            "    >>> np.shape(np.eye(3))\n",
            "    (3, 3)\n",
            "    >>> np.shape([[1, 3]])\n",
            "    (1, 2)\n",
            "    >>> np.shape([0])\n",
            "    (1,)\n",
            "    >>> np.shape(0)\n",
            "    ()\n",
            "\n",
            "    >>> a = np.array([(1, 2), (3, 4), (5, 6)],\n",
            "    ...              dtype=[('x', 'i4'), ('y', 'i4')])\n",
            "    >>> np.shape(a)\n",
            "    (3,)\n",
            "    >>> a.shape\n",
            "    (3,)\n",
            "\n"
          ]
        }
      ],
      "source": [
        "help(np.shape)"
      ]
    },
    {
      "cell_type": "code",
      "execution_count": null,
      "id": "fc8d2c73-9faa-4347-9f42-76cc3b58cd99",
      "metadata": {
        "id": "fc8d2c73-9faa-4347-9f42-76cc3b58cd99",
        "outputId": "a424e441-3b9a-4560-bd24-a3a19fe43519"
      },
      "outputs": [
        {
          "data": {
            "text/plain": [
              "(2, 3, 3)"
            ]
          },
          "execution_count": 40,
          "metadata": {},
          "output_type": "execute_result"
        }
      ],
      "source": [
        "c.shape"
      ]
    },
    {
      "cell_type": "code",
      "execution_count": null,
      "id": "6f4352d8-160d-405b-b281-b790cdc03447",
      "metadata": {
        "id": "6f4352d8-160d-405b-b281-b790cdc03447",
        "outputId": "ae2d6b43-75ad-43cc-fc54-d76b8a6360f9"
      },
      "outputs": [
        {
          "data": {
            "text/plain": [
              "3"
            ]
          },
          "execution_count": 44,
          "metadata": {},
          "output_type": "execute_result"
        }
      ],
      "source": [
        "c.shape[1]"
      ]
    },
    {
      "cell_type": "code",
      "execution_count": null,
      "id": "8a5e3f43-4272-4935-b36c-bc4e5a69be07",
      "metadata": {
        "id": "8a5e3f43-4272-4935-b36c-bc4e5a69be07",
        "outputId": "0a19e351-4918-4fcf-cf57-1f8d5f730692"
      },
      "outputs": [
        {
          "data": {
            "text/plain": [
              "3"
            ]
          },
          "execution_count": 46,
          "metadata": {},
          "output_type": "execute_result"
        }
      ],
      "source": [
        "c.ndim"
      ]
    },
    {
      "cell_type": "code",
      "execution_count": null,
      "id": "aea9b76e-eddd-4d59-915e-18326d7ae4fc",
      "metadata": {
        "id": "aea9b76e-eddd-4d59-915e-18326d7ae4fc",
        "outputId": "9994d940-747b-4438-8f1c-10caa4948de9"
      },
      "outputs": [
        {
          "name": "stdout",
          "output_type": "stream",
          "text": [
            "(1, 1, 2, 3)\n",
            "4\n"
          ]
        }
      ],
      "source": [
        "e = np.array([[[[1,2,3],[1,2,3]]]])\n",
        "print(e.shape)\n",
        "print(e.ndim)"
      ]
    },
    {
      "cell_type": "code",
      "execution_count": null,
      "id": "185f4b3c-b939-4cfa-914b-543e11940f16",
      "metadata": {
        "id": "185f4b3c-b939-4cfa-914b-543e11940f16",
        "outputId": "5d63007d-e566-4bc5-aadc-4d755e55bf97"
      },
      "outputs": [
        {
          "data": {
            "text/plain": [
              "1"
            ]
          },
          "execution_count": 63,
          "metadata": {},
          "output_type": "execute_result"
        }
      ],
      "source": [
        "f = np.array([2])\n",
        "f.ndim"
      ]
    },
    {
      "cell_type": "code",
      "execution_count": null,
      "id": "3ff42903-efd7-4d72-b905-ec77f511a17f",
      "metadata": {
        "id": "3ff42903-efd7-4d72-b905-ec77f511a17f"
      },
      "outputs": [],
      "source": [
        "g = np.array(3)"
      ]
    },
    {
      "cell_type": "code",
      "execution_count": null,
      "id": "1b2b2996-e043-43c0-857b-666329fab5e1",
      "metadata": {
        "id": "1b2b2996-e043-43c0-857b-666329fab5e1",
        "outputId": "6f68338f-f97b-48b2-e970-ddee1da13287"
      },
      "outputs": [
        {
          "data": {
            "text/plain": [
              "0"
            ]
          },
          "execution_count": 67,
          "metadata": {},
          "output_type": "execute_result"
        }
      ],
      "source": [
        "g.ndim"
      ]
    },
    {
      "cell_type": "markdown",
      "id": "e3a749a6-4015-4b0a-a797-cbf0add0192b",
      "metadata": {
        "id": "e3a749a6-4015-4b0a-a797-cbf0add0192b"
      },
      "source": [
        "----------------------------------------\n",
        "### size"
      ]
    },
    {
      "cell_type": "markdown",
      "id": "5762c9a6-1f44-45c8-808a-0e8a0a584b87",
      "metadata": {
        "id": "5762c9a6-1f44-45c8-808a-0e8a0a584b87"
      },
      "source": [
        "#### $*$ Gives the total number of elements ."
      ]
    },
    {
      "cell_type": "code",
      "execution_count": null,
      "id": "8ee14006-ab74-4bdc-b81c-745f81359a4b",
      "metadata": {
        "id": "8ee14006-ab74-4bdc-b81c-745f81359a4b",
        "outputId": "266b8da8-ad77-4fd3-8ee8-aaaa915229ca"
      },
      "outputs": [
        {
          "name": "stdout",
          "output_type": "stream",
          "text": [
            "1\n",
            "1\n",
            "6\n",
            "12\n",
            "18\n",
            "5\n",
            "5\n"
          ]
        }
      ],
      "source": [
        "print(g.size)\n",
        "print(f.size)\n",
        "print(e.size)\n",
        "print(d.size)\n",
        "print(c.size)\n",
        "print(b.size)\n",
        "print(a.size)"
      ]
    },
    {
      "cell_type": "markdown",
      "id": "1058a00d-27ab-4095-aac6-d9dabb23b845",
      "metadata": {
        "id": "1058a00d-27ab-4095-aac6-d9dabb23b845"
      },
      "source": [
        "----------------------------------------\n",
        "### nbytes\n",
        "\n"
      ]
    },
    {
      "cell_type": "markdown",
      "id": "7507679d-3492-4b7b-9003-44f086b91c55",
      "metadata": {
        "id": "7507679d-3492-4b7b-9003-44f086b91c55"
      },
      "source": [
        "#### $*$The number of bytes that it takes in memory"
      ]
    },
    {
      "cell_type": "code",
      "execution_count": null,
      "id": "d2853c3b-5ecd-440f-b5dc-d13a66af4762",
      "metadata": {
        "id": "d2853c3b-5ecd-440f-b5dc-d13a66af4762",
        "outputId": "ff622628-b5f1-49d9-a156-1ee7cb475f98"
      },
      "outputs": [
        {
          "name": "stdout",
          "output_type": "stream",
          "text": [
            "4\n",
            "4\n",
            "24\n",
            "48\n",
            "72\n",
            "20\n",
            "20\n"
          ]
        }
      ],
      "source": [
        "print(g.nbytes)\n",
        "print(f.nbytes)\n",
        "print(e.nbytes)\n",
        "print(d.nbytes)\n",
        "print(c.nbytes)\n",
        "print(b.nbytes)\n",
        "print(a.nbytes)"
      ]
    },
    {
      "cell_type": "markdown",
      "id": "6254cc4b-de22-4736-b158-fcace0744e94",
      "metadata": {
        "id": "6254cc4b-de22-4736-b158-fcace0744e94"
      },
      "source": [
        "### arange"
      ]
    },
    {
      "cell_type": "markdown",
      "id": "b17268f1-c96d-4f98-a919-37ca4ebeada0",
      "metadata": {
        "id": "b17268f1-c96d-4f98-a919-37ca4ebeada0"
      },
      "source": [
        "#### arange(start, stop, step,, dtype) : Returns an array with evenly spaced elements as per the interval."
      ]
    },
    {
      "cell_type": "code",
      "execution_count": null,
      "id": "a61757e3-a097-4484-be79-7caf0550ae14",
      "metadata": {
        "id": "a61757e3-a097-4484-be79-7caf0550ae14"
      },
      "outputs": [],
      "source": [
        "a = np.arange(100)"
      ]
    },
    {
      "cell_type": "code",
      "execution_count": null,
      "id": "0065aef0-34b6-4e3b-b75f-e80626548dfc",
      "metadata": {
        "id": "0065aef0-34b6-4e3b-b75f-e80626548dfc",
        "outputId": "1f8af678-f01d-475e-f990-d77e730a1acf"
      },
      "outputs": [
        {
          "name": "stdout",
          "output_type": "stream",
          "text": [
            "[ 0  1  2  3  4  5  6  7  8  9 10 11 12 13 14 15 16 17 18 19 20 21 22 23\n",
            " 24 25 26 27 28 29 30 31 32 33 34 35 36 37 38 39 40 41 42 43 44 45 46 47\n",
            " 48 49 50 51 52 53 54 55 56 57 58 59 60 61 62 63 64 65 66 67 68 69 70 71\n",
            " 72 73 74 75 76 77 78 79 80 81 82 83 84 85 86 87 88 89 90 91 92 93 94 95\n",
            " 96 97 98 99]\n"
          ]
        }
      ],
      "source": [
        "print(a)"
      ]
    },
    {
      "cell_type": "code",
      "execution_count": null,
      "id": "a6898346-23f8-4e5e-9a82-c39e136d627c",
      "metadata": {
        "id": "a6898346-23f8-4e5e-9a82-c39e136d627c"
      },
      "outputs": [],
      "source": [
        "a = np.arange(20,100,4,'float32')"
      ]
    },
    {
      "cell_type": "code",
      "execution_count": null,
      "id": "14393c33-eac3-4cbc-b9dd-3b4dd9d03366",
      "metadata": {
        "id": "14393c33-eac3-4cbc-b9dd-3b4dd9d03366",
        "outputId": "9a414b5e-572b-4455-cd56-1237928880a0"
      },
      "outputs": [
        {
          "name": "stdout",
          "output_type": "stream",
          "text": [
            "[20. 24. 28. 32. 36. 40. 44. 48. 52. 56. 60. 64. 68. 72. 76. 80. 84. 88.\n",
            " 92. 96.]\n"
          ]
        }
      ],
      "source": [
        "print(a)"
      ]
    },
    {
      "cell_type": "markdown",
      "id": "3a9e1b00-d7db-489f-a2bb-1055ff9caf45",
      "metadata": {
        "id": "3a9e1b00-d7db-489f-a2bb-1055ff9caf45"
      },
      "source": [
        "### random"
      ]
    },
    {
      "cell_type": "code",
      "execution_count": null,
      "id": "ae235db0-6727-4de0-b621-b33f9da62b61",
      "metadata": {
        "id": "ae235db0-6727-4de0-b621-b33f9da62b61",
        "outputId": "f65062cb-0e4f-490d-b1b7-9bbfb56304e9"
      },
      "outputs": [
        {
          "name": "stdout",
          "output_type": "stream",
          "text": [
            "91\n"
          ]
        }
      ],
      "source": [
        "from numpy import random\n",
        "x = random.randint(100)\n",
        "print(x)"
      ]
    },
    {
      "cell_type": "code",
      "execution_count": null,
      "id": "0072b55c-8df5-4e90-a10c-7a083bdc1734",
      "metadata": {
        "id": "0072b55c-8df5-4e90-a10c-7a083bdc1734",
        "outputId": "b7974871-249b-4306-8997-ba645d276fd8"
      },
      "outputs": [
        {
          "name": "stdout",
          "output_type": "stream",
          "text": [
            "[66 92 75 45 44]\n"
          ]
        }
      ],
      "source": [
        "x = random.randint(100, size=(5))\n",
        "print(x)"
      ]
    },
    {
      "cell_type": "code",
      "execution_count": null,
      "id": "87ffd6e2-a87f-416b-9850-95aa1bcd587d",
      "metadata": {
        "id": "87ffd6e2-a87f-416b-9850-95aa1bcd587d",
        "outputId": "42c4e00c-78f1-46ae-b69b-535e5e17effd"
      },
      "outputs": [
        {
          "name": "stdout",
          "output_type": "stream",
          "text": [
            "[[12 99 70 48  4]\n",
            " [53 64 22 24 50]\n",
            " [30 62 36 46 11]]\n"
          ]
        }
      ],
      "source": [
        "x = random.randint(100, size=(3, 5))\n",
        "print(x)"
      ]
    },
    {
      "cell_type": "code",
      "execution_count": null,
      "id": "c8a2c1c7-cdf7-48c2-93a9-64290a046816",
      "metadata": {
        "id": "c8a2c1c7-cdf7-48c2-93a9-64290a046816",
        "outputId": "3d6d5a4a-1007-413e-cbf9-026e6a6073b5"
      },
      "outputs": [
        {
          "name": "stdout",
          "output_type": "stream",
          "text": [
            "[0.54978589 0.30809422 0.90717483 0.43686087 0.04850644 0.13160317\n",
            " 0.64484335 0.28514687 0.53248315 0.50859871]\n"
          ]
        }
      ],
      "source": [
        "x = random.rand(10)\n",
        "print(x)"
      ]
    },
    {
      "cell_type": "code",
      "execution_count": null,
      "id": "ea71c301-bfe5-492d-9810-b78af4ad1021",
      "metadata": {
        "id": "ea71c301-bfe5-492d-9810-b78af4ad1021",
        "outputId": "8bc3d01c-ada5-4d8a-e2c8-126c50af7002"
      },
      "outputs": [
        {
          "name": "stdout",
          "output_type": "stream",
          "text": [
            "[[0.60545603 0.13934186 0.48933363 0.7203497  0.1732698 ]\n",
            " [0.67059157 0.43349478 0.46797112 0.82435309 0.2523013 ]\n",
            " [0.29625651 0.21425571 0.9607617  0.30893662 0.82758895]]\n"
          ]
        }
      ],
      "source": [
        "x = random.rand(3, 5)\n",
        "print(x)"
      ]
    },
    {
      "cell_type": "code",
      "execution_count": null,
      "id": "69f040a8-4be3-4b7d-b122-2f7557577bb9",
      "metadata": {
        "id": "69f040a8-4be3-4b7d-b122-2f7557577bb9",
        "outputId": "56db2c49-70df-4a41-9dfb-9f0e30aec919"
      },
      "outputs": [
        {
          "name": "stdout",
          "output_type": "stream",
          "text": [
            "3\n"
          ]
        }
      ],
      "source": [
        "x = random.choice([3, 5, 7, 9])\n",
        "print(x)"
      ]
    },
    {
      "cell_type": "code",
      "execution_count": null,
      "id": "3be2296d-66ff-4a9d-9aa1-7c6d52607b78",
      "metadata": {
        "id": "3be2296d-66ff-4a9d-9aa1-7c6d52607b78",
        "outputId": "aefccd27-388a-4b61-f821-2023d17c4a5a"
      },
      "outputs": [
        {
          "name": "stdout",
          "output_type": "stream",
          "text": [
            "[[7 5 3 7 5]\n",
            " [7 7 9 5 9]\n",
            " [7 7 7 7 5]]\n"
          ]
        }
      ],
      "source": [
        "x = random.choice([3, 5, 7, 9], size=(3, 5))\n",
        "print(x)"
      ]
    },
    {
      "cell_type": "code",
      "execution_count": null,
      "id": "50c8e428-ef53-4d69-b88b-d6cb6646533f",
      "metadata": {
        "id": "50c8e428-ef53-4d69-b88b-d6cb6646533f",
        "outputId": "d5e07c3c-4f3f-41cb-e23e-8dc1eccca4a8"
      },
      "outputs": [
        {
          "name": "stdout",
          "output_type": "stream",
          "text": [
            "[-0.97888345 -0.79536492 -0.67426448  0.81977847  0.51197223 -1.02094928\n",
            " -0.06235829 -0.41682735 -1.01111964  1.05155149]\n"
          ]
        }
      ],
      "source": [
        "B = random.randn(10)\n",
        "print(B)"
      ]
    },
    {
      "cell_type": "code",
      "execution_count": null,
      "id": "3b6603ea-d973-4d85-b8b1-62180c961ae1",
      "metadata": {
        "id": "3b6603ea-d973-4d85-b8b1-62180c961ae1",
        "outputId": "0831b994-ba94-491c-c3bc-bc022aa19633"
      },
      "outputs": [
        {
          "name": "stdout",
          "output_type": "stream",
          "text": [
            "[[[[0.69991983 0.44297422]\n",
            "   [0.68137032 0.16075331]\n",
            "   [0.81763751 0.4353439 ]\n",
            "   [0.30843444 0.63491917]]\n",
            "\n",
            "  [[0.98236918 0.97956565]\n",
            "   [0.38781851 0.41128512]\n",
            "   [0.98800561 0.5685431 ]\n",
            "   [0.0256113  0.19179184]]\n",
            "\n",
            "  [[0.37856993 0.09644467]\n",
            "   [0.93561366 0.87012338]\n",
            "   [0.03263357 0.74651193]\n",
            "   [0.57748844 0.35463929]]]\n",
            "\n",
            "\n",
            " [[[0.24477976 0.10164465]\n",
            "   [0.05064284 0.10545007]\n",
            "   [0.52069016 0.23627739]\n",
            "   [0.54072417 0.62901753]]\n",
            "\n",
            "  [[0.79742042 0.59390395]\n",
            "   [0.93077873 0.39404464]\n",
            "   [0.35461336 0.1367498 ]\n",
            "   [0.15993369 0.15032652]]\n",
            "\n",
            "  [[0.07328601 0.08239671]\n",
            "   [0.19595304 0.89916789]\n",
            "   [0.7286973  0.62283415]\n",
            "   [0.37536003 0.33834137]]]]\n"
          ]
        }
      ],
      "source": [
        "C  = random.rand(2,3,4,2)\n",
        "print(C)"
      ]
    },
    {
      "cell_type": "markdown",
      "id": "9f503e70-2166-44b6-93b2-30f884f7a887",
      "metadata": {
        "id": "9f503e70-2166-44b6-93b2-30f884f7a887"
      },
      "source": [
        "### Permutations"
      ]
    },
    {
      "cell_type": "markdown",
      "id": "5c62462a-2a13-45c6-a6f0-694fbd272082",
      "metadata": {
        "id": "5c62462a-2a13-45c6-a6f0-694fbd272082"
      },
      "source": [
        "#### A permutation refers to an arrangement of elements. e.g. [3, 2, 1] is a permutation of [1, 2, 3] and vice-versa."
      ]
    },
    {
      "cell_type": "code",
      "execution_count": null,
      "id": "33d3f6c2-764c-424f-a9bd-ad1deb8d1201",
      "metadata": {
        "id": "33d3f6c2-764c-424f-a9bd-ad1deb8d1201",
        "outputId": "15c48c82-126a-47b0-b2c0-1bf3e88a4687"
      },
      "outputs": [
        {
          "name": "stdout",
          "output_type": "stream",
          "text": [
            "[8 5 0 6 7 2 3 1 9 4]\n"
          ]
        }
      ],
      "source": [
        "A = random.permutation(np.arange(10))\n",
        "print(A)"
      ]
    },
    {
      "cell_type": "markdown",
      "id": "f889e289-ee98-432a-9fa6-14a729fb42be",
      "metadata": {
        "id": "f889e289-ee98-432a-9fa6-14a729fb42be"
      },
      "source": [
        "###  reshape\n"
      ]
    },
    {
      "cell_type": "markdown",
      "id": "403af36d-8d52-4b98-87d2-14bae0e70902",
      "metadata": {
        "id": "403af36d-8d52-4b98-87d2-14bae0e70902"
      },
      "source": [
        "#### Reshaping means changing the shape of an array."
      ]
    },
    {
      "cell_type": "markdown",
      "id": "be0da2a9-397d-4123-84ed-88324433bd0e",
      "metadata": {
        "id": "be0da2a9-397d-4123-84ed-88324433bd0e"
      },
      "source": [
        "#### The shape of an array is the number of elements in each dimension.\n"
      ]
    },
    {
      "cell_type": "markdown",
      "id": "3c9ecf21-5dfc-4147-a961-1f423c5b7065",
      "metadata": {
        "id": "3c9ecf21-5dfc-4147-a961-1f423c5b7065"
      },
      "source": [
        "#### By reshaping we can add or remove dimensions or change number of elements in each dimension."
      ]
    },
    {
      "cell_type": "code",
      "execution_count": null,
      "id": "6780b4a8-7ee4-4260-b67d-34e1abbc7133",
      "metadata": {
        "id": "6780b4a8-7ee4-4260-b67d-34e1abbc7133",
        "outputId": "084672a6-9617-4e5a-bf58-e8d6f680409c"
      },
      "outputs": [
        {
          "name": "stdout",
          "output_type": "stream",
          "text": [
            "[[ 0  1  2  3  4  5  6  7  8  9 10 11 12 13 14 15 16 17 18 19 20 21 22 23\n",
            "  24]\n",
            " [25 26 27 28 29 30 31 32 33 34 35 36 37 38 39 40 41 42 43 44 45 46 47 48\n",
            "  49]\n",
            " [50 51 52 53 54 55 56 57 58 59 60 61 62 63 64 65 66 67 68 69 70 71 72 73\n",
            "  74]\n",
            " [75 76 77 78 79 80 81 82 83 84 85 86 87 88 89 90 91 92 93 94 95 96 97 98\n",
            "  99]]\n",
            "(4, 25)\n"
          ]
        }
      ],
      "source": [
        "D = np.arange(100).reshape(4, 25)\n",
        "print(D)\n",
        "print(D.shape)"
      ]
    },
    {
      "cell_type": "code",
      "execution_count": null,
      "id": "be36a0eb-71ce-4ce7-bfa3-411c8728b503",
      "metadata": {
        "id": "be36a0eb-71ce-4ce7-bfa3-411c8728b503",
        "outputId": "851aa2ff-be26-404c-deee-fadb03a7d213"
      },
      "outputs": [
        {
          "name": "stdout",
          "output_type": "stream",
          "text": [
            "[[[ 0  1  2  3  4]\n",
            "  [ 5  6  7  8  9]\n",
            "  [10 11 12 13 14]\n",
            "  [15 16 17 18 19]\n",
            "  [20 21 22 23 24]]\n",
            "\n",
            " [[25 26 27 28 29]\n",
            "  [30 31 32 33 34]\n",
            "  [35 36 37 38 39]\n",
            "  [40 41 42 43 44]\n",
            "  [45 46 47 48 49]]\n",
            "\n",
            " [[50 51 52 53 54]\n",
            "  [55 56 57 58 59]\n",
            "  [60 61 62 63 64]\n",
            "  [65 66 67 68 69]\n",
            "  [70 71 72 73 74]]\n",
            "\n",
            " [[75 76 77 78 79]\n",
            "  [80 81 82 83 84]\n",
            "  [85 86 87 88 89]\n",
            "  [90 91 92 93 94]\n",
            "  [95 96 97 98 99]]]\n",
            "(4, 5, 5)\n"
          ]
        }
      ],
      "source": [
        "D = np.arange(100).reshape(4, 5,5)\n",
        "print(D)\n",
        "print(D.shape)"
      ]
    },
    {
      "cell_type": "markdown",
      "id": "9c8342e2-a3b1-4f47-b374-757eed6921e2",
      "metadata": {
        "id": "9c8342e2-a3b1-4f47-b374-757eed6921e2"
      },
      "source": [
        "### Slicing"
      ]
    },
    {
      "cell_type": "code",
      "execution_count": null,
      "id": "282ea684-1fd1-4ad8-9253-8000eede337e",
      "metadata": {
        "id": "282ea684-1fd1-4ad8-9253-8000eede337e"
      },
      "outputs": [],
      "source": [
        "import numpy as np\n",
        "a = np.arange(100)\n",
        "b = a[3:10]"
      ]
    },
    {
      "cell_type": "code",
      "execution_count": null,
      "id": "d11baf27-56b6-44cb-9704-190df99e7fa5",
      "metadata": {
        "id": "d11baf27-56b6-44cb-9704-190df99e7fa5",
        "outputId": "5b2cc6a1-a133-4bef-a608-d5aa8018d5d9"
      },
      "outputs": [
        {
          "data": {
            "text/plain": [
              "array([3, 4, 5, 6, 7, 8, 9])"
            ]
          },
          "execution_count": 12,
          "metadata": {},
          "output_type": "execute_result"
        }
      ],
      "source": [
        "b"
      ]
    },
    {
      "cell_type": "code",
      "execution_count": null,
      "id": "f002c938-cf8c-4773-890c-b2f62d3bbfa8",
      "metadata": {
        "id": "f002c938-cf8c-4773-890c-b2f62d3bbfa8",
        "outputId": "a7cc4045-fc6b-4f50-b5a4-faeacc37dd80"
      },
      "outputs": [
        {
          "data": {
            "text/plain": [
              "array([-1200,     4,     5,     6,     7,     8,     9])"
            ]
          },
          "execution_count": 14,
          "metadata": {},
          "output_type": "execute_result"
        }
      ],
      "source": [
        "b[0] = -1200\n",
        "b"
      ]
    },
    {
      "cell_type": "code",
      "execution_count": null,
      "id": "03ede0e1-9d30-43a7-9452-2df91f70330f",
      "metadata": {
        "id": "03ede0e1-9d30-43a7-9452-2df91f70330f",
        "outputId": "2d758c11-d5b0-4658-bd38-d03d9e184bf2"
      },
      "outputs": [
        {
          "data": {
            "text/plain": [
              "array([    0,     1,     2, -1200,     4,     5,     6,     7,     8,\n",
              "           9,    10,    11,    12,    13,    14,    15,    16,    17,\n",
              "          18,    19,    20,    21,    22,    23,    24,    25,    26,\n",
              "          27,    28,    29,    30,    31,    32,    33,    34,    35,\n",
              "          36,    37,    38,    39,    40,    41,    42,    43,    44,\n",
              "          45,    46,    47,    48,    49,    50,    51,    52,    53,\n",
              "          54,    55,    56,    57,    58,    59,    60,    61,    62,\n",
              "          63,    64,    65,    66,    67,    68,    69,    70,    71,\n",
              "          72,    73,    74,    75,    76,    77,    78,    79,    80,\n",
              "          81,    82,    83,    84,    85,    86,    87,    88,    89,\n",
              "          90,    91,    92,    93,    94,    95,    96,    97,    98,\n",
              "          99])"
            ]
          },
          "execution_count": 16,
          "metadata": {},
          "output_type": "execute_result"
        }
      ],
      "source": [
        "a"
      ]
    },
    {
      "cell_type": "code",
      "execution_count": null,
      "id": "27a1b503-ae39-47ad-bcf0-d98710787638",
      "metadata": {
        "id": "27a1b503-ae39-47ad-bcf0-d98710787638",
        "outputId": "da64e728-ba15-4c68-a821-762adadb07ba"
      },
      "outputs": [
        {
          "data": {
            "text/plain": [
              "array([ 5,  6,  7,  8,  9, 10, 11, 12, 13, 14, 15, 16, 17, 18, 19, 20])"
            ]
          },
          "execution_count": 20,
          "metadata": {},
          "output_type": "execute_result"
        }
      ],
      "source": [
        "b = a[5:21].copy()\n",
        "b"
      ]
    },
    {
      "cell_type": "code",
      "execution_count": null,
      "id": "0c0cc113-5356-480a-a6b3-d8dd88e0a054",
      "metadata": {
        "id": "0c0cc113-5356-480a-a6b3-d8dd88e0a054",
        "outputId": "d60420aa-fd9f-4da7-fde0-c3c237cce28b"
      },
      "outputs": [
        {
          "data": {
            "text/plain": [
              "array([ 0,  5, 10, 15, 20, 25, 30, 35, 40, 45, 50, 55, 60, 65, 70, 75, 80,\n",
              "       85, 90, 95])"
            ]
          },
          "execution_count": 22,
          "metadata": {},
          "output_type": "execute_result"
        }
      ],
      "source": [
        "a[::5]"
      ]
    },
    {
      "cell_type": "code",
      "execution_count": null,
      "id": "77663a39-dfd4-4917-bb55-55f15b081fd7",
      "metadata": {
        "id": "77663a39-dfd4-4917-bb55-55f15b081fd7",
        "outputId": "3b787fc0-88f8-4eda-cab1-b64cee5056a4"
      },
      "outputs": [
        {
          "data": {
            "text/plain": [
              "array([99, 94, 89, 84, 79, 74, 69, 64, 59, 54, 49, 44, 39, 34, 29, 24, 19,\n",
              "       14,  9,  4])"
            ]
          },
          "execution_count": 24,
          "metadata": {},
          "output_type": "execute_result"
        }
      ],
      "source": [
        "a[::-5]"
      ]
    },
    {
      "cell_type": "code",
      "execution_count": null,
      "id": "f64f09f6-f635-4d90-8e8d-febc45c679e7",
      "metadata": {
        "id": "f64f09f6-f635-4d90-8e8d-febc45c679e7",
        "outputId": "709cad71-83cc-4d1a-c373-29e5d252a965"
      },
      "outputs": [
        {
          "data": {
            "text/plain": [
              "array([False, False, False,  True, False, False, False, False, False,\n",
              "       False, False, False, False, False, False, False, False, False,\n",
              "       False, False, False, False, False, False, False, False, False,\n",
              "       False, False, False, False, False, False, False, False, False,\n",
              "       False, False, False, False, False, False, False, False, False,\n",
              "       False, False, False, False, False, False, False, False, False,\n",
              "       False, False, False, False, False, False, False, False, False,\n",
              "       False, False, False, False, False, False, False, False, False,\n",
              "       False, False, False, False, False, False, False, False, False,\n",
              "       False, False, False, False, False, False, False, False, False,\n",
              "       False, False, False, False, False, False, False, False, False,\n",
              "       False])"
            ]
          },
          "execution_count": 26,
          "metadata": {},
          "output_type": "execute_result"
        }
      ],
      "source": [
        "a ==-1200"
      ]
    },
    {
      "cell_type": "code",
      "execution_count": null,
      "id": "c19e2d84-4041-45e5-8c9a-73891da7846a",
      "metadata": {
        "id": "c19e2d84-4041-45e5-8c9a-73891da7846a",
        "outputId": "c421c8f4-8e07-41e4-c364-35282593db3f"
      },
      "outputs": [
        {
          "data": {
            "text/plain": [
              "array([0, 0, 0, 3, 0, 0, 0, 0, 0, 0, 0, 0, 0, 0, 0, 0, 0, 0, 0, 0, 0, 0,\n",
              "       0, 0, 0, 0, 0, 0, 0, 0, 0, 0, 0, 0, 0, 0, 0, 0, 0, 0, 0, 0, 0, 0,\n",
              "       0, 0, 0, 0, 0, 0, 0, 0, 0, 0, 0, 0, 0, 0, 0, 0, 0, 0, 0, 0, 0, 0,\n",
              "       0, 0, 0, 0, 0, 0, 0, 0, 0, 0, 0, 0, 0, 0, 0, 0, 0, 0, 0, 0, 0, 0,\n",
              "       0, 0, 0, 0, 0, 0, 0, 0, 0, 0, 0, 0])"
            ]
          },
          "execution_count": 32,
          "metadata": {},
          "output_type": "execute_result"
        }
      ],
      "source": [
        "b = (a==-1200)*np.arange(a.size)\n",
        "b"
      ]
    },
    {
      "cell_type": "code",
      "execution_count": null,
      "id": "0cc8c7de-3667-4436-94e8-133b9e6e4648",
      "metadata": {
        "id": "0cc8c7de-3667-4436-94e8-133b9e6e4648",
        "outputId": "8ef254fb-d52b-4a7b-d848-5b73912b639e"
      },
      "outputs": [
        {
          "data": {
            "text/plain": [
              "array([ 0,  1,  2,  3,  4,  5,  6,  7,  8,  9, 10, 11, 12, 13, 14, 15, 16,\n",
              "       17, 18, 19, 20, 21, 22, 23, 24, 25, 26, 27, 28, 29, 30, 31, 32, 33,\n",
              "       34, 35, 36, 37, 38, 39, 40, 41, 42, 43, 44, 45, 46, 47, 48, 49, 50,\n",
              "       51, 52, 53, 54, 55, 56, 57, 58, 59, 60, 61, 62, 63, 64, 65, 66, 67,\n",
              "       68, 69, 70, 71, 72, 73, 74, 75, 76, 77, 78, 79, 80, 81, 82, 83, 84,\n",
              "       85, 86, 87, 88, 89, 90, 91, 92, 93, 94, 95, 96, 97, 98, 99])"
            ]
          },
          "execution_count": 11,
          "metadata": {},
          "output_type": "execute_result"
        }
      ],
      "source": [
        "a"
      ]
    },
    {
      "cell_type": "code",
      "execution_count": null,
      "id": "0e5df6d5-c2e2-40be-af2e-c0017a8088e7",
      "metadata": {
        "id": "0e5df6d5-c2e2-40be-af2e-c0017a8088e7"
      },
      "outputs": [],
      "source": [
        "idx = np.argwhere(a==-1200)[0][0]"
      ]
    },
    {
      "cell_type": "code",
      "execution_count": null,
      "id": "cfcd0b03-00a0-4dd8-afdb-13eff4619184",
      "metadata": {
        "id": "cfcd0b03-00a0-4dd8-afdb-13eff4619184",
        "outputId": "dbfa041b-c85a-4155-8f37-7b3b92b1e5de"
      },
      "outputs": [
        {
          "data": {
            "text/plain": [
              "3"
            ]
          },
          "execution_count": 40,
          "metadata": {},
          "output_type": "execute_result"
        }
      ],
      "source": [
        "idx"
      ]
    },
    {
      "cell_type": "code",
      "execution_count": null,
      "id": "e8d46878-285c-47a1-a542-ee98f75b1659",
      "metadata": {
        "id": "e8d46878-285c-47a1-a542-ee98f75b1659",
        "outputId": "38780a57-c309-484f-f9b4-8318b0b81343"
      },
      "outputs": [
        {
          "data": {
            "text/plain": [
              "array([ 0,  1,  2,  3,  4,  5,  6,  7,  8,  9, 10, 11, 12, 13, 14, 15, 16,\n",
              "       17, 18, 19, 20, 21, 22, 23, 24, 25, 26, 27, 28, 29, 30, 31, 32, 33,\n",
              "       34, 35, 36, 37, 38, 39, 40, 41, 42, 43, 44, 45, 46, 47, 48, 49, 50,\n",
              "       51, 52, 53, 54, 55, 56, 57, 58, 59, 60, 61, 62, 63, 64, 65, 66, 67,\n",
              "       68, 69, 70, 71, 72, 73, 74, 75, 76, 77, 78, 79, 80, 81, 82, 83, 84,\n",
              "       85, 86, 87, 88, 89, 90, 91, 92, 93, 94, 95, 96, 97, 98, 99])"
            ]
          },
          "execution_count": 42,
          "metadata": {},
          "output_type": "execute_result"
        }
      ],
      "source": [
        "a[idx] = 3\n",
        "a"
      ]
    },
    {
      "cell_type": "code",
      "execution_count": null,
      "id": "5be022fb-d8a5-42fd-8b89-97328fed2529",
      "metadata": {
        "id": "5be022fb-d8a5-42fd-8b89-97328fed2529",
        "outputId": "1e3a2247-b946-43a1-a5ae-7e2e6d9fdb88"
      },
      "outputs": [
        {
          "data": {
            "text/plain": [
              "array([[6., 1., 8., 9.],\n",
              "       [2., 7., 2., 5.],\n",
              "       [7., 6., 1., 9.],\n",
              "       [1., 5., 5., 6.],\n",
              "       [1., 4., 8., 5.]])"
            ]
          },
          "execution_count": 21,
          "metadata": {},
          "output_type": "execute_result"
        }
      ],
      "source": [
        "a = np.round(10*np.random.rand(5,4))\n",
        "a"
      ]
    },
    {
      "cell_type": "code",
      "execution_count": null,
      "id": "88419394-7053-4265-88f1-c84c60bfeda4",
      "metadata": {
        "id": "88419394-7053-4265-88f1-c84c60bfeda4",
        "outputId": "ce668058-7a78-4950-860d-830fb9cdae43"
      },
      "outputs": [
        {
          "data": {
            "text/plain": [
              "7.0"
            ]
          },
          "execution_count": 46,
          "metadata": {},
          "output_type": "execute_result"
        }
      ],
      "source": [
        "a[1,2]"
      ]
    },
    {
      "cell_type": "code",
      "execution_count": null,
      "id": "5dcc754e-27d2-40b9-87f4-622649dc9218",
      "metadata": {
        "id": "5dcc754e-27d2-40b9-87f4-622649dc9218",
        "outputId": "b6717975-55d5-42e3-ad00-77a001f4755a"
      },
      "outputs": [
        {
          "data": {
            "text/plain": [
              "array([ 8.,  8.,  7., 10.])"
            ]
          },
          "execution_count": 48,
          "metadata": {},
          "output_type": "execute_result"
        }
      ],
      "source": [
        "a[1,:]"
      ]
    },
    {
      "cell_type": "code",
      "execution_count": null,
      "id": "83f2b403-fc40-4e32-af47-ee7716558b88",
      "metadata": {
        "id": "83f2b403-fc40-4e32-af47-ee7716558b88",
        "outputId": "1832b81d-5ae4-4d90-b883-956d872dbcfe"
      },
      "outputs": [
        {
          "data": {
            "text/plain": [
              "array([9., 7., 5., 9., 5.])"
            ]
          },
          "execution_count": 50,
          "metadata": {},
          "output_type": "execute_result"
        }
      ],
      "source": [
        "a[:,2]"
      ]
    },
    {
      "cell_type": "code",
      "execution_count": null,
      "id": "74b6f137-e5dc-45f5-af54-5e45d8c65afb",
      "metadata": {
        "id": "74b6f137-e5dc-45f5-af54-5e45d8c65afb",
        "outputId": "0dc6a99d-04e1-4d54-de83-3b8c2d3704ac"
      },
      "outputs": [
        {
          "data": {
            "text/plain": [
              "array([[ 7., 10.],\n",
              "       [ 5.,  0.]])"
            ]
          },
          "execution_count": 54,
          "metadata": {},
          "output_type": "execute_result"
        }
      ],
      "source": [
        "a[1:3,2:4]"
      ]
    },
    {
      "cell_type": "markdown",
      "id": "9027e046-27e6-4456-97ae-0e4d7ef43147",
      "metadata": {
        "id": "9027e046-27e6-4456-97ae-0e4d7ef43147"
      },
      "source": [
        "#### The transpose of a matrix is obtained by moving the rows data to the column and columns data to the rows ."
      ]
    },
    {
      "cell_type": "code",
      "execution_count": null,
      "id": "0e77d0f8-b6b3-407c-a89f-37b3c84894fc",
      "metadata": {
        "id": "0e77d0f8-b6b3-407c-a89f-37b3c84894fc",
        "outputId": "ca288e20-4276-4526-ea80-ddddb02c8bac"
      },
      "outputs": [
        {
          "data": {
            "text/plain": [
              "array([[ 4.,  8.,  9.,  9.,  1.],\n",
              "       [ 5.,  8.,  5.,  1.,  4.],\n",
              "       [ 9.,  7.,  5.,  9.,  5.],\n",
              "       [ 5., 10.,  0.,  5.,  9.]])"
            ]
          },
          "execution_count": 56,
          "metadata": {},
          "output_type": "execute_result"
        }
      ],
      "source": [
        "a.T"
      ]
    },
    {
      "cell_type": "code",
      "execution_count": null,
      "id": "3924d076-6a88-4c00-bce7-bf4a26702c4c",
      "metadata": {
        "id": "3924d076-6a88-4c00-bce7-bf4a26702c4c"
      },
      "outputs": [],
      "source": [
        "import numpy.linalg as la"
      ]
    },
    {
      "cell_type": "markdown",
      "id": "38f38ce1-14eb-41e4-89b2-b52477c9b7fb",
      "metadata": {
        "id": "38f38ce1-14eb-41e4-89b2-b52477c9b7fb"
      },
      "source": [
        "#### linalg.inv(a)\n",
        "Compute the inverse of a matrix."
      ]
    },
    {
      "cell_type": "code",
      "execution_count": null,
      "id": "2693a996-1268-4286-ad87-75085e069998",
      "metadata": {
        "id": "2693a996-1268-4286-ad87-75085e069998",
        "outputId": "15169287-7920-445b-dadc-e31652d64240"
      },
      "outputs": [
        {
          "data": {
            "text/plain": [
              "array([[-28.80121412,  -8.66033528,  11.8874232 ],\n",
              "       [ 12.0380633 ,   1.96208646,  -3.37913554],\n",
              "       [  1.172346  ,   2.89879645,  -0.64212968]])"
            ]
          },
          "execution_count": 68,
          "metadata": {},
          "output_type": "execute_result"
        }
      ],
      "source": [
        "la.inv(np.random.rand(3,3))"
      ]
    },
    {
      "cell_type": "code",
      "execution_count": null,
      "id": "69afa082-4cf0-442e-836b-543e80b8119e",
      "metadata": {
        "id": "69afa082-4cf0-442e-836b-543e80b8119e",
        "outputId": "704096c4-ab96-4841-9fb4-9807cb609cbd"
      },
      "outputs": [
        {
          "data": {
            "text/plain": [
              "array([[6., 1., 8., 9.],\n",
              "       [2., 7., 2., 5.],\n",
              "       [7., 6., 1., 9.],\n",
              "       [1., 5., 5., 6.],\n",
              "       [1., 4., 8., 5.]])"
            ]
          },
          "execution_count": 23,
          "metadata": {},
          "output_type": "execute_result"
        }
      ],
      "source": [
        "a"
      ]
    },
    {
      "cell_type": "code",
      "execution_count": null,
      "id": "fd79627f-6a2a-4d02-9d4b-30b7de6de8ab",
      "metadata": {
        "id": "fd79627f-6a2a-4d02-9d4b-30b7de6de8ab"
      },
      "outputs": [],
      "source": [
        "a.sort(axis=0)"
      ]
    },
    {
      "cell_type": "code",
      "execution_count": null,
      "id": "32969563-17fc-41ee-b167-c92cad75061a",
      "metadata": {
        "id": "32969563-17fc-41ee-b167-c92cad75061a",
        "outputId": "5fe0e340-d2c0-4f3c-9088-b6cd6427acf7"
      },
      "outputs": [
        {
          "data": {
            "text/plain": [
              "array([[1., 1., 1., 5.],\n",
              "       [1., 4., 2., 5.],\n",
              "       [2., 5., 5., 6.],\n",
              "       [6., 6., 8., 9.],\n",
              "       [7., 7., 8., 9.]])"
            ]
          },
          "execution_count": 27,
          "metadata": {},
          "output_type": "execute_result"
        }
      ],
      "source": [
        "a"
      ]
    },
    {
      "cell_type": "code",
      "execution_count": null,
      "id": "61281e13-27c3-455e-9de9-efefd0c658fa",
      "metadata": {
        "id": "61281e13-27c3-455e-9de9-efefd0c658fa",
        "outputId": "af1b0edd-c8fc-4ce4-f3ec-17056cead63c"
      },
      "outputs": [
        {
          "data": {
            "text/plain": [
              "array([[1., 1., 1., 5.],\n",
              "       [1., 2., 4., 5.],\n",
              "       [2., 5., 5., 6.],\n",
              "       [6., 6., 8., 9.],\n",
              "       [7., 7., 8., 9.]])"
            ]
          },
          "execution_count": 29,
          "metadata": {},
          "output_type": "execute_result"
        }
      ],
      "source": [
        "a.sort(axis=1)\n",
        "a"
      ]
    },
    {
      "cell_type": "code",
      "execution_count": null,
      "id": "8ce1c29c-75f7-4f3e-8fa0-8d6604a9c24d",
      "metadata": {
        "id": "8ce1c29c-75f7-4f3e-8fa0-8d6604a9c24d"
      },
      "outputs": [],
      "source": [
        "a = np.arange(100)"
      ]
    },
    {
      "cell_type": "code",
      "execution_count": null,
      "id": "44722be1-64c5-4797-b033-5302d08782df",
      "metadata": {
        "id": "44722be1-64c5-4797-b033-5302d08782df"
      },
      "outputs": [],
      "source": [
        "b = a[[3,5,6]]"
      ]
    },
    {
      "cell_type": "code",
      "execution_count": null,
      "id": "946a59e0-20c1-4afc-8dbe-c0966cb50d6b",
      "metadata": {
        "id": "946a59e0-20c1-4afc-8dbe-c0966cb50d6b",
        "outputId": "a9bc87c5-b065-4684-d37f-5297ede9a0c5"
      },
      "outputs": [
        {
          "data": {
            "text/plain": [
              "array([3, 5, 6])"
            ]
          },
          "execution_count": 35,
          "metadata": {},
          "output_type": "execute_result"
        }
      ],
      "source": [
        "b"
      ]
    },
    {
      "cell_type": "code",
      "execution_count": null,
      "id": "85b4899e-5653-4302-bb90-ac7a76441b46",
      "metadata": {
        "id": "85b4899e-5653-4302-bb90-ac7a76441b46"
      },
      "outputs": [],
      "source": [
        "b[0] = -4"
      ]
    },
    {
      "cell_type": "code",
      "execution_count": null,
      "id": "8f9019d0-0304-4728-b171-9c61dec6b674",
      "metadata": {
        "id": "8f9019d0-0304-4728-b171-9c61dec6b674",
        "outputId": "dc932654-52b9-47b8-c2cd-65a84db1adc3"
      },
      "outputs": [
        {
          "data": {
            "text/plain": [
              "array([ 0,  1,  2,  3,  4,  5,  6,  7,  8,  9, 10, 11, 12, 13, 14, 15, 16,\n",
              "       17, 18, 19, 20, 21, 22, 23, 24, 25, 26, 27, 28, 29, 30, 31, 32, 33,\n",
              "       34, 35, 36, 37, 38, 39, 40, 41, 42, 43, 44, 45, 46, 47, 48, 49, 50,\n",
              "       51, 52, 53, 54, 55, 56, 57, 58, 59, 60, 61, 62, 63, 64, 65, 66, 67,\n",
              "       68, 69, 70, 71, 72, 73, 74, 75, 76, 77, 78, 79, 80, 81, 82, 83, 84,\n",
              "       85, 86, 87, 88, 89, 90, 91, 92, 93, 94, 95, 96, 97, 98, 99])"
            ]
          },
          "execution_count": 39,
          "metadata": {},
          "output_type": "execute_result"
        }
      ],
      "source": [
        "a"
      ]
    },
    {
      "cell_type": "code",
      "execution_count": null,
      "id": "3a672bf0-8a3f-4736-8e93-e421795390ca",
      "metadata": {
        "id": "3a672bf0-8a3f-4736-8e93-e421795390ca",
        "outputId": "6b2ab6f3-5ccd-4299-bf8e-b39bedee83a0"
      },
      "outputs": [
        {
          "data": {
            "text/plain": [
              "array([-4,  5,  6])"
            ]
          },
          "execution_count": 41,
          "metadata": {},
          "output_type": "execute_result"
        }
      ],
      "source": [
        "b"
      ]
    },
    {
      "cell_type": "code",
      "execution_count": null,
      "id": "20fdd2cd-d7af-4993-ae3f-55821d7ae8b3",
      "metadata": {
        "id": "20fdd2cd-d7af-4993-ae3f-55821d7ae8b3"
      },
      "outputs": [],
      "source": [
        "b = a[a<40]"
      ]
    },
    {
      "cell_type": "code",
      "execution_count": null,
      "id": "a4649046-d4ac-45d6-b976-ef4d1326e54b",
      "metadata": {
        "id": "a4649046-d4ac-45d6-b976-ef4d1326e54b",
        "outputId": "957153e4-e8ee-42a2-e71a-f555c8137293"
      },
      "outputs": [
        {
          "data": {
            "text/plain": [
              "array([ 0,  1,  2,  3,  4,  5,  6,  7,  8,  9, 10, 11, 12, 13, 14, 15, 16,\n",
              "       17, 18, 19, 20, 21, 22, 23, 24, 25, 26, 27, 28, 29, 30, 31, 32, 33,\n",
              "       34, 35, 36, 37, 38, 39])"
            ]
          },
          "execution_count": 45,
          "metadata": {},
          "output_type": "execute_result"
        }
      ],
      "source": [
        "b"
      ]
    },
    {
      "cell_type": "code",
      "execution_count": null,
      "id": "001fcdbf-904e-4881-8541-fa1a86ab18b4",
      "metadata": {
        "id": "001fcdbf-904e-4881-8541-fa1a86ab18b4",
        "outputId": "dcdf1c0f-da53-4471-a766-c14324d43764"
      },
      "outputs": [
        {
          "data": {
            "text/plain": [
              "array([31, 32, 33, 34, 35, 36, 37, 38, 39])"
            ]
          },
          "execution_count": 51,
          "metadata": {},
          "output_type": "execute_result"
        }
      ],
      "source": [
        "b = a[(a<40) & (a>30)]\n",
        "b"
      ]
    },
    {
      "cell_type": "markdown",
      "id": "2167815b-b2af-4a30-b0ad-3a983b1f79ed",
      "metadata": {
        "id": "2167815b-b2af-4a30-b0ad-3a983b1f79ed"
      },
      "source": [
        "### & | ~   : these are used for arrays"
      ]
    },
    {
      "cell_type": "markdown",
      "id": "1a2d28b1-9c89-4b2a-920b-88916916d50e",
      "metadata": {
        "id": "1a2d28b1-9c89-4b2a-920b-88916916d50e"
      },
      "source": [
        "### And Or Not: these are used for single objects"
      ]
    },
    {
      "cell_type": "code",
      "execution_count": null,
      "id": "7f1e676d-06d4-48b9-a6c3-d035d8dce287",
      "metadata": {
        "id": "7f1e676d-06d4-48b9-a6c3-d035d8dce287",
        "outputId": "28076db6-8a60-4071-c952-e63dc324e6c7"
      },
      "outputs": [
        {
          "data": {
            "text/plain": [
              "array([[ 2.,  6.,  8.],\n",
              "       [ 7., 10.,  9.]])"
            ]
          },
          "execution_count": 55,
          "metadata": {},
          "output_type": "execute_result"
        }
      ],
      "source": [
        "a = np.round(10*np.random.rand(2,3))\n",
        "a"
      ]
    },
    {
      "cell_type": "code",
      "execution_count": null,
      "id": "a1ef5bc0-2e63-41a8-afbe-a941fa285e54",
      "metadata": {
        "id": "a1ef5bc0-2e63-41a8-afbe-a941fa285e54",
        "outputId": "5e5f1ebc-b50c-4768-9809-1863fa99d70c"
      },
      "outputs": [
        {
          "data": {
            "text/plain": [
              "array([[ 5.,  9., 11.],\n",
              "       [10., 13., 12.]])"
            ]
          },
          "execution_count": 57,
          "metadata": {},
          "output_type": "execute_result"
        }
      ],
      "source": [
        "a+3"
      ]
    },
    {
      "cell_type": "code",
      "execution_count": null,
      "id": "376c6d00-5518-41ed-a7b1-f079addd4ef4",
      "metadata": {
        "id": "376c6d00-5518-41ed-a7b1-f079addd4ef4",
        "outputId": "422493c0-644e-4977-d415-53750b557ec5"
      },
      "outputs": [
        {
          "data": {
            "text/plain": [
              "array([[ 2.,  6.,  8.],\n",
              "       [ 8., 11., 10.]])"
            ]
          },
          "execution_count": 59,
          "metadata": {},
          "output_type": "execute_result"
        }
      ],
      "source": [
        "a+(np.arange(2).reshape(2,1))"
      ]
    },
    {
      "cell_type": "code",
      "execution_count": null,
      "id": "9ef85bb5-70ca-4b24-a55e-be366f34dec8",
      "metadata": {
        "id": "9ef85bb5-70ca-4b24-a55e-be366f34dec8"
      },
      "outputs": [],
      "source": [
        "b = np.round(10*np.random.rand(2,2))"
      ]
    },
    {
      "cell_type": "code",
      "execution_count": null,
      "id": "cb381ed8-8c2f-45b9-b3d0-824a995ef561",
      "metadata": {
        "id": "cb381ed8-8c2f-45b9-b3d0-824a995ef561",
        "outputId": "72a1b6ac-36ec-4c81-ce08-6a4983bedb38"
      },
      "outputs": [
        {
          "data": {
            "text/plain": [
              "array([[ 2.,  6.,  8.],\n",
              "       [ 7., 10.,  9.]])"
            ]
          },
          "execution_count": 67,
          "metadata": {},
          "output_type": "execute_result"
        }
      ],
      "source": [
        "a\n"
      ]
    },
    {
      "cell_type": "code",
      "execution_count": null,
      "id": "3d80ed82-ab38-45a8-9aa3-7a834fad309a",
      "metadata": {
        "id": "3d80ed82-ab38-45a8-9aa3-7a834fad309a",
        "outputId": "a6c31d67-76a6-4ea1-d1f5-08464eeaf1ef"
      },
      "outputs": [
        {
          "data": {
            "text/plain": [
              "array([[7., 4.],\n",
              "       [6., 2.]])"
            ]
          },
          "execution_count": 69,
          "metadata": {},
          "output_type": "execute_result"
        }
      ],
      "source": [
        "b\n"
      ]
    },
    {
      "cell_type": "code",
      "execution_count": null,
      "id": "2780e71e-13b0-4b17-80eb-38e4a4aaa6be",
      "metadata": {
        "id": "2780e71e-13b0-4b17-80eb-38e4a4aaa6be"
      },
      "outputs": [],
      "source": [
        "c = np.hstack((a,b))"
      ]
    },
    {
      "cell_type": "code",
      "execution_count": null,
      "id": "c82d5f81-4c39-4d50-9b6a-e9d4fb7a5dc3",
      "metadata": {
        "id": "c82d5f81-4c39-4d50-9b6a-e9d4fb7a5dc3",
        "outputId": "f4319a32-f4b7-46e9-82b8-d0347ea68355"
      },
      "outputs": [
        {
          "data": {
            "text/plain": [
              "array([[ 2.,  6.,  8.,  7.,  4.],\n",
              "       [ 7., 10.,  9.,  6.,  2.]])"
            ]
          },
          "execution_count": 77,
          "metadata": {},
          "output_type": "execute_result"
        }
      ],
      "source": [
        "c"
      ]
    },
    {
      "cell_type": "code",
      "execution_count": null,
      "id": "2f3e381a-3e8f-47d7-a610-556aacf1dc4d",
      "metadata": {
        "id": "2f3e381a-3e8f-47d7-a610-556aacf1dc4d"
      },
      "outputs": [],
      "source": [
        "a = np.random.permutation(np.arange(10))"
      ]
    },
    {
      "cell_type": "code",
      "execution_count": null,
      "id": "df20b842-934b-418e-9298-bd45f46ce064",
      "metadata": {
        "id": "df20b842-934b-418e-9298-bd45f46ce064",
        "outputId": "138735e3-fc8f-44ff-b901-9623cccb32e0"
      },
      "outputs": [
        {
          "data": {
            "text/plain": [
              "array([5, 0, 9, 8, 6, 7, 4, 2, 1, 3])"
            ]
          },
          "execution_count": 81,
          "metadata": {},
          "output_type": "execute_result"
        }
      ],
      "source": [
        "a"
      ]
    },
    {
      "cell_type": "code",
      "execution_count": null,
      "id": "cb862d73-16c0-48f5-a66b-d37820de93b9",
      "metadata": {
        "id": "cb862d73-16c0-48f5-a66b-d37820de93b9",
        "outputId": "1eb7848f-8270-4e14-9ad2-3a632c6de8ef"
      },
      "outputs": [
        {
          "data": {
            "text/plain": [
              "array([0, 1, 2, 3, 4, 5, 6, 7, 8, 9])"
            ]
          },
          "execution_count": 83,
          "metadata": {},
          "output_type": "execute_result"
        }
      ],
      "source": [
        "a.sort()\n",
        "a"
      ]
    },
    {
      "cell_type": "code",
      "execution_count": null,
      "id": "5b6aa42e-c12a-4c1f-b1ed-a219d3f22602",
      "metadata": {
        "id": "5b6aa42e-c12a-4c1f-b1ed-a219d3f22602",
        "outputId": "2a81c6b6-0318-4ac6-a71d-a7069996490f"
      },
      "outputs": [
        {
          "data": {
            "text/plain": [
              "array([0, 1, 2, 3, 4, 5, 6, 7, 8, 9])"
            ]
          },
          "execution_count": 85,
          "metadata": {},
          "output_type": "execute_result"
        }
      ],
      "source": [
        "np.sort(a)"
      ]
    },
    {
      "cell_type": "code",
      "execution_count": null,
      "id": "2c018584-e0ba-4bef-93f2-0d27dd329e8c",
      "metadata": {
        "id": "2c018584-e0ba-4bef-93f2-0d27dd329e8c",
        "outputId": "192acba0-bb1a-4d3a-a2ae-f42f4d9ac543"
      },
      "outputs": [
        {
          "data": {
            "text/plain": [
              "array([9, 8, 7, 6, 5, 4, 3, 2, 1, 0])"
            ]
          },
          "execution_count": 87,
          "metadata": {},
          "output_type": "execute_result"
        }
      ],
      "source": [
        "a.sort()\n",
        "a = a[::-1]\n",
        "a"
      ]
    },
    {
      "cell_type": "code",
      "execution_count": null,
      "id": "18f371c7-9793-43b9-845d-5b772f4e675d",
      "metadata": {
        "id": "18f371c7-9793-43b9-845d-5b772f4e675d"
      },
      "outputs": [],
      "source": [
        "a = np.array([\"abc\",\"test\",\"how are you\",\"17a8h\"])"
      ]
    },
    {
      "cell_type": "code",
      "execution_count": null,
      "id": "7abc2ae4-363d-4f8c-b997-6e74f95ee22c",
      "metadata": {
        "id": "7abc2ae4-363d-4f8c-b997-6e74f95ee22c",
        "outputId": "acc5cf34-f080-4078-cf6c-427b0c7b4310"
      },
      "outputs": [
        {
          "data": {
            "text/plain": [
              "array(['17a8h', 'abc', 'how are you', 'test'], dtype='<U11')"
            ]
          },
          "execution_count": 97,
          "metadata": {},
          "output_type": "execute_result"
        }
      ],
      "source": [
        "a.sort()\n",
        "a"
      ]
    },
    {
      "cell_type": "code",
      "execution_count": null,
      "id": "df87bce1-dd18-4e3b-bb98-32b2cdb992b5",
      "metadata": {
        "id": "df87bce1-dd18-4e3b-bb98-32b2cdb992b5"
      },
      "outputs": [],
      "source": [
        "b = np.random.rand(1000000)"
      ]
    },
    {
      "cell_type": "code",
      "execution_count": null,
      "id": "a50b6f22-a429-4f40-8430-0c9c62b33c30",
      "metadata": {
        "id": "a50b6f22-a429-4f40-8430-0c9c62b33c30",
        "outputId": "09d8f60f-5416-4249-8300-2827c7c93075"
      },
      "outputs": [
        {
          "name": "stdout",
          "output_type": "stream",
          "text": [
            "77.8 ms ± 7.61 ms per loop (mean ± std. dev. of 7 runs, 10 loops each)\n",
            "334 μs ± 10.7 μs per loop (mean ± std. dev. of 7 runs, 1,000 loops each)\n"
          ]
        }
      ],
      "source": [
        "%timeit sum(b)\n",
        "%timeit np.sum(b)"
      ]
    },
    {
      "cell_type": "code",
      "execution_count": null,
      "id": "2bd5efba-767d-4c2d-ba07-19f36d480245",
      "metadata": {
        "id": "2bd5efba-767d-4c2d-ba07-19f36d480245"
      },
      "outputs": [],
      "source": [
        "def mySum(G):\n",
        "    s = 0\n",
        "    for x in G:\n",
        "        s+=x\n",
        "    return s"
      ]
    },
    {
      "cell_type": "code",
      "execution_count": null,
      "id": "86ede8a3-d7d6-497d-9561-1039a8efd90c",
      "metadata": {
        "editable": true,
        "tags": [],
        "id": "86ede8a3-d7d6-497d-9561-1039a8efd90c",
        "outputId": "949d7b23-44a0-4848-ed22-5751bc846523"
      },
      "outputs": [
        {
          "name": "stdout",
          "output_type": "stream",
          "text": [
            "105 ms ± 10.5 ms per loop (mean ± std. dev. of 7 runs, 10 loops each)\n"
          ]
        }
      ],
      "source": [
        "%timeit mySum(b)\n"
      ]
    },
    {
      "cell_type": "markdown",
      "source": [
        "## ------   New Learning Resource ------"
      ],
      "metadata": {
        "id": "5189631b-e88f-45fa-8f1f-48b1119eb57e"
      },
      "id": "5189631b-e88f-45fa-8f1f-48b1119eb57e"
    },
    {
      "cell_type": "code",
      "source": [
        "import numpy as np"
      ],
      "metadata": {
        "id": "3Y7vAroGO13D"
      },
      "id": "3Y7vAroGO13D",
      "execution_count": null,
      "outputs": []
    },
    {
      "cell_type": "markdown",
      "source": [
        "### Create a NumPy ndarray Object:\n",
        "\n",
        ">NumPy is used to work with arrays. The array object in NumPy is called ndarray.\n",
        "\n",
        "\n",
        ">We can create a NumPy ndarray object by using the array() function."
      ],
      "metadata": {
        "id": "Oqj98FYMPDzx"
      },
      "id": "Oqj98FYMPDzx"
    },
    {
      "cell_type": "code",
      "source": [
        "arr = np.array([1,2,3,4,5])\n",
        "print(arr)\n",
        "\n",
        "# type(): This built-in Python function tells us the type of the object passed to it. Like in above code it shows that arr is numpy.ndarray type.\n",
        "print(type(arr))"
      ],
      "metadata": {
        "colab": {
          "base_uri": "https://localhost:8080/"
        },
        "id": "ZL9naMBlO5uu",
        "outputId": "7284f62d-861e-4bd7-b4d6-f1bc1b99200a"
      },
      "id": "ZL9naMBlO5uu",
      "execution_count": null,
      "outputs": [
        {
          "output_type": "stream",
          "name": "stdout",
          "text": [
            "[1 2 3 4 5]\n",
            "<class 'numpy.ndarray'>\n"
          ]
        }
      ]
    },
    {
      "cell_type": "markdown",
      "source": [
        " `To create an ndarray, we can pass a list, tuple or any array-like object into the array() method, and it will be converted into an ndarray:`"
      ],
      "metadata": {
        "id": "QG0kicsVPYji"
      },
      "id": "QG0kicsVPYji"
    },
    {
      "cell_type": "code",
      "source": [
        "arr = np.array((1,2,3,4,5))\n",
        "print(arr)\n",
        "print(type(arr))"
      ],
      "metadata": {
        "colab": {
          "base_uri": "https://localhost:8080/"
        },
        "id": "is9V4IATPv1l",
        "outputId": "049c1a1b-0d02-45a2-b293-a1aeb05ac21f"
      },
      "id": "is9V4IATPv1l",
      "execution_count": null,
      "outputs": [
        {
          "output_type": "stream",
          "name": "stdout",
          "text": [
            "[1 2 3 4 5]\n",
            "<class 'numpy.ndarray'>\n"
          ]
        }
      ]
    },
    {
      "cell_type": "markdown",
      "source": [
        "### Dimensions in Arrays\n",
        ">A dimension in arrays is one level of array depth (nested arrays).\n",
        "\n",
        "\n",
        "**nested array: are arrays that have arrays as their elements.**"
      ],
      "metadata": {
        "id": "RzfHM1xZP3cu"
      },
      "id": "RzfHM1xZP3cu"
    },
    {
      "cell_type": "markdown",
      "source": [
        "### 0-D Arrays\n",
        ">0-D arrays, or Scalars, are the elements in an array. Each value in an array is a 0-D array."
      ],
      "metadata": {
        "id": "daHuQ4x0QPis"
      },
      "id": "daHuQ4x0QPis"
    },
    {
      "cell_type": "code",
      "source": [
        "arr = np.array(42)\n",
        "print(arr)"
      ],
      "metadata": {
        "colab": {
          "base_uri": "https://localhost:8080/"
        },
        "id": "FU4RW25HQfkK",
        "outputId": "aa1445ab-94dc-4e33-8067-517f18b1de28"
      },
      "id": "FU4RW25HQfkK",
      "execution_count": null,
      "outputs": [
        {
          "output_type": "stream",
          "name": "stdout",
          "text": [
            "42\n"
          ]
        }
      ]
    },
    {
      "cell_type": "markdown",
      "source": [
        "### 1-D Arrays\n",
        ">An array that has 0-D arrays as its elements is called uni-dimensional or 1-D array.\n",
        "\n",
        ">These are the most common and basic arrays."
      ],
      "metadata": {
        "id": "uk2S52GHQmyS"
      },
      "id": "uk2S52GHQmyS"
    },
    {
      "cell_type": "code",
      "source": [
        "arr = np.array([1, 2, 3, 4, 5])\n",
        "\n",
        "print(arr)"
      ],
      "metadata": {
        "colab": {
          "base_uri": "https://localhost:8080/"
        },
        "id": "O_hSxyhQQzUn",
        "outputId": "095694f9-efd5-4996-ba70-b2fc28970139"
      },
      "id": "O_hSxyhQQzUn",
      "execution_count": null,
      "outputs": [
        {
          "output_type": "stream",
          "name": "stdout",
          "text": [
            "[1 2 3 4 5]\n"
          ]
        }
      ]
    },
    {
      "cell_type": "markdown",
      "source": [
        "### 2-D Arrays\n",
        ">An array that has 1-D arrays as its elements is called a 2-D array.\n",
        "\n",
        ">These are often used to represent matrix or 2nd order tensors.\n",
        "\n",
        "**NumPy has a whole sub module dedicated towards matrix operations called numpy.mat**"
      ],
      "metadata": {
        "id": "VCWc9LxSRAom"
      },
      "id": "VCWc9LxSRAom"
    },
    {
      "cell_type": "code",
      "source": [
        "arr = np.array([[1,2,3], [4,5,6]])\n",
        "print(arr)"
      ],
      "metadata": {
        "colab": {
          "base_uri": "https://localhost:8080/"
        },
        "id": "koWhtjNjRYJl",
        "outputId": "5f521e46-6141-4391-aebf-3089386ff658"
      },
      "id": "koWhtjNjRYJl",
      "execution_count": null,
      "outputs": [
        {
          "output_type": "stream",
          "name": "stdout",
          "text": [
            "[[1 2 3]\n",
            " [4 5 6]]\n"
          ]
        }
      ]
    },
    {
      "cell_type": "markdown",
      "source": [
        "### 3-D arrays\n",
        ">An array that has 2-D arrays (matrices) as its elements is called 3-D array.\n",
        "\n",
        ">These are often used to represent a 3rd order tensor."
      ],
      "metadata": {
        "id": "AQOZxKRXRoS_"
      },
      "id": "AQOZxKRXRoS_"
    },
    {
      "cell_type": "code",
      "source": [
        "arr = np.array([[[1, 2, 3], [4, 5, 6]], [[1, 2, 3], [4, 5, 6]]])\n",
        "\n",
        "print(arr)"
      ],
      "metadata": {
        "colab": {
          "base_uri": "https://localhost:8080/"
        },
        "id": "FiUokKA-SRjp",
        "outputId": "0fc1ed17-203f-4281-9d8d-72c0d07cac7d"
      },
      "id": "FiUokKA-SRjp",
      "execution_count": null,
      "outputs": [
        {
          "output_type": "stream",
          "name": "stdout",
          "text": [
            "[[[1 2 3]\n",
            "  [4 5 6]]\n",
            "\n",
            " [[1 2 3]\n",
            "  [4 5 6]]]\n"
          ]
        }
      ]
    },
    {
      "cell_type": "markdown",
      "source": [
        "## Check Number of Dimensions?\n",
        ">NumPy Arrays provides the ndim attribute that returns an integer that tells us how many dimensions the array have."
      ],
      "metadata": {
        "id": "K8AfWyOuSXiC"
      },
      "id": "K8AfWyOuSXiC"
    },
    {
      "cell_type": "code",
      "source": [
        "a = np.array(42)\n",
        "b = np.array([1,2,3,4,5])\n",
        "c = np.array([[1,2,3],[4,5,6]])\n",
        "d = np.array([[[1,2,3],[4,5,6]],[[7,8,9],[10,11,12]]])\n",
        "\n",
        "print(a.ndim)\n",
        "print(b.ndim)\n",
        "print(c.ndim)\n",
        "print(d.ndim)"
      ],
      "metadata": {
        "colab": {
          "base_uri": "https://localhost:8080/"
        },
        "id": "kSJa7sBmSc_J",
        "outputId": "0604542c-25b4-45b7-ea74-a4c0b0575f7a"
      },
      "id": "kSJa7sBmSc_J",
      "execution_count": null,
      "outputs": [
        {
          "output_type": "stream",
          "name": "stdout",
          "text": [
            "0\n",
            "1\n",
            "2\n",
            "3\n"
          ]
        }
      ]
    },
    {
      "cell_type": "markdown",
      "source": [
        "## Higher Dimensional Arrays\n",
        "\n",
        ">An array can have any number of dimensions.\n",
        "\n",
        ">When the array is created, you can define the number of dimensions by using the ndmin argument."
      ],
      "metadata": {
        "id": "CltKU4wbTJjo"
      },
      "id": "CltKU4wbTJjo"
    },
    {
      "cell_type": "code",
      "source": [
        "arr = np.array([1,2,3,4], ndmin=5)\n",
        "print(arr)\n",
        "print('number of dimensions :', arr.ndim)"
      ],
      "metadata": {
        "colab": {
          "base_uri": "https://localhost:8080/"
        },
        "id": "1aZZ7oOHTNqO",
        "outputId": "9c512f2f-2fa5-4302-d057-a2b02a819983"
      },
      "id": "1aZZ7oOHTNqO",
      "execution_count": null,
      "outputs": [
        {
          "output_type": "stream",
          "name": "stdout",
          "text": [
            "[[[[[1 2 3 4]]]]]\n",
            "number of dimensions : 5\n"
          ]
        }
      ]
    },
    {
      "cell_type": "markdown",
      "source": [
        "`In this array the innermost dimension (5th dim) has 4 elements, the 4th dim has 1 element that is the vector, the 3rd dim has 1 element that is the matrix with the vector, the 2nd dim has 1 element that is 3D array and 1st dim has 1 element that is a 4D array.`\n",
        "\n",
        "\n",
        "\n",
        "\n",
        "\n"
      ],
      "metadata": {
        "id": "6j6rTT1vTcRY"
      },
      "id": "6j6rTT1vTcRY"
    },
    {
      "cell_type": "markdown",
      "source": [
        "# NumPy Array Indexing"
      ],
      "metadata": {
        "id": "3-w4NNgAUCc7"
      },
      "id": "3-w4NNgAUCc7"
    },
    {
      "cell_type": "markdown",
      "source": [
        "### Access Array Elements\n",
        ">Array indexing is the same as accessing an array element.\n",
        "\n",
        ">You can access an array element by referring to its index number.\n",
        "\n",
        ">The indexes in NumPy arrays start with 0, meaning that the first element has index 0, and the second has index 1 etc."
      ],
      "metadata": {
        "id": "hMGfG8hXUOfR"
      },
      "id": "hMGfG8hXUOfR"
    },
    {
      "cell_type": "code",
      "source": [
        "arr = np.array([1,2,3,4])\n",
        "print(arr[0])"
      ],
      "metadata": {
        "colab": {
          "base_uri": "https://localhost:8080/"
        },
        "id": "KCuJPV8tUY0n",
        "outputId": "014101a5-81ea-442b-e851-1a4550b8893f"
      },
      "id": "KCuJPV8tUY0n",
      "execution_count": null,
      "outputs": [
        {
          "output_type": "stream",
          "name": "stdout",
          "text": [
            "1\n"
          ]
        }
      ]
    },
    {
      "cell_type": "markdown",
      "source": [
        "### Access 2-D Arrays\n",
        ">To access elements from 2-D arrays we can use comma separated integers representing the dimension and the index of the element.\n",
        "\n",
        ">Think of 2-D arrays like a table with rows and columns, where the dimension represents the row and the index represents the column."
      ],
      "metadata": {
        "id": "KsMB1hBkUlCa"
      },
      "id": "KsMB1hBkUlCa"
    },
    {
      "cell_type": "code",
      "source": [
        "arr = np.array([[1,2,3,4,5], [6,7,8,9,10]])\n",
        "print('2nd element on 1st row: ', arr[0,1])\n",
        "print('2nd element on 1st row: ', arr[0][1])"
      ],
      "metadata": {
        "colab": {
          "base_uri": "https://localhost:8080/"
        },
        "id": "ub0tcOj-UvEk",
        "outputId": "52805beb-4619-4ae3-b905-9f5509331a65"
      },
      "id": "ub0tcOj-UvEk",
      "execution_count": null,
      "outputs": [
        {
          "output_type": "stream",
          "name": "stdout",
          "text": [
            "2nd element on 1st row:  2\n",
            "2nd element on 1st row:  2\n"
          ]
        }
      ]
    },
    {
      "cell_type": "code",
      "source": [
        "arr[1,4]"
      ],
      "metadata": {
        "colab": {
          "base_uri": "https://localhost:8080/"
        },
        "id": "NVo_OVZ-VG5E",
        "outputId": "0cbf30b2-f51d-4985-f4ee-a97a825391c5"
      },
      "id": "NVo_OVZ-VG5E",
      "execution_count": null,
      "outputs": [
        {
          "output_type": "execute_result",
          "data": {
            "text/plain": [
              "np.int64(10)"
            ]
          },
          "metadata": {},
          "execution_count": 18
        }
      ]
    },
    {
      "cell_type": "markdown",
      "source": [
        "### Access 3-D Arrays\n",
        ">To access elements from 3-D arrays we can use comma separated integers representing the dimensions and the index of the element."
      ],
      "metadata": {
        "id": "W2-XYb05Vf0D"
      },
      "id": "W2-XYb05Vf0D"
    },
    {
      "cell_type": "code",
      "source": [
        "arr = np.array([[[1, 2, 3], [4, 5, 6]], [[7, 8, 9], [10, 11, 12]]])\n",
        "\n",
        "print(arr[0, 1, 2])\n",
        "print(arr[0][1][2])"
      ],
      "metadata": {
        "colab": {
          "base_uri": "https://localhost:8080/"
        },
        "id": "6qp82Y5sVpEg",
        "outputId": "cf3586a6-1276-41e8-9cb6-2a39edffed86"
      },
      "id": "6qp82Y5sVpEg",
      "execution_count": null,
      "outputs": [
        {
          "output_type": "stream",
          "name": "stdout",
          "text": [
            "6\n",
            "6\n"
          ]
        }
      ]
    },
    {
      "cell_type": "markdown",
      "source": [
        "### Negative Indexing\n",
        ">Use negative indexing to access an array from the end."
      ],
      "metadata": {
        "id": "KvI0FoV0X1UT"
      },
      "id": "KvI0FoV0X1UT"
    },
    {
      "cell_type": "code",
      "source": [
        "arr = np.array([[1,2,3,4,5], [6,7,8,9,10]])\n",
        "\n",
        "print('Last element from 2nd dim: ', arr[1, -1])\n",
        "print('Last element from 2nd dim: ', arr[1][-1])"
      ],
      "metadata": {
        "id": "DofmGOHcX_XI",
        "outputId": "d76fdc9e-2e32-445e-b724-ce5b71aeece4",
        "colab": {
          "base_uri": "https://localhost:8080/"
        }
      },
      "id": "DofmGOHcX_XI",
      "execution_count": null,
      "outputs": [
        {
          "output_type": "stream",
          "name": "stdout",
          "text": [
            "Last element from 2nd dim:  10\n",
            "Last element from 2nd dim:  10\n"
          ]
        }
      ]
    },
    {
      "cell_type": "markdown",
      "source": [
        "# NumPy Array Slicing"
      ],
      "metadata": {
        "id": "ybs1edGGYB24"
      },
      "id": "ybs1edGGYB24"
    },
    {
      "cell_type": "markdown",
      "source": [
        "## Slicing arrays\n",
        ">Slicing in python means taking elements from one given index to another given index.\n",
        "\n",
        ">We pass slice instead of index like this: [start:end].\n",
        "\n",
        ">We can also define the step, like this: [start:end:step].\n",
        "\n",
        ">If we don't pass start its considered 0\n",
        "\n",
        ">If we don't pass end its considered length of array in that dimension\n",
        "\n",
        ">If we don't pass step its considered 1"
      ],
      "metadata": {
        "id": "XgZaKI75Yanb"
      },
      "id": "XgZaKI75Yanb"
    },
    {
      "cell_type": "code",
      "source": [
        "# Slice elements from index 1 to index 5 from the following array:\n",
        "arr = np.array([1, 2, 3, 4, 5, 6, 7])\n",
        "arr[1:5]"
      ],
      "metadata": {
        "id": "FtBu3j6SYrj0",
        "outputId": "199df51f-a89b-44d3-fffb-4c00196a465c",
        "colab": {
          "base_uri": "https://localhost:8080/"
        }
      },
      "id": "FtBu3j6SYrj0",
      "execution_count": null,
      "outputs": [
        {
          "output_type": "execute_result",
          "data": {
            "text/plain": [
              "array([2, 3, 4, 5])"
            ]
          },
          "metadata": {},
          "execution_count": 24
        }
      ]
    },
    {
      "cell_type": "markdown",
      "source": [
        "**Note: The result includes the start index, but excludes the end index.**"
      ],
      "metadata": {
        "id": "xWO1O9nCZDHT"
      },
      "id": "xWO1O9nCZDHT"
    },
    {
      "cell_type": "code",
      "source": [
        "# Slice elements from index 4 to the end of the array:\n",
        "arr = np.array([1, 2, 3, 4, 5, 6, 7])\n",
        "arr[4:]"
      ],
      "metadata": {
        "id": "VeLLZ1DHZHJR",
        "outputId": "f675daca-1622-4374-e962-a803076843fe",
        "colab": {
          "base_uri": "https://localhost:8080/"
        }
      },
      "id": "VeLLZ1DHZHJR",
      "execution_count": null,
      "outputs": [
        {
          "output_type": "execute_result",
          "data": {
            "text/plain": [
              "array([5, 6, 7])"
            ]
          },
          "metadata": {},
          "execution_count": 25
        }
      ]
    },
    {
      "cell_type": "code",
      "source": [
        "# Slice elements from the beginning to index 4 (not included):\n",
        "arr = np.array([1, 2, 3, 4, 5, 6, 7])\n",
        "arr[:4]"
      ],
      "metadata": {
        "id": "-3BwmHJDZVcZ",
        "outputId": "562fc82c-6727-46cb-84b7-77ed42eeaaaa",
        "colab": {
          "base_uri": "https://localhost:8080/"
        }
      },
      "id": "-3BwmHJDZVcZ",
      "execution_count": null,
      "outputs": [
        {
          "output_type": "execute_result",
          "data": {
            "text/plain": [
              "array([1, 2, 3, 4])"
            ]
          },
          "metadata": {},
          "execution_count": 26
        }
      ]
    },
    {
      "cell_type": "code",
      "source": [
        "arr = np.array([1, 2, 3, 4, 5, 6, 7])\n",
        "arr[:]"
      ],
      "metadata": {
        "id": "OxgRDPs9Z1pa",
        "outputId": "3638ac20-f858-488f-bf07-a6d079035daf",
        "colab": {
          "base_uri": "https://localhost:8080/"
        }
      },
      "id": "OxgRDPs9Z1pa",
      "execution_count": null,
      "outputs": [
        {
          "output_type": "execute_result",
          "data": {
            "text/plain": [
              "array([1, 2, 3, 4, 5, 6, 7])"
            ]
          },
          "metadata": {},
          "execution_count": 28
        }
      ]
    },
    {
      "cell_type": "markdown",
      "source": [
        "###Negative Slicing\n",
        ">Use the minus operator to refer to an index from the end:\n",
        "\n"
      ],
      "metadata": {
        "id": "sChcHmzlZfDQ"
      },
      "id": "sChcHmzlZfDQ"
    },
    {
      "cell_type": "code",
      "source": [
        "# Slice from the index 3 from the end to index 1 from the end:\n",
        "arr = np.array([1, 2, 3, 4, 5, 6, 7])\n",
        "arr[-3:-1]"
      ],
      "metadata": {
        "id": "wK-FAM0YZmN3",
        "outputId": "b533d86c-c388-4c2a-af63-6f4592ece8d6",
        "colab": {
          "base_uri": "https://localhost:8080/"
        }
      },
      "id": "wK-FAM0YZmN3",
      "execution_count": null,
      "outputs": [
        {
          "output_type": "execute_result",
          "data": {
            "text/plain": [
              "array([5, 6])"
            ]
          },
          "metadata": {},
          "execution_count": 27
        }
      ]
    },
    {
      "cell_type": "markdown",
      "source": [
        "### STEP\n",
        ">Use the step value to determine the step of the slicing:"
      ],
      "metadata": {
        "id": "oGk574-BZu1v"
      },
      "id": "oGk574-BZu1v"
    },
    {
      "cell_type": "code",
      "source": [
        "# Return every other element from index 1 to index 5:\n",
        "arr = np.array([1, 2, 3, 4, 5, 6, 7])\n",
        "arr[1:5:2]"
      ],
      "metadata": {
        "id": "Y60Pdn5-Zzmt",
        "outputId": "0bbcf485-a8a7-4c7f-c33c-f2b138fe6990",
        "colab": {
          "base_uri": "https://localhost:8080/"
        }
      },
      "id": "Y60Pdn5-Zzmt",
      "execution_count": null,
      "outputs": [
        {
          "output_type": "execute_result",
          "data": {
            "text/plain": [
              "array([2, 4])"
            ]
          },
          "metadata": {},
          "execution_count": 29
        }
      ]
    },
    {
      "cell_type": "code",
      "source": [
        "# Return every other element from the entire array:\n",
        "arr = np.array([1, 2, 3, 4, 5, 6, 7])\n",
        "print(arr[::2])"
      ],
      "metadata": {
        "id": "IWwd_pviaBrN",
        "outputId": "2a689f88-5e55-4852-bb51-aa7a526600e9",
        "colab": {
          "base_uri": "https://localhost:8080/"
        }
      },
      "id": "IWwd_pviaBrN",
      "execution_count": null,
      "outputs": [
        {
          "output_type": "stream",
          "name": "stdout",
          "text": [
            "[1 3 5 7]\n"
          ]
        }
      ]
    },
    {
      "cell_type": "markdown",
      "source": [
        "## Slicing 2-D Arrays"
      ],
      "metadata": {
        "id": "tn0kzBIpaQc9"
      },
      "id": "tn0kzBIpaQc9"
    },
    {
      "cell_type": "code",
      "source": [
        "# From the second element, slice elements from index 1 to index 4 (not included):\n",
        "arr = np.array([[1, 2, 3, 4, 5], [6, 7, 8, 9, 10], [11, 12, 13, 14, 15]])\n",
        "arr[1,1:4]\n",
        "arr[::2][1:3]"
      ],
      "metadata": {
        "id": "CclSZXNCaaB0",
        "outputId": "1efcc66b-d416-4ebb-ad59-380dd7494e55",
        "colab": {
          "base_uri": "https://localhost:8080/"
        }
      },
      "id": "CclSZXNCaaB0",
      "execution_count": null,
      "outputs": [
        {
          "output_type": "execute_result",
          "data": {
            "text/plain": [
              "array([[11, 12, 13, 14, 15]])"
            ]
          },
          "metadata": {},
          "execution_count": 33
        }
      ]
    },
    {
      "cell_type": "markdown",
      "source": [
        "**Note: Remember that second element has index 1.**"
      ],
      "metadata": {
        "id": "iOxNS9-takLb"
      },
      "id": "iOxNS9-takLb"
    },
    {
      "cell_type": "code",
      "source": [
        "# From both elements, return index 2:\n",
        "import numpy as np\n",
        "\n",
        "arr = np.array([[1, 2, 3, 4, 5], [6, 7, 8, 9, 10]])\n",
        "print(arr[0:2, 2])"
      ],
      "metadata": {
        "id": "8w1tyRpVL7WN",
        "colab": {
          "base_uri": "https://localhost:8080/"
        },
        "outputId": "463b9b43-cdae-41bd-b995-f40cae84d52a"
      },
      "id": "8w1tyRpVL7WN",
      "execution_count": null,
      "outputs": [
        {
          "output_type": "stream",
          "name": "stdout",
          "text": [
            "[3 8]\n"
          ]
        }
      ]
    },
    {
      "cell_type": "code",
      "source": [
        "# From both elements, slice index 1 to index 4 (not included), this will return a 2-D array:\n",
        "import numpy as np\n",
        "\n",
        "arr = np.array([[1, 2, 3, 4, 5], [6, 7, 8, 9, 10]])\n",
        "arr[0:2, 1:4]"
      ],
      "metadata": {
        "colab": {
          "base_uri": "https://localhost:8080/"
        },
        "id": "sUaOQZfuisNh",
        "outputId": "8a6510ce-f1bb-431f-c907-78441d2b986a"
      },
      "id": "sUaOQZfuisNh",
      "execution_count": null,
      "outputs": [
        {
          "output_type": "execute_result",
          "data": {
            "text/plain": [
              "array([[2, 3, 4],\n",
              "       [7, 8, 9]])"
            ]
          },
          "metadata": {},
          "execution_count": 1
        }
      ]
    },
    {
      "cell_type": "markdown",
      "source": [
        "---\n",
        "## Data Types in Python\n",
        "\n",
        "By default Python have these data types:\n",
        "\n",
        " * strings - used to represent text data, the text is given under quote marks.\n",
        "e.g. \"ABCD\"\n",
        "\n",
        " * integer - used to represent integer numbers. e.g. -1, -2, -3\n",
        "\n",
        " * float - used to represent real numbers. e.g. 1.2, 42.42\n",
        "  \n",
        " * boolean - used to represent True or False.\n",
        "   \n",
        " * complex - used to represent complex numbers. e.g. 1.0 + 2.0j, 1.5 + 2.5j\n"
      ],
      "metadata": {
        "id": "6z9ZRa5vi6Oa"
      },
      "id": "6z9ZRa5vi6Oa"
    },
    {
      "cell_type": "markdown",
      "source": [
        "---\n",
        "## Data Types in NumPy\n",
        "\n",
        "NumPy has some extra data types, and refer to data types with one character, like i for integers, u for unsigned integers etc.\n",
        "\n",
        "Below is a list of all data types in NumPy and the characters used to represent them.\n",
        "\n",
        " *   i - integer\n",
        " *   b - boolean\n",
        " *   u - unsigned integer\n",
        " *  f - float\n",
        " *   c - complex float\n",
        " *   m - timedelta\n",
        " *   M - datetime\n",
        " *   O - object\n",
        " *   S - string\n",
        " *   U - unicode string\n",
        "*  V - fixed chunk of memory for other type ( void )\n",
        "---"
      ],
      "metadata": {
        "id": "XNLQsr21jbZ2"
      },
      "id": "XNLQsr21jbZ2"
    },
    {
      "cell_type": "markdown",
      "source": [
        "### Checking the Data Type of an Array\n",
        "\n",
        ">The NumPy array object has a property called dtype that returns the data type of the array:"
      ],
      "metadata": {
        "id": "wsEf81tckBr9"
      },
      "id": "wsEf81tckBr9"
    },
    {
      "cell_type": "code",
      "source": [
        "arr = np.array([1, 2, 3, 4])\n",
        "\n",
        "print(arr.dtype)"
      ],
      "metadata": {
        "colab": {
          "base_uri": "https://localhost:8080/"
        },
        "id": "YuNjEe-ykT6Z",
        "outputId": "1285a5bf-1b1b-4e79-df08-a101617cf16c"
      },
      "id": "YuNjEe-ykT6Z",
      "execution_count": null,
      "outputs": [
        {
          "output_type": "stream",
          "name": "stdout",
          "text": [
            "int64\n"
          ]
        }
      ]
    },
    {
      "cell_type": "markdown",
      "source": [
        "### Get the data type of an array containing strings:\n",
        "\n"
      ],
      "metadata": {
        "id": "PyYN0ovckgRI"
      },
      "id": "PyYN0ovckgRI"
    },
    {
      "cell_type": "code",
      "source": [
        "arr = np.array(['apple', 'banana', 'cherry'])\n",
        "\n",
        "print(arr.dtype)"
      ],
      "metadata": {
        "colab": {
          "base_uri": "https://localhost:8080/"
        },
        "id": "k7U_Be6KklhA",
        "outputId": "8f3a2839-8084-4ea6-ede4-dca84786c57e"
      },
      "id": "k7U_Be6KklhA",
      "execution_count": null,
      "outputs": [
        {
          "output_type": "stream",
          "name": "stdout",
          "text": [
            "<U6\n"
          ]
        }
      ]
    },
    {
      "cell_type": "markdown",
      "source": [
        "## Creating Arrays With a Defined Data Type\n",
        "\n",
        ">We use the array() function to create arrays, this function can take an optional argument: dtype that allows us to define the expected data type of the array elements:"
      ],
      "metadata": {
        "id": "FAOY9jPsksEm"
      },
      "id": "FAOY9jPsksEm"
    },
    {
      "cell_type": "markdown",
      "source": [
        "```Create an array with data type string:```\n"
      ],
      "metadata": {
        "id": "eaUacgLOkzXH"
      },
      "id": "eaUacgLOkzXH"
    },
    {
      "cell_type": "code",
      "source": [
        "import numpy as np\n",
        "ar = np.array([1, 2, 3, 4], dtype='S')\n",
        "\n",
        "print(ar)\n",
        "print(ar.dtype)"
      ],
      "metadata": {
        "colab": {
          "base_uri": "https://localhost:8080/"
        },
        "id": "ciiltRhenIHc",
        "outputId": "c6b6f9fd-430b-4aa0-f640-77a29b009665"
      },
      "id": "ciiltRhenIHc",
      "execution_count": null,
      "outputs": [
        {
          "output_type": "stream",
          "name": "stdout",
          "text": [
            "[b'1' b'2' b'3' b'4']\n",
            "|S1\n"
          ]
        }
      ]
    },
    {
      "cell_type": "markdown",
      "source": [
        "```For i, u, f, S and U we can define size as well.```"
      ],
      "metadata": {
        "id": "jd8QV9iunOQe"
      },
      "id": "jd8QV9iunOQe"
    },
    {
      "cell_type": "code",
      "source": [
        "arr = np.array([1, 2, 3, 4], dtype='i4')\n",
        "\n",
        "print(arr)\n",
        "print(arr.dtype)"
      ],
      "metadata": {
        "colab": {
          "base_uri": "https://localhost:8080/"
        },
        "id": "PJmz4yMXngQi",
        "outputId": "cbc184f4-56e2-4219-ffdc-a2f78676dfc9"
      },
      "id": "PJmz4yMXngQi",
      "execution_count": null,
      "outputs": [
        {
          "output_type": "stream",
          "name": "stdout",
          "text": [
            "[1 2 3 4]\n",
            "int32\n"
          ]
        }
      ]
    },
    {
      "cell_type": "markdown",
      "source": [
        "# What if a Value Can Not Be Converted?\n",
        "\n",
        "> If a type is given in which elements can't be casted then NumPy will raise a ValueError.\n",
        "\n",
        "**ValueError: In Python ValueError is raised when the type of passed argument to a function is unexpected/incorrect.**\n"
      ],
      "metadata": {
        "id": "qkAvrF_FnjxK"
      },
      "id": "qkAvrF_FnjxK"
    },
    {
      "cell_type": "markdown",
      "source": [
        "A non integer string like 'a' can not be converted to integer (will raise an error):"
      ],
      "metadata": {
        "id": "OQDta1LJoD2I"
      },
      "id": "OQDta1LJoD2I"
    },
    {
      "cell_type": "code",
      "source": [
        "arr = np.array(['a', '2', '3'], dtype='i')"
      ],
      "metadata": {
        "colab": {
          "base_uri": "https://localhost:8080/",
          "height": 141
        },
        "id": "doBo-g0eoL2Y",
        "outputId": "8146b41e-c21b-45a4-bbe4-7c62c9b3d0ea"
      },
      "id": "doBo-g0eoL2Y",
      "execution_count": null,
      "outputs": [
        {
          "output_type": "error",
          "ename": "ValueError",
          "evalue": "invalid literal for int() with base 10: 'a'",
          "traceback": [
            "\u001b[0;31m---------------------------------------------------------------------------\u001b[0m",
            "\u001b[0;31mValueError\u001b[0m                                Traceback (most recent call last)",
            "\u001b[0;32m/tmp/ipython-input-3318528490.py\u001b[0m in \u001b[0;36m<cell line: 0>\u001b[0;34m()\u001b[0m\n\u001b[0;32m----> 1\u001b[0;31m \u001b[0marr\u001b[0m \u001b[0;34m=\u001b[0m \u001b[0mnp\u001b[0m\u001b[0;34m.\u001b[0m\u001b[0marray\u001b[0m\u001b[0;34m(\u001b[0m\u001b[0;34m[\u001b[0m\u001b[0;34m'a'\u001b[0m\u001b[0;34m,\u001b[0m \u001b[0;34m'2'\u001b[0m\u001b[0;34m,\u001b[0m \u001b[0;34m'3'\u001b[0m\u001b[0;34m]\u001b[0m\u001b[0;34m,\u001b[0m \u001b[0mdtype\u001b[0m\u001b[0;34m=\u001b[0m\u001b[0;34m'i'\u001b[0m\u001b[0;34m)\u001b[0m\u001b[0;34m\u001b[0m\u001b[0;34m\u001b[0m\u001b[0m\n\u001b[0m",
            "\u001b[0;31mValueError\u001b[0m: invalid literal for int() with base 10: 'a'"
          ]
        }
      ]
    },
    {
      "cell_type": "markdown",
      "source": [
        "##Converting Data Type on Existing Arrays\n",
        "\n",
        ">The best way to change the data type of an existing array, is to make a copy of the array with the astype() method.\n",
        "\n",
        ">The astype() function creates a copy of the array, and allows you to specify the data type as a parameter.\n",
        "\n",
        ">The data type can be specified using a string, like 'f' for float, 'i' for integer etc. or you can use the data type directly like float for float and int for integer."
      ],
      "metadata": {
        "id": "jtDrsF5OoObn"
      },
      "id": "jtDrsF5OoObn"
    },
    {
      "cell_type": "markdown",
      "source": [
        "Change data type from float to integer by using 'i' as parameter value:"
      ],
      "metadata": {
        "id": "NESNi8amofXm"
      },
      "id": "NESNi8amofXm"
    },
    {
      "cell_type": "code",
      "source": [
        "import numpy as np\n",
        "\n",
        "arr = np.array([1.1, 2.1, 3.1])\n",
        "\n",
        "newarr = arr.astype('i')\n",
        "\n",
        "print(newarr)\n",
        "print(newarr.dtype)"
      ],
      "metadata": {
        "colab": {
          "base_uri": "https://localhost:8080/"
        },
        "id": "FM4YpBvXspvk",
        "outputId": "81122690-464f-4b62-f126-4ed65965a529"
      },
      "id": "FM4YpBvXspvk",
      "execution_count": null,
      "outputs": [
        {
          "output_type": "stream",
          "name": "stdout",
          "text": [
            "[1 2 3]\n",
            "int32\n"
          ]
        }
      ]
    },
    {
      "cell_type": "markdown",
      "source": [
        "Change data type from float to integer by using int as parameter value:"
      ],
      "metadata": {
        "id": "UZ6qK42ftP_K"
      },
      "id": "UZ6qK42ftP_K"
    },
    {
      "cell_type": "code",
      "source": [
        "import numpy as np\n",
        "\n",
        "arr = np.array([1.1, 2.1, 3.1])\n",
        "\n",
        "newarr = arr.astype(int)\n",
        "\n",
        "print(newarr)\n",
        "print(newarr.dtype)"
      ],
      "metadata": {
        "colab": {
          "base_uri": "https://localhost:8080/"
        },
        "id": "jLcABjE1yz-q",
        "outputId": "cfc03b6c-dcf0-4f6e-c135-c49e6829ae16"
      },
      "id": "jLcABjE1yz-q",
      "execution_count": null,
      "outputs": [
        {
          "output_type": "stream",
          "name": "stdout",
          "text": [
            "[1 2 3]\n",
            "int64\n"
          ]
        }
      ]
    },
    {
      "cell_type": "markdown",
      "source": [
        "Change data type from integer to boolean:"
      ],
      "metadata": {
        "id": "PJdyyTzjy2Jz"
      },
      "id": "PJdyyTzjy2Jz"
    },
    {
      "cell_type": "code",
      "source": [
        "import numpy as np\n",
        "\n",
        "arr = np.array([1, 0, 3])\n",
        "\n",
        "newarr = arr.astype(bool)\n",
        "\n",
        "print(newarr)\n",
        "print(newarr.dtype)"
      ],
      "metadata": {
        "colab": {
          "base_uri": "https://localhost:8080/"
        },
        "id": "w6WVDB-sy-vJ",
        "outputId": "65c4fcd6-6115-42ba-f9c6-5350e5df850b"
      },
      "id": "w6WVDB-sy-vJ",
      "execution_count": null,
      "outputs": [
        {
          "output_type": "stream",
          "name": "stdout",
          "text": [
            "[ True False  True]\n",
            "bool\n"
          ]
        }
      ]
    },
    {
      "cell_type": "markdown",
      "source": [
        "# NumPy Array Copy vs View"
      ],
      "metadata": {
        "id": "_NjUDIKJzAWD"
      },
      "id": "_NjUDIKJzAWD"
    },
    {
      "cell_type": "markdown",
      "source": [
        "## The Difference Between Copy and View\n",
        "\n",
        "> The main difference between a copy and a view of an array is that the copy is a new array, and the view is just a view of the original array.\n",
        "\n",
        "> The copy owns the data and any changes made to the copy will not affect original array, and any changes made to the original array will not affect the copy.\n",
        "\n",
        "> The view does not own the data and any changes made to the view will affect the original array, and any changes made to the original array will affect the view."
      ],
      "metadata": {
        "id": "vwzpglvQ13md"
      },
      "id": "vwzpglvQ13md"
    },
    {
      "cell_type": "markdown",
      "source": [
        "## COPY:\n",
        "\n",
        "Make a copy, change the original array, and display both arrays:"
      ],
      "metadata": {
        "id": "4S3x6kmr19Md"
      },
      "id": "4S3x6kmr19Md"
    },
    {
      "cell_type": "code",
      "source": [
        "import numpy as np\n",
        "arr = np.array([1, 2, 3, 4, 5])\n",
        "x = arr.copy()\n",
        "arr[0] = 42\n",
        "\n",
        "print(arr)\n",
        "print(x)"
      ],
      "metadata": {
        "colab": {
          "base_uri": "https://localhost:8080/"
        },
        "id": "AniDPwNB2U9U",
        "outputId": "e8c5c049-d0a1-469b-ba89-37843c0fd33b"
      },
      "id": "AniDPwNB2U9U",
      "execution_count": null,
      "outputs": [
        {
          "output_type": "stream",
          "name": "stdout",
          "text": [
            "[42  2  3  4  5]\n",
            "[1 2 3 4 5]\n"
          ]
        }
      ]
    },
    {
      "cell_type": "markdown",
      "source": [
        "**The copy SHOULD NOT be affected by the changes made to the original array.**"
      ],
      "metadata": {
        "id": "XxjJH_2V2YF2"
      },
      "id": "XxjJH_2V2YF2"
    },
    {
      "cell_type": "markdown",
      "source": [
        "## VIEW:\n",
        "\n",
        "\n",
        "Make a view, change the original array, and display both arrays:"
      ],
      "metadata": {
        "id": "EkbeRrxCAZ8m"
      },
      "id": "EkbeRrxCAZ8m"
    },
    {
      "cell_type": "code",
      "source": [
        "import numpy as np\n",
        "arr = np.array([1, 2, 3, 4, 5])\n",
        "x = arr.view()\n",
        "arr[0] = 42\n",
        "\n",
        "print(arr)\n",
        "print(x)"
      ],
      "metadata": {
        "colab": {
          "base_uri": "https://localhost:8080/"
        },
        "id": "5VIzHcGuAjhc",
        "outputId": "abad4fbc-a3c2-47fc-ccd5-53e39774d325"
      },
      "id": "5VIzHcGuAjhc",
      "execution_count": null,
      "outputs": [
        {
          "output_type": "stream",
          "name": "stdout",
          "text": [
            "[42  2  3  4  5]\n",
            "[42  2  3  4  5]\n"
          ]
        }
      ]
    },
    {
      "cell_type": "markdown",
      "source": [
        "**The view SHOULD be affected by the changes made to the original array.**"
      ],
      "metadata": {
        "id": "nJKDHxhAAtGs"
      },
      "id": "nJKDHxhAAtGs"
    },
    {
      "cell_type": "markdown",
      "source": [
        "## Make Changes in the VIEW:\n",
        "Make a view, change the view, and display both arrays:"
      ],
      "metadata": {
        "id": "fF6hnAT2A-WT"
      },
      "id": "fF6hnAT2A-WT"
    },
    {
      "cell_type": "code",
      "source": [
        "arr = np.array([1, 2, 3, 4, 5])\n",
        "x = arr.view()\n",
        "x[0] = 31\n",
        "\n",
        "print(arr)\n",
        "print(x)"
      ],
      "metadata": {
        "colab": {
          "base_uri": "https://localhost:8080/"
        },
        "id": "0yC4PE0QBL2J",
        "outputId": "560c5dd5-a9b8-43a1-c120-1c28445b641e"
      },
      "id": "0yC4PE0QBL2J",
      "execution_count": null,
      "outputs": [
        {
          "output_type": "stream",
          "name": "stdout",
          "text": [
            "[31  2  3  4  5]\n",
            "[31  2  3  4  5]\n"
          ]
        }
      ]
    },
    {
      "cell_type": "markdown",
      "source": [
        "**The original array SHOULD be affected by the changes made to the view.**"
      ],
      "metadata": {
        "id": "BoweVB03BNoF"
      },
      "id": "BoweVB03BNoF"
    },
    {
      "cell_type": "markdown",
      "source": [
        "## Check if Array Owns its Data\n",
        "\n",
        ">As mentioned above, copies owns the data, and views does not own the data, but how can we check this?\n",
        "\n",
        ">Every NumPy array has the attribute base that returns None if the array owns the data.\n",
        "\n",
        ">Otherwise, the base  attribute refers to the original object.\n",
        "\n"
      ],
      "metadata": {
        "id": "8p5AvLNnBWhg"
      },
      "id": "8p5AvLNnBWhg"
    },
    {
      "cell_type": "markdown",
      "source": [
        "Print the value of the base attribute to check if an array owns it's data or not:"
      ],
      "metadata": {
        "id": "OIXyU-CVBirX"
      },
      "id": "OIXyU-CVBirX"
    },
    {
      "cell_type": "code",
      "source": [
        "arr = np.array([1, 2, 3, 4, 5])\n",
        "\n",
        "x = arr.copy()\n",
        "y = arr.view()\n",
        "\n",
        "print(x.base)\n",
        "print(y.base)"
      ],
      "metadata": {
        "colab": {
          "base_uri": "https://localhost:8080/"
        },
        "id": "SuDl_gKIBjXP",
        "outputId": "f2b5ea18-3b2d-4ac5-850f-5069fc9c5c1f"
      },
      "id": "SuDl_gKIBjXP",
      "execution_count": null,
      "outputs": [
        {
          "output_type": "stream",
          "name": "stdout",
          "text": [
            "None\n",
            "[1 2 3 4 5]\n"
          ]
        }
      ]
    },
    {
      "cell_type": "markdown",
      "source": [
        "**The copy returns None.** <br/>\n",
        "**The view returns the original array.**"
      ],
      "metadata": {
        "id": "v4hKythQBpsu"
      },
      "id": "v4hKythQBpsu"
    },
    {
      "cell_type": "markdown",
      "source": [
        "---\n",
        "# **NumPy Array Shape**"
      ],
      "metadata": {
        "id": "GeG7pS3sCASe"
      },
      "id": "GeG7pS3sCASe"
    },
    {
      "cell_type": "markdown",
      "source": [
        "## Shape of an Array\n",
        "> The shape of an array is the number of elements in each dimension.\n",
        "\n",
        "\n",
        "\n",
        "## Get the Shape of an Array\n",
        "> NumPy arrays have an attribute called shape that returns a tuple with each index having the number of corresponding elements."
      ],
      "metadata": {
        "id": "JunzTLJwDpx5"
      },
      "id": "JunzTLJwDpx5"
    },
    {
      "cell_type": "markdown",
      "source": [
        "Print the shape of a 2-D array:\n"
      ],
      "metadata": {
        "id": "n8PgMUurDz5K"
      },
      "id": "n8PgMUurDz5K"
    },
    {
      "cell_type": "code",
      "source": [
        "arr = np.array([[1, 2, 3, 4], [5, 6, 7, 8]])\n",
        "\n",
        "print(arr.shape)"
      ],
      "metadata": {
        "colab": {
          "base_uri": "https://localhost:8080/"
        },
        "id": "FF0RDzsCEAs0",
        "outputId": "b9fea6cf-944e-4707-a602-210b552c8a81"
      },
      "id": "FF0RDzsCEAs0",
      "execution_count": null,
      "outputs": [
        {
          "output_type": "stream",
          "name": "stdout",
          "text": [
            "(2, 4)\n"
          ]
        }
      ]
    },
    {
      "cell_type": "markdown",
      "source": [
        "```The example above returns (2, 4), which means that the array has 2 dimensions, where the first dimension has 2 elements and the second has 4.```"
      ],
      "metadata": {
        "id": "YjxPa5sVECnM"
      },
      "id": "YjxPa5sVECnM"
    },
    {
      "cell_type": "code",
      "source": [
        "# Create an array with 5 dimensions using ndmin using a vector with values 1,2,3,4 and verify that last dimension has value 4:\n",
        "\n",
        "arr = np.array([1,2,3,4], ndmin=5)\n",
        "print(arr)\n",
        "arr.shape"
      ],
      "metadata": {
        "colab": {
          "base_uri": "https://localhost:8080/"
        },
        "id": "hDzizbvHEq94",
        "outputId": "3900937e-e651-4852-d512-174685c2eefb"
      },
      "id": "hDzizbvHEq94",
      "execution_count": null,
      "outputs": [
        {
          "output_type": "stream",
          "name": "stdout",
          "text": [
            "[[[[[1 2 3 4]]]]]\n"
          ]
        },
        {
          "output_type": "execute_result",
          "data": {
            "text/plain": [
              "(1, 1, 1, 1, 4)"
            ]
          },
          "metadata": {},
          "execution_count": 10
        }
      ]
    },
    {
      "cell_type": "markdown",
      "source": [
        "## What does the shape tuple represent?\n",
        "\n",
        ">Integers at every index tells about the number of elements the corresponding dimension has.\n",
        "\n",
        ">In the example above at index-4 we have value 4, so we can say that 5th ( 4 + 1 th) dimension has 4 elements.\n"
      ],
      "metadata": {
        "id": "eiHebuynFJ4O"
      },
      "id": "eiHebuynFJ4O"
    },
    {
      "cell_type": "markdown",
      "source": [
        "---\n",
        "#**NumPy Array Reshaping**\n",
        "\n",
        "\n",
        "## Reshaping arrays\n",
        "\n",
        ">Reshaping means changing the shape of an array.\n",
        "\n",
        ">The shape of an array is the number of elements in each dimension.\n",
        "\n",
        ">By reshaping we can add or remove dimensions or change number of elements in each dimension."
      ],
      "metadata": {
        "id": "uXlMbCY3FTpL"
      },
      "id": "uXlMbCY3FTpL"
    },
    {
      "cell_type": "markdown",
      "source": [
        "## Reshape From 1-D to 2-D"
      ],
      "metadata": {
        "id": "X-5UVwRNHTlh"
      },
      "id": "X-5UVwRNHTlh"
    },
    {
      "cell_type": "markdown",
      "source": [
        "Convert the following 1-D array with 12 elements into a 2-D array.\n",
        "\n",
        "The outermost dimension will have 4 arrays, each with 3 elements:"
      ],
      "metadata": {
        "id": "fIKF_gvBMlFa"
      },
      "id": "fIKF_gvBMlFa"
    },
    {
      "cell_type": "code",
      "source": [
        "import numpy as np\n",
        "\n",
        "arr = np.array([1, 2, 3, 4, 5, 6, 7, 8, 9, 10, 11, 12])\n",
        "\n",
        "newarr = arr.reshape(4, 3)\n",
        "\n",
        "print(newarr)"
      ],
      "metadata": {
        "id": "OKeYkRTSMn0i",
        "outputId": "f6b77e37-6069-4b47-e805-6b650aaa7c13",
        "colab": {
          "base_uri": "https://localhost:8080/"
        }
      },
      "id": "OKeYkRTSMn0i",
      "execution_count": null,
      "outputs": [
        {
          "output_type": "stream",
          "name": "stdout",
          "text": [
            "[[ 1  2  3]\n",
            " [ 4  5  6]\n",
            " [ 7  8  9]\n",
            " [10 11 12]]\n"
          ]
        }
      ]
    },
    {
      "cell_type": "markdown",
      "source": [
        "## Reshape From 1-D to 3-D\n"
      ],
      "metadata": {
        "id": "lZTRmq6pNFkK"
      },
      "id": "lZTRmq6pNFkK"
    },
    {
      "cell_type": "markdown",
      "source": [
        "Convert the following 1-D array with 12 elements into a 3-D array.\n",
        "\n",
        "The outermost dimension will have 2 arrays that contains 3 arrays, each with 2 elements:"
      ],
      "metadata": {
        "id": "q6gYuPqgNOXE"
      },
      "id": "q6gYuPqgNOXE"
    },
    {
      "cell_type": "code",
      "source": [
        "import numpy as np\n",
        "\n",
        "arr = np.array([1, 2, 3, 4, 5, 6, 7, 8, 9, 10, 11, 12])\n",
        "\n",
        "newarr = arr.reshape(2, 3, 2)\n",
        "\n",
        "print(newarr)"
      ],
      "metadata": {
        "id": "aHaaqUq7NPxd",
        "outputId": "43e83b01-ed2c-446b-f65d-98e78f3a948f",
        "colab": {
          "base_uri": "https://localhost:8080/"
        }
      },
      "id": "aHaaqUq7NPxd",
      "execution_count": null,
      "outputs": [
        {
          "output_type": "stream",
          "name": "stdout",
          "text": [
            "[[[ 1  2]\n",
            "  [ 3  4]\n",
            "  [ 5  6]]\n",
            "\n",
            " [[ 7  8]\n",
            "  [ 9 10]\n",
            "  [11 12]]]\n"
          ]
        }
      ]
    },
    {
      "cell_type": "markdown",
      "source": [
        "## Can We Reshape Into any Shape?\n",
        "\n",
        ">Yes, as long as the elements required for reshaping are equal in both shapes.\n",
        "\n",
        ">We can reshape an 8 elements 1D array into 4 elements in 2 rows 2D array but we cannot reshape it into a 3 elements 3 rows 2D array as that would require 3x3 = 9 elements."
      ],
      "metadata": {
        "id": "i14IvfZoNg-z"
      },
      "id": "i14IvfZoNg-z"
    },
    {
      "cell_type": "code",
      "source": [
        "# Try converting 1D array with 8 elements to a 2D array with 3 elements in each dimension (will raise an error):\n",
        "arr = np.array([1, 2, 3, 4, 5, 6, 7, 8])\n",
        "\n",
        "newarr = arr.reshape(3, 3)\n",
        "\n",
        "print(newarr)"
      ],
      "metadata": {
        "id": "kK3KghL4NocM",
        "outputId": "3432d453-fcc0-4906-e5e0-55d2444b7a48",
        "colab": {
          "base_uri": "https://localhost:8080/",
          "height": 211
        }
      },
      "id": "kK3KghL4NocM",
      "execution_count": null,
      "outputs": [
        {
          "output_type": "error",
          "ename": "ValueError",
          "evalue": "cannot reshape array of size 8 into shape (3,3)",
          "traceback": [
            "\u001b[0;31m---------------------------------------------------------------------------\u001b[0m",
            "\u001b[0;31mValueError\u001b[0m                                Traceback (most recent call last)",
            "\u001b[0;32m/tmp/ipython-input-123114439.py\u001b[0m in \u001b[0;36m<cell line: 0>\u001b[0;34m()\u001b[0m\n\u001b[1;32m      2\u001b[0m \u001b[0marr\u001b[0m \u001b[0;34m=\u001b[0m \u001b[0mnp\u001b[0m\u001b[0;34m.\u001b[0m\u001b[0marray\u001b[0m\u001b[0;34m(\u001b[0m\u001b[0;34m[\u001b[0m\u001b[0;36m1\u001b[0m\u001b[0;34m,\u001b[0m \u001b[0;36m2\u001b[0m\u001b[0;34m,\u001b[0m \u001b[0;36m3\u001b[0m\u001b[0;34m,\u001b[0m \u001b[0;36m4\u001b[0m\u001b[0;34m,\u001b[0m \u001b[0;36m5\u001b[0m\u001b[0;34m,\u001b[0m \u001b[0;36m6\u001b[0m\u001b[0;34m,\u001b[0m \u001b[0;36m7\u001b[0m\u001b[0;34m,\u001b[0m \u001b[0;36m8\u001b[0m\u001b[0;34m]\u001b[0m\u001b[0;34m)\u001b[0m\u001b[0;34m\u001b[0m\u001b[0;34m\u001b[0m\u001b[0m\n\u001b[1;32m      3\u001b[0m \u001b[0;34m\u001b[0m\u001b[0m\n\u001b[0;32m----> 4\u001b[0;31m \u001b[0mnewarr\u001b[0m \u001b[0;34m=\u001b[0m \u001b[0marr\u001b[0m\u001b[0;34m.\u001b[0m\u001b[0mreshape\u001b[0m\u001b[0;34m(\u001b[0m\u001b[0;36m3\u001b[0m\u001b[0;34m,\u001b[0m \u001b[0;36m3\u001b[0m\u001b[0;34m)\u001b[0m\u001b[0;34m\u001b[0m\u001b[0;34m\u001b[0m\u001b[0m\n\u001b[0m\u001b[1;32m      5\u001b[0m \u001b[0;34m\u001b[0m\u001b[0m\n\u001b[1;32m      6\u001b[0m \u001b[0mprint\u001b[0m\u001b[0;34m(\u001b[0m\u001b[0mnewarr\u001b[0m\u001b[0;34m)\u001b[0m\u001b[0;34m\u001b[0m\u001b[0;34m\u001b[0m\u001b[0m\n",
            "\u001b[0;31mValueError\u001b[0m: cannot reshape array of size 8 into shape (3,3)"
          ]
        }
      ]
    },
    {
      "cell_type": "markdown",
      "source": [
        "# Returns Copy or View?\n",
        "\n",
        "Check if the returned array is a copy or a view:"
      ],
      "metadata": {
        "id": "h9ae0npaNsN1"
      },
      "id": "h9ae0npaNsN1"
    },
    {
      "cell_type": "code",
      "source": [
        "import numpy as np\n",
        "\n",
        "arr = np.array([1, 2, 3, 4, 5, 6, 7, 8])\n",
        "\n",
        "print(arr.reshape(2, 4).base)"
      ],
      "metadata": {
        "colab": {
          "base_uri": "https://localhost:8080/"
        },
        "id": "pgdDq2cVOPz5",
        "outputId": "29bf336e-b96d-497f-d400-3e9febee8ac4"
      },
      "id": "pgdDq2cVOPz5",
      "execution_count": null,
      "outputs": [
        {
          "output_type": "stream",
          "name": "stdout",
          "text": [
            "[1 2 3 4 5 6 7 8]\n"
          ]
        }
      ]
    },
    {
      "cell_type": "markdown",
      "source": [
        "**The example above returns the original array, so it is a view.**"
      ],
      "metadata": {
        "id": "mXVrBinmOY60"
      },
      "id": "mXVrBinmOY60"
    },
    {
      "cell_type": "markdown",
      "source": [
        "---\n",
        "#Unknown Dimension\n",
        "\n",
        ">You are allowed to have one \"unknown\" dimension.\n",
        "\n",
        ">Meaning that you do not have to specify an exact number for one of the dimensions in the reshape method.\n",
        "\n",
        ">Pass -1 as the value, and NumPy will calculate this number for you."
      ],
      "metadata": {
        "id": "uhjjQvPDOe9t"
      },
      "id": "uhjjQvPDOe9t"
    },
    {
      "cell_type": "markdown",
      "source": [
        "Convert 1D array with 8 elements to 3D array with 2x2 elements:"
      ],
      "metadata": {
        "id": "xTTBeQk_OnM-"
      },
      "id": "xTTBeQk_OnM-"
    },
    {
      "cell_type": "code",
      "source": [
        "arr = np.array([1, 2, 3, 4, 5, 6, 7, 8])\n",
        "\n",
        "newarr = arr.reshape(2, 2, -1)\n",
        "\n",
        "print(newarr)"
      ],
      "metadata": {
        "colab": {
          "base_uri": "https://localhost:8080/"
        },
        "id": "VpB2AhPCOw2Q",
        "outputId": "3235c669-8ca6-49ce-8361-8f97afb92f5d"
      },
      "id": "VpB2AhPCOw2Q",
      "execution_count": null,
      "outputs": [
        {
          "output_type": "stream",
          "name": "stdout",
          "text": [
            "[[[1 2]\n",
            "  [3 4]]\n",
            "\n",
            " [[5 6]\n",
            "  [7 8]]]\n"
          ]
        }
      ]
    },
    {
      "cell_type": "markdown",
      "source": [
        "**Note: We can not pass -1 to more than one dimension.**"
      ],
      "metadata": {
        "id": "wxEbB1AwOzRi"
      },
      "id": "wxEbB1AwOzRi"
    },
    {
      "cell_type": "markdown",
      "source": [
        "# Flattening the arrays\n",
        "\n",
        ">Flattening array means converting a multidimensional array into a 1D array.\n",
        "\n",
        ">We can use reshape(-1) to do this."
      ],
      "metadata": {
        "id": "VtvRHRKJPK9k"
      },
      "id": "VtvRHRKJPK9k"
    },
    {
      "cell_type": "code",
      "source": [
        "# Convert the array into a 1D array:\n",
        "arr = np.array([[1, 2, 3], [4, 5, 6]])\n",
        "\n",
        "newarr = arr.reshape(-1)\n",
        "\n",
        "print(newarr)"
      ],
      "metadata": {
        "colab": {
          "base_uri": "https://localhost:8080/"
        },
        "id": "6ixu-44KPYfy",
        "outputId": "b3a462b6-cf1c-40a2-9c33-cdabe8e0731a"
      },
      "id": "6ixu-44KPYfy",
      "execution_count": null,
      "outputs": [
        {
          "output_type": "stream",
          "name": "stdout",
          "text": [
            "[1 2 3 4 5 6]\n"
          ]
        }
      ]
    },
    {
      "cell_type": "markdown",
      "source": [
        "**Note: There are a lot of functions for changing the shapes of arrays in numpy ```flatten```, ```ravel``` and also for rearranging the elements ```rot90```, ```flip```, ```fliplr```, ```flipud``` etc. These fall under Intermediate to Advanced section of numpy.**"
      ],
      "metadata": {
        "id": "KysMMQBkPjUm"
      },
      "id": "KysMMQBkPjUm"
    },
    {
      "cell_type": "markdown",
      "source": [
        "---\n",
        "# **NumPy Array Iterating**"
      ],
      "metadata": {
        "id": "N2O90gZQPkSz"
      },
      "id": "N2O90gZQPkSz"
    },
    {
      "cell_type": "markdown",
      "source": [
        "## Iterating Arrays\n",
        "\n",
        ">Iterating means going through elements one by one.\n",
        "\n",
        ">As we deal with multi-dimensional arrays in numpy, we can do this using basic for loop of python.\n",
        "\n",
        ">If we iterate on a 1-D array it will go through each element one by one."
      ],
      "metadata": {
        "id": "ZyQkmYjtQIQ_"
      },
      "id": "ZyQkmYjtQIQ_"
    },
    {
      "cell_type": "code",
      "source": [
        "# Iterate on the elements of the following 1-D array:\n",
        "arr = np.array([1, 2, 3])\n",
        "\n",
        "for x in arr:\n",
        "  print(x)"
      ],
      "metadata": {
        "colab": {
          "base_uri": "https://localhost:8080/"
        },
        "id": "UB-_WPxlQPbw",
        "outputId": "809e9ca1-9a37-4f0a-9a66-200506eb51ef"
      },
      "id": "UB-_WPxlQPbw",
      "execution_count": null,
      "outputs": [
        {
          "output_type": "stream",
          "name": "stdout",
          "text": [
            "1\n",
            "2\n",
            "3\n"
          ]
        }
      ]
    },
    {
      "cell_type": "markdown",
      "source": [
        "## Iterating 2-D Arrays\n",
        "\n",
        "In a 2-D array it will go through all the rows."
      ],
      "metadata": {
        "id": "hqY_C-7wReB6"
      },
      "id": "hqY_C-7wReB6"
    },
    {
      "cell_type": "code",
      "source": [
        "# Iterate on the elements of the following 2-D array:\n",
        "arr = np.array([[1, 2, 3], [4, 5, 6]])\n",
        "\n",
        "for x in arr:\n",
        "  print(x)"
      ],
      "metadata": {
        "colab": {
          "base_uri": "https://localhost:8080/"
        },
        "id": "P5ZMG_1MRlFx",
        "outputId": "72add14e-2380-49e3-e7ec-8f26fbbb363b"
      },
      "id": "P5ZMG_1MRlFx",
      "execution_count": null,
      "outputs": [
        {
          "output_type": "stream",
          "name": "stdout",
          "text": [
            "[1 2 3]\n",
            "[4 5 6]\n"
          ]
        }
      ]
    },
    {
      "cell_type": "markdown",
      "source": [
        "**If we iterate on a n-D array it will go through n-1th dimension one by one.**"
      ],
      "metadata": {
        "id": "iNpymgvtRnnx"
      },
      "id": "iNpymgvtRnnx"
    },
    {
      "cell_type": "markdown",
      "source": [
        "To return the actual values, the scalars, we have to iterate the arrays in each dimension."
      ],
      "metadata": {
        "id": "VBMRZlZmS7OK"
      },
      "id": "VBMRZlZmS7OK"
    },
    {
      "cell_type": "code",
      "source": [
        "# Iterate on each scalar element of the 2-D array:\n",
        "\n",
        "arr = np.array([[1, 2, 3], [4, 5, 6]])\n",
        "\n",
        "for x in arr:\n",
        "  for y in x:\n",
        "    print(y)"
      ],
      "metadata": {
        "colab": {
          "base_uri": "https://localhost:8080/"
        },
        "id": "OqoeL0faTAuR",
        "outputId": "caa1b214-b4b8-4bdf-fa45-084173883860"
      },
      "id": "OqoeL0faTAuR",
      "execution_count": null,
      "outputs": [
        {
          "output_type": "stream",
          "name": "stdout",
          "text": [
            "1\n",
            "2\n",
            "3\n",
            "4\n",
            "5\n",
            "6\n"
          ]
        }
      ]
    },
    {
      "cell_type": "markdown",
      "source": [
        "## Iterating 3-D Arrays\n",
        "In a 3-D array it will go through all the 2-D arrays."
      ],
      "metadata": {
        "id": "k4GCFS22THDD"
      },
      "id": "k4GCFS22THDD"
    },
    {
      "cell_type": "code",
      "source": [
        "# Iterate on the elements of the following 3-D array:\n",
        "arr = np.array([[[1, 2, 3], [4, 5, 6]], [[7, 8, 9], [10, 11, 12]]])\n",
        "\n",
        "for x in arr:\n",
        "  print(x)"
      ],
      "metadata": {
        "colab": {
          "base_uri": "https://localhost:8080/"
        },
        "id": "VMrzQcxQTNMx",
        "outputId": "b32b6507-3bc0-40f9-cf7f-d053f41d17f1"
      },
      "id": "VMrzQcxQTNMx",
      "execution_count": null,
      "outputs": [
        {
          "output_type": "stream",
          "name": "stdout",
          "text": [
            "[[1 2 3]\n",
            " [4 5 6]]\n",
            "[[ 7  8  9]\n",
            " [10 11 12]]\n"
          ]
        }
      ]
    },
    {
      "cell_type": "markdown",
      "source": [
        "To return the actual values, the scalars, we have to iterate the arrays in each dimension.\n"
      ],
      "metadata": {
        "id": "iD4-Lo_9TPqa"
      },
      "id": "iD4-Lo_9TPqa"
    },
    {
      "cell_type": "code",
      "source": [
        "# Iterate down to the scalars:\n",
        "arr = np.array([[[1, 2, 3], [4, 5, 6]], [[7, 8, 9], [10, 11, 12]]])\n",
        "\n",
        "for x in arr:\n",
        "  for y in x:\n",
        "    for z in y:\n",
        "      print(z)"
      ],
      "metadata": {
        "id": "qbCy6J7SWRW5",
        "outputId": "2a6f0951-84ce-4d9e-963d-1df96c1426db",
        "colab": {
          "base_uri": "https://localhost:8080/"
        }
      },
      "id": "qbCy6J7SWRW5",
      "execution_count": null,
      "outputs": [
        {
          "output_type": "stream",
          "name": "stdout",
          "text": [
            "1\n",
            "2\n",
            "3\n",
            "4\n",
            "5\n",
            "6\n",
            "7\n",
            "8\n",
            "9\n",
            "10\n",
            "11\n",
            "12\n"
          ]
        }
      ]
    },
    {
      "cell_type": "markdown",
      "source": [
        "# **Iterating Arrays Using nditer()**\n",
        "\n",
        ">The function nditer() is a helping function that can be used from very basic to very advanced iterations. It solves some basic issues which we face in iteration, lets go through it with examples.\n",
        "\n",
        "## Iterating on Each Scalar Element\n",
        "\n",
        ">In basic for loops, iterating through each scalar of an array we need to use n for loops which can be difficult to write for arrays with very high dimensionality."
      ],
      "metadata": {
        "id": "Nm1kZe5NWVny"
      },
      "id": "Nm1kZe5NWVny"
    },
    {
      "cell_type": "code",
      "source": [
        "# Iterate through the following 3-D array:\n",
        "arr = np.array([[[1, 2], [3, 4]], [[5, 6], [7, 8]]])\n",
        "\n",
        "for x in np.nditer(arr):\n",
        "  print(x)"
      ],
      "metadata": {
        "id": "ghVeuFG-WzVW",
        "outputId": "dc96a2b6-22ed-41f8-e89b-92935799481f",
        "colab": {
          "base_uri": "https://localhost:8080/"
        }
      },
      "id": "ghVeuFG-WzVW",
      "execution_count": null,
      "outputs": [
        {
          "output_type": "stream",
          "name": "stdout",
          "text": [
            "1\n",
            "2\n",
            "3\n",
            "4\n",
            "5\n",
            "6\n",
            "7\n",
            "8\n"
          ]
        }
      ]
    },
    {
      "cell_type": "code",
      "source": [
        "import numpy as np\n"
      ],
      "metadata": {
        "id": "fmsBmnqEXAiH"
      },
      "id": "fmsBmnqEXAiH",
      "execution_count": null,
      "outputs": []
    },
    {
      "cell_type": "markdown",
      "source": [
        "##Iterating Array With Different Data Types\n",
        "\n",
        ">We can use **op_dtypes** argument and pass it the expected datatype to change the datatype of elements while iterating.\n",
        "\n",
        ">NumPy does not change the data type of the element in-place (where the element is in array) so it needs some other space to perform this action, that extra space is called buffer, and in order to enable it in **nditer()** we pass **flags=['buffered']**."
      ],
      "metadata": {
        "id": "ltXbe8kbD1K2"
      },
      "id": "ltXbe8kbD1K2"
    },
    {
      "cell_type": "code",
      "source": [
        "# Iterate through the array as a string:\n",
        "arr = np.array([1, 2, 3])\n",
        "\n",
        "for x in np.nditer(arr, flags=['buffered'], op_dtypes=['S']):\n",
        "  print(x)"
      ],
      "metadata": {
        "id": "RFteJOI2EI1O",
        "outputId": "510d29a5-bf39-48f0-dd61-4510dad22815",
        "colab": {
          "base_uri": "https://localhost:8080/"
        }
      },
      "id": "RFteJOI2EI1O",
      "execution_count": null,
      "outputs": [
        {
          "output_type": "stream",
          "name": "stdout",
          "text": [
            "np.bytes_(b'1')\n",
            "np.bytes_(b'2')\n",
            "np.bytes_(b'3')\n"
          ]
        }
      ]
    },
    {
      "cell_type": "markdown",
      "source": [
        "##Iterating With Different Step Size\n",
        "\n",
        ">We can use filtering and followed by iteration."
      ],
      "metadata": {
        "id": "kIuvn62aF66B"
      },
      "id": "kIuvn62aF66B"
    },
    {
      "cell_type": "code",
      "source": [
        "# Iterate through every scalar element of the 2D array skipping 1 element:\n",
        "import numpy as np\n",
        "\n",
        "arr = np.array([[1, 2, 3, 4], [5, 6, 7, 8]])\n",
        "\n",
        "for x in np.nditer(arr[:, ::2]):\n",
        "  print(x)"
      ],
      "metadata": {
        "colab": {
          "base_uri": "https://localhost:8080/"
        },
        "id": "Tc9zuuaV-J_A",
        "outputId": "7e13bd7a-8da9-4582-c1b8-1890c6accbb0"
      },
      "id": "Tc9zuuaV-J_A",
      "execution_count": null,
      "outputs": [
        {
          "output_type": "stream",
          "name": "stdout",
          "text": [
            "1\n",
            "3\n",
            "5\n",
            "7\n"
          ]
        }
      ]
    },
    {
      "cell_type": "markdown",
      "source": [
        "## Enumerated Iteration Using ndenumerate()\n",
        "\n",
        ">Enumeration means mentioning sequence number of somethings one by one.\n",
        "\n",
        ">Sometimes we require corresponding index of the element while iterating, the ndenumerate() method can be used for those usecases."
      ],
      "metadata": {
        "id": "4lI3_5Ry-VIs"
      },
      "id": "4lI3_5Ry-VIs"
    },
    {
      "cell_type": "code",
      "source": [
        "# Enumerate on following 1D arrays elements:\n",
        "\n",
        "arr = np.array([1, 2, 3])\n",
        "\n",
        "for idx, x in np.ndenumerate(arr):\n",
        "  print(idx, x)"
      ],
      "metadata": {
        "colab": {
          "base_uri": "https://localhost:8080/"
        },
        "id": "shtksuio-h9e",
        "outputId": "40673e6b-168e-4fac-c0f7-41796e31c4ee"
      },
      "id": "shtksuio-h9e",
      "execution_count": null,
      "outputs": [
        {
          "output_type": "stream",
          "name": "stdout",
          "text": [
            "(0,) 1\n",
            "(1,) 2\n",
            "(2,) 3\n"
          ]
        }
      ]
    },
    {
      "cell_type": "code",
      "source": [
        "#Enumerate on following 2D array's elements:\n",
        "\n",
        "arr = np.array([[1, 2, 3, 4], [5, 6, 7, 8]])\n",
        "\n",
        "for idx, x in np.ndenumerate(arr):\n",
        "  print(idx, x)"
      ],
      "metadata": {
        "colab": {
          "base_uri": "https://localhost:8080/"
        },
        "id": "Z4phoZtm-ypq",
        "outputId": "9caa29bd-81ef-4cb1-e5ee-de285add093f"
      },
      "id": "Z4phoZtm-ypq",
      "execution_count": null,
      "outputs": [
        {
          "output_type": "stream",
          "name": "stdout",
          "text": [
            "(0, 0) 1\n",
            "(0, 1) 2\n",
            "(0, 2) 3\n",
            "(0, 3) 4\n",
            "(1, 0) 5\n",
            "(1, 1) 6\n",
            "(1, 2) 7\n",
            "(1, 3) 8\n"
          ]
        }
      ]
    },
    {
      "cell_type": "markdown",
      "source": [
        "---\n",
        "## **NumPy Joining Array**\n",
        "\n",
        ">Joining NumPy Arrays:\n",
        "\n",
        ">Joining means putting contents of two or more arrays in a single array.\n",
        "\n",
        ">In SQL we join tables based on a key, whereas in NumPy we join arrays by axes.\n",
        "\n",
        ">We pass a sequence of arrays that we want to join to the concatenate() function, along with the axis. If axis is not explicitly passed, it is taken as 0.\n"
      ],
      "metadata": {
        "id": "fzPOPxmY_M35"
      },
      "id": "fzPOPxmY_M35"
    },
    {
      "cell_type": "code",
      "source": [
        "# Join two arrays\n",
        "\n",
        "arr1 = np.array([1, 2, 3])\n",
        "arr2 = np.array([4, 5, 6])\n",
        "arr = np.concatenate((arr1, arr2))\n",
        "print(arr)"
      ],
      "metadata": {
        "id": "fPUQmrUEEMLp",
        "outputId": "f029f9b2-2814-4e7f-b2d4-f7997c56d23e",
        "colab": {
          "base_uri": "https://localhost:8080/"
        }
      },
      "id": "fPUQmrUEEMLp",
      "execution_count": null,
      "outputs": [
        {
          "output_type": "stream",
          "name": "stdout",
          "text": [
            "[1 2 3 4 5 6]\n"
          ]
        }
      ]
    },
    {
      "cell_type": "code",
      "source": [
        "# Join two 2-D arrays along rows (axis=1):\n",
        "\n",
        "import numpy as np\n",
        "\n",
        "arr1 = np.array([[1, 2], [3, 4]])\n",
        "arr2 = np.array([[5, 6], [7, 8]])\n",
        "arr = np.concatenate((arr1, arr2), axis=1)\n",
        "print(arr)"
      ],
      "metadata": {
        "id": "k9ur22Z7EonE",
        "outputId": "c7dba8ae-5bc5-4d89-9b32-83455ab48c80",
        "colab": {
          "base_uri": "https://localhost:8080/"
        }
      },
      "id": "k9ur22Z7EonE",
      "execution_count": null,
      "outputs": [
        {
          "output_type": "stream",
          "name": "stdout",
          "text": [
            "[[1 2 5 6]\n",
            " [3 4 7 8]]\n"
          ]
        }
      ]
    },
    {
      "cell_type": "markdown",
      "source": [
        "##Joining Arrays Using Stack Functions:\n",
        "\n",
        ">Stacking is same as concatenation, the only difference is that stacking is done along a new axis.\n",
        "\n",
        ">We can concatenate two 1-D arrays along the second axis which would result in putting them one over the other, ie. stacking.\n",
        "\n",
        ">We pass a sequence of arrays that we want to join to the **stack()** method along with the axis. If axis is not explicitly passed it is taken as 0."
      ],
      "metadata": {
        "id": "Aal8caV7NPaT"
      },
      "id": "Aal8caV7NPaT"
    },
    {
      "cell_type": "code",
      "source": [
        "import numpy as np\n",
        "\n",
        "arr1 = np.array([1, 2, 3])\n",
        "\n",
        "arr2 = np.array([4, 5, 6])\n",
        "\n",
        "arr = np.stack((arr1, arr2), axis=1)\n",
        "\n",
        "print(arr)"
      ],
      "metadata": {
        "colab": {
          "base_uri": "https://localhost:8080/"
        },
        "id": "HLb_xSFIVbii",
        "outputId": "0346eaad-13fb-4ed6-88a2-844009c37ecc"
      },
      "id": "HLb_xSFIVbii",
      "execution_count": null,
      "outputs": [
        {
          "output_type": "stream",
          "name": "stdout",
          "text": [
            "[[1 4]\n",
            " [2 5]\n",
            " [3 6]]\n"
          ]
        }
      ]
    },
    {
      "cell_type": "markdown",
      "source": [
        "##Stacking Along Rows:\n",
        "\n",
        ">NumPy provides a helper function: **hstack()** to stack along rows."
      ],
      "metadata": {
        "id": "gFOgXZHnVdVp"
      },
      "id": "gFOgXZHnVdVp"
    },
    {
      "cell_type": "code",
      "source": [
        "arr1 = np.array([1, 2, 3])\n",
        "arr2 = np.array([4, 5, 6])\n",
        "arr = np.hstack((arr1, arr2))\n",
        "print(arr)"
      ],
      "metadata": {
        "colab": {
          "base_uri": "https://localhost:8080/"
        },
        "id": "WjMvmj8MXx88",
        "outputId": "c048653d-975c-4b39-f318-467707c7cf5f"
      },
      "id": "WjMvmj8MXx88",
      "execution_count": null,
      "outputs": [
        {
          "output_type": "stream",
          "name": "stdout",
          "text": [
            "[1 2 3 4 5 6]\n"
          ]
        }
      ]
    },
    {
      "cell_type": "markdown",
      "source": [
        "##Stacking Along Columns\n",
        "\n",
        ">NumPy provides a helper function: **vstack()**  to stack along columns."
      ],
      "metadata": {
        "id": "kccvN-sGX8Dr"
      },
      "id": "kccvN-sGX8Dr"
    },
    {
      "cell_type": "code",
      "source": [
        "arr1 = np.array([1, 2, 3])\n",
        "arr2 = np.array([4, 5, 6])\n",
        "arr = np.vstack((arr1, arr2))\n",
        "print(arr)"
      ],
      "metadata": {
        "colab": {
          "base_uri": "https://localhost:8080/"
        },
        "id": "N-vfwdGSY162",
        "outputId": "6c110311-f3b7-4457-cfc2-853afcb29cb0"
      },
      "id": "N-vfwdGSY162",
      "execution_count": null,
      "outputs": [
        {
          "output_type": "stream",
          "name": "stdout",
          "text": [
            "[[1 2 3]\n",
            " [4 5 6]]\n"
          ]
        }
      ]
    },
    {
      "cell_type": "markdown",
      "source": [
        "##Stacking Along Height (depth)\n",
        "\n",
        ">NumPy provides a helper function: **dstack()** to stack along height, which is the same as depth."
      ],
      "metadata": {
        "id": "uH_R2B3LY7ex"
      },
      "id": "uH_R2B3LY7ex"
    },
    {
      "cell_type": "code",
      "source": [
        "arr1 = np.array([1, 2, 3])\n",
        "arr2 = np.array([4, 5, 6])\n",
        "arr = np.dstack((arr1, arr2))\n",
        "print(arr)"
      ],
      "metadata": {
        "colab": {
          "base_uri": "https://localhost:8080/"
        },
        "id": "ThJp0BdSZFn_",
        "outputId": "b144d287-9666-4370-8874-002b23c2542b"
      },
      "id": "ThJp0BdSZFn_",
      "execution_count": null,
      "outputs": [
        {
          "output_type": "stream",
          "name": "stdout",
          "text": [
            "[[[1 4]\n",
            "  [2 5]\n",
            "  [3 6]]]\n"
          ]
        }
      ]
    },
    {
      "cell_type": "markdown",
      "source": [
        "\n",
        "---\n",
        "\n",
        "### **1. `np.stack`**\n",
        "\n",
        "* **General-purpose stacking along a new axis.**\n",
        "* It joins a sequence of arrays **along a new dimension** (adds an axis).\n",
        "* All input arrays must have the **same shape**.\n",
        "\n",
        "```python\n",
        "import numpy as np\n",
        "\n",
        "a = np.array([1,2,3])\n",
        "b = np.array([4,5,6])\n",
        "\n",
        "np.stack([a, b])       \n",
        "# [[1 2 3]\n",
        "#  [4 5 6]]\n",
        "\n",
        "np.stack([a, b], axis=1)  \n",
        "# [[1 4]\n",
        "#  [2 5]\n",
        "#  [3 6]]\n",
        "```\n",
        "\n",
        "👉 Adds a new axis, unlike `concatenate`.\n",
        "\n",
        "---\n",
        "\n",
        "### **2. `np.concatenate`**\n",
        "\n",
        "* **Joins arrays along an existing axis.**\n",
        "* Does **not create a new axis**.\n",
        "* Arrays must have the same shape **except along the concatenation axis**.\n",
        "\n",
        "```python\n",
        "np.concatenate([a, b])      \n",
        "# [1 2 3 4 5 6]   (along axis=0)\n",
        "\n",
        "np.concatenate([a[np.newaxis, :], b[np.newaxis, :]], axis=0)\n",
        "# [[1 2 3]\n",
        "#  [4 5 6]]\n",
        "```\n",
        "\n",
        "---\n",
        "\n",
        "### **3. `np.hstack`**  (Horizontal stack)\n",
        "\n",
        "* Special case of `concatenate`:\n",
        "* For **1D arrays**: just concatenates (same as `concatenate`).\n",
        "* For **2D arrays**: stacks **column-wise** (along axis=1).\n",
        "* Shortcut for `np.concatenate(..., axis=1)` (for 2D+).\n",
        "\n",
        "```python\n",
        "np.hstack([a, b])       \n",
        "# [1 2 3 4 5 6]   (1D)\n",
        "\n",
        "A = np.array([[1],[2],[3]])\n",
        "B = np.array([[4],[5],[6]])\n",
        "np.hstack([A, B])\n",
        "# [[1 4]\n",
        "#  [2 5]\n",
        "#  [3 6]]\n",
        "```\n",
        "\n",
        "---\n",
        "\n",
        "### **4. `np.vstack`**  (Vertical stack)\n",
        "\n",
        "* Stacks **row-wise** (along axis=0).\n",
        "* Shortcut for `np.concatenate(..., axis=0)` (after reshaping 1D inputs).\n",
        "\n",
        "```python\n",
        "np.vstack([a, b])\n",
        "# [[1 2 3]\n",
        "#  [4 5 6]]\n",
        "\n",
        "np.vstack([A, B])\n",
        "# [[1]\n",
        "#  [2]\n",
        "#  [3]\n",
        "#  [4]\n",
        "#  [5]\n",
        "#  [6]]\n",
        "```\n",
        "\n",
        "---\n",
        "\n",
        "### **5. `np.dstack`**  (Depth stack)\n",
        "\n",
        "* Stacks along the **third axis** (`axis=2`).\n",
        "* Works like making a **“depth cube”**.\n",
        "\n",
        "```python\n",
        "np.dstack([a, b])\n",
        "# [[[1 4]\n",
        "#   [2 5]\n",
        "#   [3 6]]]\n",
        "\n",
        "C = np.array([[1,2],[3,4]])\n",
        "D = np.array([[5,6],[7,8]])\n",
        "np.dstack([C, D])\n",
        "# [[[1 5]\n",
        "#   [2 6]]\n",
        "#  [[3 7]\n",
        "#   [4 8]]]\n",
        "```\n",
        "\n",
        "---\n",
        "\n",
        "### ✅ Quick Summary\n",
        "\n",
        "| Function          | Axis behavior                | Adds new axis? | Example use case        |\n",
        "| ----------------- | ---------------------------- | -------------- | ----------------------- |\n",
        "| **`stack`**       | New axis (you choose `axis`) | ✅ Yes          | Build higher-dim arrays |\n",
        "| **`concatenate`** | Existing axis                | ❌ No           | Simple joining          |\n",
        "| **`hstack`**      | Horizontal (`axis=1` for 2D) | ❌ No           | Column-wise joining     |\n",
        "| **`vstack`**      | Vertical (`axis=0`)          | ❌ No           | Row-wise joining        |\n",
        "| **`dstack`**      | Depth (`axis=2`)             | ❌ No           | Add depth dimension     |\n",
        "\n",
        "---\n",
        "\n",
        "\n"
      ],
      "metadata": {
        "id": "UG97eZMdZVKp"
      },
      "id": "UG97eZMdZVKp"
    },
    {
      "cell_type": "markdown",
      "source": [
        "## **NumPy Splitting Array**"
      ],
      "metadata": {
        "id": "KCekHINlanlx"
      },
      "id": "KCekHINlanlx"
    },
    {
      "cell_type": "markdown",
      "source": [
        "###Splitting NumPy Arrays:\n",
        "\n",
        ">Splitting is reverse operation of Joining.\n",
        "\n",
        ">Joining merges multiple arrays into one and Splitting breaks one array into multiple.\n",
        "\n",
        ">We use array_split() for splitting arrays, we pass it the array we want to split and the number of splits."
      ],
      "metadata": {
        "id": "iGNXaTjQdIGE"
      },
      "id": "iGNXaTjQdIGE"
    },
    {
      "cell_type": "code",
      "source": [
        "#Split the array in 3 parts:\n",
        "\n",
        "arr = np.array([1, 2, 3, 4, 5, 6])\n",
        "newarr = np.array_split(arr, 3)\n",
        "print(newarr)"
      ],
      "metadata": {
        "colab": {
          "base_uri": "https://localhost:8080/"
        },
        "id": "Rnk-LX3kdQGD",
        "outputId": "a32ce7f9-7502-4649-829b-663ed38607fd"
      },
      "id": "Rnk-LX3kdQGD",
      "execution_count": null,
      "outputs": [
        {
          "output_type": "stream",
          "name": "stdout",
          "text": [
            "[array([1, 2]), array([3, 4]), array([5, 6])]\n"
          ]
        }
      ]
    },
    {
      "cell_type": "markdown",
      "source": [
        "**Note:** The return value is a list containing three arrays."
      ],
      "metadata": {
        "id": "r5bdnEzhdZM7"
      },
      "id": "r5bdnEzhdZM7"
    },
    {
      "cell_type": "markdown",
      "source": [
        ">If the array has less elements than required, it will adjust from the end accordingly."
      ],
      "metadata": {
        "id": "1HhR6N7jduaz"
      },
      "id": "1HhR6N7jduaz"
    },
    {
      "cell_type": "code",
      "source": [
        "# Split the array in 4 parts:\n",
        "import numpy as np\n",
        "\n",
        "arr = np.array([1, 2, 3, 4, 5, 6])\n",
        "\n",
        "newarr = np.array_split(arr, 4)\n",
        "\n",
        "print(newarr)"
      ],
      "metadata": {
        "colab": {
          "base_uri": "https://localhost:8080/"
        },
        "id": "x4NBVcJmeKfy",
        "outputId": "ab56a42e-e7e3-4c18-f0ab-e9981f3397b8"
      },
      "id": "x4NBVcJmeKfy",
      "execution_count": null,
      "outputs": [
        {
          "output_type": "stream",
          "name": "stdout",
          "text": [
            "[array([1, 2]), array([3, 4]), array([5]), array([6])]\n"
          ]
        }
      ]
    },
    {
      "cell_type": "markdown",
      "source": [
        "**Note:** We also have the method `split()` available but it will not adjust the elements when elements are less in source array for splitting like in example above, `array_split()` worked properly but `split()` would fail."
      ],
      "metadata": {
        "id": "VYmIbDwqeNgg"
      },
      "id": "VYmIbDwqeNgg"
    },
    {
      "cell_type": "markdown",
      "source": [
        "##Split Into Arrays:\n",
        "\n",
        ">The return value of the `array_split()` method is a list containing each of the split as an array.\n",
        "\n",
        ">If you split an array into 3 arrays, you can access them from the result just like any array element:"
      ],
      "metadata": {
        "id": "JRtQl40yeWm-"
      },
      "id": "JRtQl40yeWm-"
    },
    {
      "cell_type": "code",
      "source": [
        "# Access the splitted arrays:\n",
        "import numpy as np\n",
        "\n",
        "arr = np.array([1, 2, 3, 4, 5, 6])\n",
        "newarr = np.array_split(arr, 3)\n",
        "\n",
        "print(newarr[0])\n",
        "print(newarr[1])\n",
        "print(newarr[2])"
      ],
      "metadata": {
        "colab": {
          "base_uri": "https://localhost:8080/"
        },
        "id": "v2PMYorJqL5H",
        "outputId": "6fc0503f-a03d-4b7a-abdb-c7a761136acb"
      },
      "id": "v2PMYorJqL5H",
      "execution_count": null,
      "outputs": [
        {
          "output_type": "stream",
          "name": "stdout",
          "text": [
            "[1 2]\n",
            "[3 4]\n",
            "[5 6]\n"
          ]
        }
      ]
    },
    {
      "cell_type": "markdown",
      "source": [
        "##Splitting 2-D Arrays:\n",
        "\n",
        ">Use the same syntax when splitting 2-D arrays.\n",
        "\n",
        ">Use the `array_split()` method, pass in the array you want to split and the number of splits you want to do."
      ],
      "metadata": {
        "id": "cHgFc4rPqOqf"
      },
      "id": "cHgFc4rPqOqf"
    },
    {
      "cell_type": "code",
      "source": [
        "# Split the 2-D array into three 2-D arrays.\n",
        "\n",
        "arr = np.array([[1, 2], [3, 4], [5, 6], [7, 8], [9, 10], [11, 12]])\n",
        "newarr = np.array_split(arr, 3)\n",
        "print(newarr)"
      ],
      "metadata": {
        "colab": {
          "base_uri": "https://localhost:8080/"
        },
        "id": "WrTvi7Ddqwgi",
        "outputId": "08cffe65-8035-41e8-e8b0-1a1edf61ff68"
      },
      "id": "WrTvi7Ddqwgi",
      "execution_count": null,
      "outputs": [
        {
          "output_type": "stream",
          "name": "stdout",
          "text": [
            "[array([[1, 2],\n",
            "       [3, 4]]), array([[5, 6],\n",
            "       [7, 8]]), array([[ 9, 10],\n",
            "       [11, 12]])]\n"
          ]
        }
      ]
    },
    {
      "cell_type": "markdown",
      "source": [
        ">The example above returns three 2-D arrays.\n",
        "\n",
        ">Let's look at another example, this time each element in the 2-D arrays contains 3 elements."
      ],
      "metadata": {
        "id": "hy4bKDV0q5Qq"
      },
      "id": "hy4bKDV0q5Qq"
    },
    {
      "cell_type": "code",
      "source": [
        "# Split the 2-D array into three 2-D arrays.\n",
        "\n",
        "arr = np.array([[1, 2, 3], [4, 5, 6], [7, 8, 9], [10, 11, 12], [13, 14, 15], [16, 17, 18]])\n",
        "newarr = np.array_split(arr, 3)\n",
        "print(newarr)"
      ],
      "metadata": {
        "colab": {
          "base_uri": "https://localhost:8080/"
        },
        "id": "wae2-aNVrJPY",
        "outputId": "6108ab21-ebad-4a6e-fd60-e9c05ad3c3c3"
      },
      "id": "wae2-aNVrJPY",
      "execution_count": null,
      "outputs": [
        {
          "output_type": "stream",
          "name": "stdout",
          "text": [
            "[array([[1, 2, 3],\n",
            "       [4, 5, 6]]), array([[ 7,  8,  9],\n",
            "       [10, 11, 12]]), array([[13, 14, 15],\n",
            "       [16, 17, 18]])]\n"
          ]
        }
      ]
    },
    {
      "cell_type": "markdown",
      "source": [
        ">The example above returns three 2-D arrays.\n",
        "\n",
        ">In addition, you can specify which axis you want to do the split around.\n",
        "\n",
        ">The example below also returns three 2-D arrays, but they are split along the column (axis=1)."
      ],
      "metadata": {
        "id": "dtPu1fbSrtem"
      },
      "id": "dtPu1fbSrtem"
    },
    {
      "cell_type": "code",
      "source": [
        "# Split the 2-D array into three 2-D arrays along columns.\n",
        "\n",
        "arr = np.array([[1, 2, 3],\n",
        "                [4, 5, 6],\n",
        "                [7, 8, 9],\n",
        "                [10, 11, 12],\n",
        "                [13, 14, 15],\n",
        "                [16, 17, 18]])\n",
        "newarr = np.array_split(arr, 3, axis=1)\n",
        "\n",
        "print(newarr)"
      ],
      "metadata": {
        "colab": {
          "base_uri": "https://localhost:8080/"
        },
        "id": "Oei2xJQjr6P6",
        "outputId": "8e060482-f883-40cf-d0ec-6010caf1f5ef"
      },
      "id": "Oei2xJQjr6P6",
      "execution_count": null,
      "outputs": [
        {
          "output_type": "stream",
          "name": "stdout",
          "text": [
            "[array([[ 1],\n",
            "       [ 4],\n",
            "       [ 7],\n",
            "       [10],\n",
            "       [13],\n",
            "       [16]]), array([[ 2],\n",
            "       [ 5],\n",
            "       [ 8],\n",
            "       [11],\n",
            "       [14],\n",
            "       [17]]), array([[ 3],\n",
            "       [ 6],\n",
            "       [ 9],\n",
            "       [12],\n",
            "       [15],\n",
            "       [18]])]\n"
          ]
        }
      ]
    },
    {
      "cell_type": "markdown",
      "source": [
        ">An alternate solution is using `hsplit()` opposite of `hstack()`"
      ],
      "metadata": {
        "id": "HAYdeNL5sCFy"
      },
      "id": "HAYdeNL5sCFy"
    },
    {
      "cell_type": "code",
      "source": [
        "#Use the hsplit() method to split the 2-D array into three 2-D arrays along columns.\n",
        "\n",
        "arr = np.array([[1, 2, 3],\n",
        "                [4, 5, 6],\n",
        "                [7, 8, 9],\n",
        "                [10, 11, 12],\n",
        "                [13, 14, 15],\n",
        "                [16, 17, 18]])\n",
        "newarr = np.hsplit(arr, 3)\n",
        "\n",
        "print(newarr)"
      ],
      "metadata": {
        "colab": {
          "base_uri": "https://localhost:8080/"
        },
        "id": "KAhevfXhsi80",
        "outputId": "e3b0fe7e-94d1-4361-8801-45ae5ecfa6db"
      },
      "id": "KAhevfXhsi80",
      "execution_count": null,
      "outputs": [
        {
          "output_type": "stream",
          "name": "stdout",
          "text": [
            "[array([[ 1],\n",
            "       [ 4],\n",
            "       [ 7],\n",
            "       [10],\n",
            "       [13],\n",
            "       [16]]), array([[ 2],\n",
            "       [ 5],\n",
            "       [ 8],\n",
            "       [11],\n",
            "       [14],\n",
            "       [17]]), array([[ 3],\n",
            "       [ 6],\n",
            "       [ 9],\n",
            "       [12],\n",
            "       [15],\n",
            "       [18]])]\n"
          ]
        }
      ]
    },
    {
      "cell_type": "markdown",
      "source": [
        "**Note:** Similar alternates to `vstack()` and `dstack()` are available as `vsplit()` and `dsplit()`."
      ],
      "metadata": {
        "id": "hZ1VKtXQsoIp"
      },
      "id": "hZ1VKtXQsoIp"
    },
    {
      "cell_type": "markdown",
      "source": [
        "---\n",
        "## **NumPy Searching Arrays**\n",
        "###Searching Arrays:\n",
        "\n",
        ">You can search an array for a certain value, and return the indexes that get a match.\n",
        "\n",
        ">To search an array, use the `where()` method."
      ],
      "metadata": {
        "id": "jK1mvbpRs2B_"
      },
      "id": "jK1mvbpRs2B_"
    },
    {
      "cell_type": "code",
      "source": [
        "#Find the indexes where the value is 4:\n",
        "\n",
        "arr = np.array([1, 2, 3, 4, 5, 4, 4])\n",
        "x = np.where(arr == 4)\n",
        "\n",
        "print(x)"
      ],
      "metadata": {
        "colab": {
          "base_uri": "https://localhost:8080/"
        },
        "id": "ib2YiMI1tmte",
        "outputId": "d089d82f-eb06-4003-d8c7-562e9dffca93"
      },
      "id": "ib2YiMI1tmte",
      "execution_count": null,
      "outputs": [
        {
          "output_type": "stream",
          "name": "stdout",
          "text": [
            "(array([3, 5, 6]),)\n"
          ]
        }
      ]
    },
    {
      "cell_type": "markdown",
      "source": [
        ">The example above will return a tuple: (array([3, 5, 6],)\n",
        "\n",
        ">Which means that the value 4 is present at index 3, 5, and 6."
      ],
      "metadata": {
        "id": "58ecprVAtspa"
      },
      "id": "58ecprVAtspa"
    },
    {
      "cell_type": "code",
      "source": [
        "# Find the indexes where the values are even:\n",
        "\n",
        "arr = np.array([1, 2, 3, 4, 5, 6, 7, 8])\n",
        "x = np.where(arr%2 == 0)\n",
        "\n",
        "print(x)"
      ],
      "metadata": {
        "colab": {
          "base_uri": "https://localhost:8080/"
        },
        "id": "LJxvua2pty48",
        "outputId": "146020ef-f806-49cb-b524-b7b7dc0afdcd"
      },
      "id": "LJxvua2pty48",
      "execution_count": null,
      "outputs": [
        {
          "output_type": "stream",
          "name": "stdout",
          "text": [
            "(array([1, 3, 5, 7]),)\n"
          ]
        }
      ]
    },
    {
      "cell_type": "code",
      "source": [
        "#Find the indexes where the values are odd:\n",
        "\n",
        "arr = np.array([1, 2, 3, 4, 5, 6, 7, 8])\n",
        "x = np.where(arr%2 == 1)\n",
        "\n",
        "print(x)"
      ],
      "metadata": {
        "colab": {
          "base_uri": "https://localhost:8080/"
        },
        "id": "n7OHyPL_t3dt",
        "outputId": "339cd1ca-ebb0-4427-eef0-6214b094038f"
      },
      "id": "n7OHyPL_t3dt",
      "execution_count": null,
      "outputs": [
        {
          "output_type": "stream",
          "name": "stdout",
          "text": [
            "(array([0, 2, 4, 6]),)\n"
          ]
        }
      ]
    },
    {
      "cell_type": "markdown",
      "source": [
        "✈ ✈ ✈ ✈ ✈ ✈\n",
        "## Search Sorted:\n",
        "\n",
        ">There is a method called `searchsorted()` which performs a binary search in the array, and returns the index where the specified value would be inserted to maintain the search order.\n",
        "\n",
        "**The `searchsorted()` method is assumed to be used on sorted arrays.**\n"
      ],
      "metadata": {
        "id": "hFT_b8AKuAVO"
      },
      "id": "hFT_b8AKuAVO"
    },
    {
      "cell_type": "code",
      "source": [
        "#Find the indexes where the value 7 should be inserted:\n",
        "\n",
        "arr = np.array([6, 7, 8, 9])\n",
        "x = np.searchsorted(arr, 7)\n",
        "\n",
        "print(x)"
      ],
      "metadata": {
        "colab": {
          "base_uri": "https://localhost:8080/"
        },
        "id": "QqkWc0K1uaqg",
        "outputId": "fe04f341-b0a0-4773-a1f9-527f385bc673"
      },
      "id": "QqkWc0K1uaqg",
      "execution_count": null,
      "outputs": [
        {
          "output_type": "stream",
          "name": "stdout",
          "text": [
            "1\n"
          ]
        }
      ]
    },
    {
      "cell_type": "markdown",
      "source": [
        ">Example explained: The number 7 should be inserted on index 1 to remain the sort order.\n",
        "\n",
        ">The method starts the search from the left and returns the first index where the number 7 is no longer larger than the next value.\n",
        "\n",
        "## Search From the Right Side:\n",
        "\n",
        ">By default the left most index is returned, but we can give `side='right'` to return the right most index instead."
      ],
      "metadata": {
        "id": "Jq9pDL5-ulOo"
      },
      "id": "Jq9pDL5-ulOo"
    },
    {
      "cell_type": "code",
      "source": [
        "# Find the indexes where the value 7 should be inserted, starting from the right:\n",
        "\n",
        "arr = np.array([6, 7, 8, 9])\n",
        "x = np.searchsorted(arr, 7, side='right')\n",
        "\n",
        "print(x)"
      ],
      "metadata": {
        "colab": {
          "base_uri": "https://localhost:8080/"
        },
        "id": "Qht0rouvvtCS",
        "outputId": "262fd768-c444-45aa-9a26-cab85adde2b4"
      },
      "id": "Qht0rouvvtCS",
      "execution_count": null,
      "outputs": [
        {
          "output_type": "stream",
          "name": "stdout",
          "text": [
            "2\n"
          ]
        }
      ]
    },
    {
      "cell_type": "markdown",
      "source": [
        ">Example explained: The number 7 should be inserted on index 2 to remain the sort order.\n",
        "\n",
        ">The method starts the search from the right and returns the first index where the number 7 is no longer less than the next value.\n",
        "\n",
        "##Multiple Values:\n",
        "\n",
        ">To search for more than one value, use an array with the specified values."
      ],
      "metadata": {
        "id": "zMQ8q7jWv71Z"
      },
      "id": "zMQ8q7jWv71Z"
    },
    {
      "cell_type": "code",
      "source": [
        "#Find the indexes where the values 2, 4, and 6 should be inserted:\n",
        "\n",
        "arr = np.array([1, 3, 5, 8])\n",
        "x = np.searchsorted(arr, [2, 6, 7])\n",
        "\n",
        "print(x)"
      ],
      "metadata": {
        "colab": {
          "base_uri": "https://localhost:8080/"
        },
        "id": "W0kmob_YwOg9",
        "outputId": "59011d48-fe07-4016-f708-76a27b9216ae"
      },
      "id": "W0kmob_YwOg9",
      "execution_count": null,
      "outputs": [
        {
          "output_type": "stream",
          "name": "stdout",
          "text": [
            "[1 3 3]\n"
          ]
        }
      ]
    },
    {
      "cell_type": "markdown",
      "source": [
        ">The return value is an array: [1 2 3] containing the three indexes where 2, 4, 6 would be inserted in the original array to maintain the order."
      ],
      "metadata": {
        "id": "pj6fxzixwTi2"
      },
      "id": "pj6fxzixwTi2"
    },
    {
      "cell_type": "markdown",
      "source": [
        "---\n",
        "## **NumPy Sorting Arrays**\n",
        "\n",
        "### Sorting Arrays:\n",
        "\n",
        ">Sorting means putting elements in an ordered sequence.\n",
        "\n",
        ">Ordered sequence is any sequence that has an order corresponding to elements, like numeric or alphabetical, ascending or descending.\n",
        "\n",
        ">The NumPy ndarray object has a function called `sort()`, that will sort a specified array."
      ],
      "metadata": {
        "id": "ABIP5_0cxPvC"
      },
      "id": "ABIP5_0cxPvC"
    },
    {
      "cell_type": "code",
      "source": [
        "# Sort the array:\n",
        "\n",
        "arr = np.array([3, 2, 0, 1])\n",
        "print(np.sort(arr))"
      ],
      "metadata": {
        "colab": {
          "base_uri": "https://localhost:8080/"
        },
        "id": "dpeetLtryR_e",
        "outputId": "4646f4bd-fe9d-4951-fd7e-ccd3a2349f29"
      },
      "id": "dpeetLtryR_e",
      "execution_count": null,
      "outputs": [
        {
          "output_type": "stream",
          "name": "stdout",
          "text": [
            "[0 1 2 3]\n"
          ]
        }
      ]
    },
    {
      "cell_type": "markdown",
      "source": [
        "**Note: This method returns a copy of the array, leaving the original array unchanged.**\n",
        "\n",
        ">You can also sort arrays of strings, or any other data type:"
      ],
      "metadata": {
        "id": "ceF9E_mDyq1W"
      },
      "id": "ceF9E_mDyq1W"
    },
    {
      "cell_type": "code",
      "source": [
        "# Sort the array alphabetically:\n",
        "\n",
        "arr = np.array(['banana', 'cherry', 'apple'])\n",
        "print(np.sort(arr))"
      ],
      "metadata": {
        "colab": {
          "base_uri": "https://localhost:8080/"
        },
        "id": "pH_lPhIiyv5U",
        "outputId": "10c0d189-1240-454c-f899-3d8011f2e831"
      },
      "id": "pH_lPhIiyv5U",
      "execution_count": null,
      "outputs": [
        {
          "output_type": "stream",
          "name": "stdout",
          "text": [
            "['apple' 'banana' 'cherry']\n"
          ]
        }
      ]
    },
    {
      "cell_type": "code",
      "source": [
        "#Sort a boolean array:\n",
        "\n",
        "arr = np.array([True, False, True])\n",
        "print(np.sort(arr))"
      ],
      "metadata": {
        "colab": {
          "base_uri": "https://localhost:8080/"
        },
        "id": "j8cN_jR3y5gY",
        "outputId": "773d9b95-de24-4179-d0b6-7ddadd5abce9"
      },
      "id": "j8cN_jR3y5gY",
      "execution_count": null,
      "outputs": [
        {
          "output_type": "stream",
          "name": "stdout",
          "text": [
            "[False  True  True]\n"
          ]
        }
      ]
    },
    {
      "cell_type": "markdown",
      "source": [
        "## Sorting a 2-D Array\n",
        "\n",
        ">If you use the `sort()` method on a 2-D array, both arrays will be sorted:"
      ],
      "metadata": {
        "id": "5n7vMUEky_js"
      },
      "id": "5n7vMUEky_js"
    },
    {
      "cell_type": "code",
      "source": [
        "# Sort a 2-D array:\n",
        "\n",
        "arr = np.array([[3, 2, 4], [5, 0, 1]])\n",
        "print(np.sort(arr))"
      ],
      "metadata": {
        "colab": {
          "base_uri": "https://localhost:8080/"
        },
        "id": "mLesN4kozGYK",
        "outputId": "9c0fd19d-9645-4b2f-91f1-bfc671338b6b"
      },
      "id": "mLesN4kozGYK",
      "execution_count": null,
      "outputs": [
        {
          "output_type": "stream",
          "name": "stdout",
          "text": [
            "[[2 3 4]\n",
            " [0 1 5]]\n"
          ]
        }
      ]
    },
    {
      "cell_type": "markdown",
      "source": [
        "## **NumPy Filter Array**\n",
        "\n",
        "### Filtering Arrays:\n",
        "\n",
        ">Getting some elements out of an existing array and creating a new array out of them is called filtering.\n",
        "\n",
        ">In NumPy, you filter an array using a boolean index list.\n",
        "\n",
        " ☣ **A boolean index list is a list of booleans corresponding to indexes in the array.**\n",
        "\n",
        ">If the value at an index is `True` that element is contained in the filtered array, if the value at that index is `False` that element is excluded from the filtered array."
      ],
      "metadata": {
        "id": "5iHHJ2EWzKM_"
      },
      "id": "5iHHJ2EWzKM_"
    },
    {
      "cell_type": "code",
      "source": [
        "# Create an array from the elements on index 0 and 2:\n",
        "\n",
        "arr = np.array([41, 42, 43, 44])\n",
        "x = [True, False, True, False]\n",
        "newarr = arr[x]\n",
        "\n",
        "print(newarr)"
      ],
      "metadata": {
        "id": "Sf7askG80sdT",
        "outputId": "9b78c0a8-b8d4-45fa-df85-f95931ccc29f",
        "colab": {
          "base_uri": "https://localhost:8080/"
        }
      },
      "id": "Sf7askG80sdT",
      "execution_count": null,
      "outputs": [
        {
          "output_type": "stream",
          "name": "stdout",
          "text": [
            "[41 43]\n"
          ]
        }
      ]
    },
    {
      "cell_type": "markdown",
      "source": [
        ">The example above will return `[41, 43]`, why?\n",
        "\n",
        ">Because the new array contains only the values where the filter array had the value `True`, in this case, index 0 and 2.\n",
        "\n",
        "## Creating the Filter Array\n",
        "\n",
        ">In the example above we hard-coded the `True` and `False` values, but the common use is to create a filter array based on conditions."
      ],
      "metadata": {
        "id": "xO5RRLWm2Z6q"
      },
      "id": "xO5RRLWm2Z6q"
    },
    {
      "cell_type": "code",
      "source": [
        "# Create a filter array that will return only values higher than 42:\n",
        "import numpy as np\n",
        "\n",
        "arr = np.array([41, 42, 43, 44])\n",
        "\n",
        "# Create an empty list\n",
        "filter_arr = []\n",
        "\n",
        "# go through each element in arr\n",
        "for element in arr:\n",
        "  # if the element is higher than 42, set the value to True, otherwise False:\n",
        "  if element > 42:\n",
        "    filter_arr.append(True)\n",
        "  else:\n",
        "    filter_arr.append(False)\n",
        "\n",
        "newarr = arr[filter_arr]\n",
        "\n",
        "print(filter_arr)\n",
        "print(newarr)"
      ],
      "metadata": {
        "colab": {
          "base_uri": "https://localhost:8080/"
        },
        "id": "OhCLom8s8wFL",
        "outputId": "ee6217fe-fe80-42ba-e0e6-4b2571f9f469"
      },
      "id": "OhCLom8s8wFL",
      "execution_count": null,
      "outputs": [
        {
          "output_type": "stream",
          "name": "stdout",
          "text": [
            "[False, False, True, True]\n",
            "[43 44]\n"
          ]
        }
      ]
    },
    {
      "cell_type": "code",
      "source": [
        "# Create a filter array that will return only even elements from the original array:\n",
        "\n",
        "arr = np.array([1, 2, 3, 4, 5, 6, 7])\n",
        "\n",
        "# Create an empty list\n",
        "filter_arr = []\n",
        "\n",
        "# go through each element in arr\n",
        "for element in arr:\n",
        "  # if the element is completely divisble by 2, set the value to True, otherwise False\n",
        "  if element % 2 == 0:\n",
        "    filter_arr.append(True)\n",
        "  else:\n",
        "    filter_arr.append(False)\n",
        "\n",
        "newarr = arr[filter_arr]\n",
        "\n",
        "print(filter_arr)\n",
        "print(newarr)"
      ],
      "metadata": {
        "colab": {
          "base_uri": "https://localhost:8080/"
        },
        "id": "XCot3KIt841W",
        "outputId": "4338c7bd-25d7-465b-8d3c-d632d79252b7"
      },
      "id": "XCot3KIt841W",
      "execution_count": null,
      "outputs": [
        {
          "output_type": "stream",
          "name": "stdout",
          "text": [
            "[False, True, False, True, False, True, False]\n",
            "[2 4 6]\n"
          ]
        }
      ]
    },
    {
      "cell_type": "markdown",
      "source": [
        "## Creating Filter Directly From Array:\n",
        "\n",
        ">The above example is quite a common task in NumPy and NumPy provides a nice way to tackle it.\n",
        "\n",
        ">We can directly substitute the array instead of the iterable variable in our condition and it will work just as we expect it to."
      ],
      "metadata": {
        "id": "a-r9_xXA-Us-"
      },
      "id": "a-r9_xXA-Us-"
    },
    {
      "cell_type": "code",
      "source": [
        "# Create a filter array that will return only values higher than 42:\n",
        "\n",
        "arr = np.array([41, 42, 43, 44])\n",
        "filter_arr = arr > 42\n",
        "newarr = arr[filter_arr]\n",
        "\n",
        "print(filter_arr)\n",
        "print(newarr)"
      ],
      "metadata": {
        "colab": {
          "base_uri": "https://localhost:8080/"
        },
        "id": "dUvtPhgs-b1h",
        "outputId": "3946df69-5797-434d-c7a4-a9d4fc4f5ff4"
      },
      "id": "dUvtPhgs-b1h",
      "execution_count": null,
      "outputs": [
        {
          "output_type": "stream",
          "name": "stdout",
          "text": [
            "[False False  True  True]\n",
            "[43 44]\n"
          ]
        }
      ]
    },
    {
      "cell_type": "code",
      "source": [
        "# Create a filter array that will return only even elements from the original array:\n",
        "\n",
        "arr = np.array([1, 2, 3, 4, 5, 6, 7])\n",
        "\n",
        "filter_arr = arr % 2 == 0\n",
        "\n",
        "newarr = arr[filter_arr]\n",
        "\n",
        "print(filter_arr)\n",
        "print(newarr)"
      ],
      "metadata": {
        "colab": {
          "base_uri": "https://localhost:8080/"
        },
        "id": "__x5eMOy-gZj",
        "outputId": "38a388c8-dfa6-4789-c913-7ff6e85e5145"
      },
      "id": "__x5eMOy-gZj",
      "execution_count": null,
      "outputs": [
        {
          "output_type": "stream",
          "name": "stdout",
          "text": [
            "[False  True False  True False  True False]\n",
            "[2 4 6]\n"
          ]
        }
      ]
    },
    {
      "cell_type": "markdown",
      "source": [
        "✴✴✴✴✴✴✴✴✴✴✴✴✴✴✴✴✴✴✴✴✴✴✴✴✴✴✴✴✴✴✴✴✴✴✴✴✴✴✴✴✴✴✴✴✴✴✴✴✴✴✴✴✴✴✴✴✴✴✴✴✴✴✴✴✴✴✴✴"
      ],
      "metadata": {
        "id": "EOKmH26_-jiz"
      },
      "id": "EOKmH26_-jiz"
    },
    {
      "cell_type": "markdown",
      "source": [
        "# **Random Numbers in NumPy**\n",
        "\n",
        "###What is a Random Number?\n",
        "\n",
        ">Random number does NOT mean a different number every time. Random means something that can not be predicted logically.\n",
        "\n",
        "## Pseudo Random and True Random.\n",
        "\n",
        ">Computers work on programs, and programs are definitive set of instructions. So it means there must be some algorithm to generate a random number as well.\n",
        "\n",
        ">If there is a program to generate random number it can be predicted, thus it is not truly random.\n",
        "\n",
        ">Random numbers generated through a generation algorithm are called pseudo random.\n",
        "\n",
        "`Can we make truly random numbers?`\n",
        "\n",
        ">Yes. In order to generate a truly random number on our computers we need to get the random data from some outside source. This outside source is generally our keystrokes, mouse movements, data on network etc.\n",
        "\n",
        ">We do not need truly random numbers, unless it is related to security (e.g. encryption keys) or the basis of application is the randomness (e.g. Digital roulette wheels).\n",
        "\n",
        "*In this tutorial we will be using pseudo random numbers.*"
      ],
      "metadata": {
        "id": "F6IUh1pgABnu"
      },
      "id": "F6IUh1pgABnu"
    },
    {
      "cell_type": "markdown",
      "source": [
        "##Generate Random Number:\n",
        "\n",
        "> NumPy offers the random module to work with random numbers."
      ],
      "metadata": {
        "id": "6zKJ0o4xAPyA"
      },
      "id": "6zKJ0o4xAPyA"
    },
    {
      "cell_type": "code",
      "source": [
        "# Generate a random integer from 0 to 100:\n",
        "from numpy import random\n",
        "\n",
        "x = random.randint(100)\n",
        "\n",
        "print(x)"
      ],
      "metadata": {
        "colab": {
          "base_uri": "https://localhost:8080/"
        },
        "id": "Pdk-0yBLAlSn",
        "outputId": "8fdd020f-9292-4db2-a0d8-83309dcc8fc3"
      },
      "id": "Pdk-0yBLAlSn",
      "execution_count": null,
      "outputs": [
        {
          "output_type": "stream",
          "name": "stdout",
          "text": [
            "13\n"
          ]
        }
      ]
    },
    {
      "cell_type": "markdown",
      "source": [
        "##Generate Random Float:\n",
        "\n",
        ">The random module's `rand()` method returns a random float between 0 and 1."
      ],
      "metadata": {
        "id": "4EBxNaw3A0Gx"
      },
      "id": "4EBxNaw3A0Gx"
    },
    {
      "cell_type": "code",
      "source": [
        "# Generate a random float from 0 to 1:\n",
        "\n",
        "x = random.rand()\n",
        "print(x)"
      ],
      "metadata": {
        "id": "os5wJJjxB358",
        "outputId": "53c98f42-9e5c-47a8-ad70-048162390790",
        "colab": {
          "base_uri": "https://localhost:8080/"
        }
      },
      "id": "os5wJJjxB358",
      "execution_count": null,
      "outputs": [
        {
          "output_type": "stream",
          "name": "stdout",
          "text": [
            "0.32913331305141724\n"
          ]
        }
      ]
    },
    {
      "cell_type": "markdown",
      "source": [
        "## Generate Random Array:\n",
        "\n",
        ">In NumPy we work with arrays, and you can use the two methods from the above examples to make random arrays.\n",
        "Integers\n",
        "\n",
        ">The `randint()` method takes a size parameter where you can specify the shape of an array."
      ],
      "metadata": {
        "id": "EhbaeZyPCAA8"
      },
      "id": "EhbaeZyPCAA8"
    },
    {
      "cell_type": "code",
      "source": [
        "# Generate a 1-D array containing 5 random integers from 0 to 100:\n",
        "\n",
        "x=random.randint(100, size=(5))\n",
        "print(x)"
      ],
      "metadata": {
        "id": "dNWzxDMPCPwI",
        "outputId": "0d30720e-9709-41e0-84dd-31c504825e94",
        "colab": {
          "base_uri": "https://localhost:8080/"
        }
      },
      "id": "dNWzxDMPCPwI",
      "execution_count": null,
      "outputs": [
        {
          "output_type": "stream",
          "name": "stdout",
          "text": [
            "[40  4 14 57 77]\n"
          ]
        }
      ]
    },
    {
      "cell_type": "code",
      "source": [
        "# Generate a 2-D array with 3 rows, each row containing 5 random integers from 0 to 100:\n",
        "\n",
        "x = random.randint(100, size=(3, 5))\n",
        "print(x)"
      ],
      "metadata": {
        "id": "gRYy4VYqCUAO",
        "outputId": "16c754bf-b33b-4ec5-a672-6d11c31f5014",
        "colab": {
          "base_uri": "https://localhost:8080/"
        }
      },
      "id": "gRYy4VYqCUAO",
      "execution_count": null,
      "outputs": [
        {
          "output_type": "stream",
          "name": "stdout",
          "text": [
            "[[ 8 13 82 20  5]\n",
            " [35 48 20 19 62]\n",
            " [27 11 47 74 54]]\n"
          ]
        }
      ]
    },
    {
      "cell_type": "markdown",
      "source": [
        "##Floats:\n",
        "\n",
        ">The `rand()` method also allows you to specify the shape of the array."
      ],
      "metadata": {
        "id": "CS02JaE8CZmq"
      },
      "id": "CS02JaE8CZmq"
    },
    {
      "cell_type": "code",
      "source": [
        "# Generate a 1-D array containing 5 random floats:\n",
        "\n",
        "x = random.rand(5)\n",
        "print(x)"
      ],
      "metadata": {
        "id": "wNPK_JuvCi-b",
        "outputId": "b628188a-d58c-4851-92c9-2039cf144305",
        "colab": {
          "base_uri": "https://localhost:8080/"
        }
      },
      "id": "wNPK_JuvCi-b",
      "execution_count": null,
      "outputs": [
        {
          "output_type": "stream",
          "name": "stdout",
          "text": [
            "[0.79800931 0.42334007 0.58070037 0.7019545  0.18657248]\n"
          ]
        }
      ]
    },
    {
      "cell_type": "code",
      "source": [
        "# Generate a 2-D array with 3 rows, each row containing 5 random numbers:\n",
        "from numpy import random\n",
        "\n",
        "x = random.rand(3, 5)\n",
        "\n",
        "print(x)"
      ],
      "metadata": {
        "id": "WLod3mlDC8Vx",
        "colab": {
          "base_uri": "https://localhost:8080/"
        },
        "outputId": "f1756a69-7232-445c-bbec-e7402e1100ab"
      },
      "id": "WLod3mlDC8Vx",
      "execution_count": null,
      "outputs": [
        {
          "output_type": "stream",
          "name": "stdout",
          "text": [
            "[[0.22813304 0.90069154 0.98248839 0.516075   0.99319039]\n",
            " [0.03536969 0.70510835 0.02936783 0.13850241 0.50405041]\n",
            " [0.54743387 0.25460575 0.19710907 0.35256393 0.81826365]]\n"
          ]
        }
      ]
    },
    {
      "cell_type": "markdown",
      "source": [
        "## Generate Random Number From Array:\n",
        "\n",
        ">The `choice()` method allows you to generate a random value based on an array of values.\n",
        "\n",
        ">The `choice()` method takes an array as a parameter and randomly returns one of the values."
      ],
      "metadata": {
        "id": "ILPQof2HKCT_"
      },
      "id": "ILPQof2HKCT_"
    },
    {
      "cell_type": "code",
      "source": [
        "#Return one of the values in an array:\n",
        "\n",
        "x = random.choice([3, 5, 7, 9])\n",
        "print(x)"
      ],
      "metadata": {
        "colab": {
          "base_uri": "https://localhost:8080/"
        },
        "id": "EbBvb9J9Klhe",
        "outputId": "7fd971a5-04d3-4592-d778-7a712061e5aa"
      },
      "id": "EbBvb9J9Klhe",
      "execution_count": null,
      "outputs": [
        {
          "output_type": "stream",
          "name": "stdout",
          "text": [
            "3\n"
          ]
        }
      ]
    },
    {
      "cell_type": "markdown",
      "source": [
        ">The `choice()` method also allows you to return an array of values.\n",
        "\n",
        ">Add a size parameter to specify the shape of the array."
      ],
      "metadata": {
        "id": "is_apQJGKqG9"
      },
      "id": "is_apQJGKqG9"
    },
    {
      "cell_type": "code",
      "source": [
        "# Generate a 2-D array that consists of the values in the array parameter (3, 5, 7, and 9):\n",
        "\n",
        "x = random.choice([3, 5, 7, 9], size=(3, 5))\n",
        "print(x)"
      ],
      "metadata": {
        "colab": {
          "base_uri": "https://localhost:8080/"
        },
        "id": "VZw--wBWKze7",
        "outputId": "0dea13bd-c23d-4bfe-bc97-760aa3b0162b"
      },
      "id": "VZw--wBWKze7",
      "execution_count": null,
      "outputs": [
        {
          "output_type": "stream",
          "name": "stdout",
          "text": [
            "[[3 5 3 5 7]\n",
            " [9 5 7 7 9]\n",
            " [7 3 3 9 3]]\n"
          ]
        }
      ]
    },
    {
      "cell_type": "markdown",
      "source": [
        "#**Random Data Distribution**\n",
        "\n",
        "##⁉ What is Data Distribution?\n",
        "\n",
        ">Data Distribution is a list of all possible values, and how often each value occurs.\n",
        "\n",
        ">Such lists are important when working with statistics and data science.\n",
        "\n",
        ">The random module offer methods that returns randomly generated data distributions.\n"
      ],
      "metadata": {
        "id": "yRUTGdOYK3_J"
      },
      "id": "yRUTGdOYK3_J"
    },
    {
      "cell_type": "markdown",
      "source": [
        "##Random Distribution:\n",
        "\n",
        ">A random distribution is a set of random numbers that follow a certain probability density function.\n",
        "\n",
        ">**Probability Density Function**: A function that describes a continuous probability. i.e. probability of all values in an array.\n"
      ],
      "metadata": {
        "id": "xLcD-vF1LPTn"
      },
      "id": "xLcD-vF1LPTn"
    },
    {
      "cell_type": "markdown",
      "source": [
        ">We can generate random numbers based on defined probabilities using the `choice()` method of the `random` module.\n",
        "\n",
        ">The `choice()` method allows us to specify the probability for each value.\n",
        "\n",
        ">The probability is set by a number between 0 and 1, where 0 means that the value will never occur and 1 means that the value will always occur."
      ],
      "metadata": {
        "id": "JRsNihNXLdwP"
      },
      "id": "JRsNihNXLdwP"
    },
    {
      "cell_type": "code",
      "source": [
        "#Generate a 1-D array containing 100 values, where each value has to be 3, 5, 7 or 9.\n",
        "#The probability for the value to be 3 is set to be 0.1\n",
        "#The probability for the value to be 5 is set to be 0.3\n",
        "#The probability for the value to be 7 is set to be 0.6\n",
        "#The probability for the value to be 9 is set to be 0\n",
        "\n",
        "x = random.choice([3, 5, 7, 9], p=[0.1, 0.3, 0.6, 0.0], size=(100))\n",
        "print(x)\n",
        "print(x.size)"
      ],
      "metadata": {
        "colab": {
          "base_uri": "https://localhost:8080/"
        },
        "id": "2v2xtDReLlhE",
        "outputId": "ee807bc4-b1d0-4b59-9162-6eb65d8f02a9"
      },
      "id": "2v2xtDReLlhE",
      "execution_count": null,
      "outputs": [
        {
          "output_type": "stream",
          "name": "stdout",
          "text": [
            "[3 7 5 7 7 7 5 7 7 5 7 5 5 3 5 3 7 7 7 5 5 7 3 7 5 5 7 7 3 5 7 5 7 7 7 5 7\n",
            " 3 5 7 7 7 3 7 7 5 7 7 7 3 5 7 7 3 7 7 7 7 5 3 7 5 7 7 7 3 7 3 7 5 7 7 7 3\n",
            " 7 7 5 7 3 7 7 7 5 7 7 5 7 7 5 7 5 7 5 5 5 7 7 7 7 7]\n",
            "100\n"
          ]
        }
      ]
    },
    {
      "cell_type": "markdown",
      "source": [
        "\n",
        "**The sum of all probability numbers should be 1.**\n",
        "\n",
        ">Even if you run the example above 100 times, the value 9 will never occur.\n",
        "\n",
        ">You can return arrays of any shape and size by specifying the shape in the size parameter."
      ],
      "metadata": {
        "id": "D_UcBsYWNsfV"
      },
      "id": "D_UcBsYWNsfV"
    },
    {
      "cell_type": "code",
      "source": [
        "# Same example as above, but return a 2-D array with 3 rows, each containing 5 values.\n",
        "\n",
        "x = random.choice([3, 5, 7, 9], p=[0.1, 0.3, 0.6, 0.0], size=(3, 5))\n",
        "print(x)"
      ],
      "metadata": {
        "colab": {
          "base_uri": "https://localhost:8080/"
        },
        "id": "qZp636qZOLi4",
        "outputId": "f0e01104-8f40-42e8-fce7-222bc58270a1"
      },
      "id": "qZp636qZOLi4",
      "execution_count": null,
      "outputs": [
        {
          "output_type": "stream",
          "name": "stdout",
          "text": [
            "[[7 7 5 5 7]\n",
            " [7 7 3 5 7]\n",
            " [7 7 5 5 5]]\n"
          ]
        }
      ]
    },
    {
      "cell_type": "markdown",
      "source": [
        "## Random Permutations:\n",
        "\n",
        ">A permutation refers to an arrangement of elements. e.g. `[3, 2, 1]` is a permutation of `[1, 2, 3]` and vice-versa.\n",
        "\n",
        ">The NumPy Random module provides two methods for this: `shuffle()` and `permutation()`.\n",
        "\n",
        "\n",
        "##Shuffling Arrays:\n",
        "\n",
        ">Shuffle means changing arrangement of elements in-place. i.e. in the array itself.\n",
        "\n",
        "\n",
        "\n"
      ],
      "metadata": {
        "id": "-uIp4f0kOXPA"
      },
      "id": "-uIp4f0kOXPA"
    },
    {
      "cell_type": "code",
      "source": [
        "# Randomly shuffle elements of following array:\n",
        "from numpy import random\n",
        "import numpy as np\n",
        "\n",
        "arr = np.array([1, 2, 3, 4, 5])\n",
        "random.shuffle(arr)\n",
        "print(arr)"
      ],
      "metadata": {
        "colab": {
          "base_uri": "https://localhost:8080/"
        },
        "id": "9lfK6XuyOy6b",
        "outputId": "547d548d-e9ab-446d-9779-649a6d07e481"
      },
      "id": "9lfK6XuyOy6b",
      "execution_count": null,
      "outputs": [
        {
          "output_type": "stream",
          "name": "stdout",
          "text": [
            "[1 4 3 2 5]\n"
          ]
        }
      ]
    },
    {
      "cell_type": "markdown",
      "source": [
        "❗ **The shuffle() method makes changes to the original array.**"
      ],
      "metadata": {
        "id": "G8SCj1HsPONw"
      },
      "id": "G8SCj1HsPONw"
    },
    {
      "cell_type": "markdown",
      "source": [
        "##**Generating Permutation of Arrays**"
      ],
      "metadata": {
        "id": "bQdToc9ZPmtm"
      },
      "id": "bQdToc9ZPmtm"
    },
    {
      "cell_type": "code",
      "source": [
        "#Generate a random permutation of elements of following array:\n",
        "\n",
        "arr = np.array([1, 2, 3, 4, 5])\n",
        "print(random.permutation(arr))"
      ],
      "metadata": {
        "colab": {
          "base_uri": "https://localhost:8080/"
        },
        "id": "q6Fd1QoePqPs",
        "outputId": "cd3cbbeb-fdb4-4773-c485-0b4eafa294ef"
      },
      "id": "q6Fd1QoePqPs",
      "execution_count": null,
      "outputs": [
        {
          "output_type": "stream",
          "name": "stdout",
          "text": [
            "[5 2 3 4 1]\n"
          ]
        }
      ]
    },
    {
      "cell_type": "markdown",
      "source": [
        "❗ **The `permutation()` method returns a re-arranged array (and leaves the original array un-changed).**"
      ],
      "metadata": {
        "id": "XR18VSlePuNe"
      },
      "id": "XR18VSlePuNe"
    },
    {
      "cell_type": "markdown",
      "source": [
        "#**Seaborn**\n",
        "\n",
        "##Visualize Distributions With Seaborn:\n",
        "\n",
        ">Seaborn is a library that uses Matplotlib underneath to plot graphs. It will be used to visualize random distributions.\n",
        "\n",
        "<img src=\"https://www.w3schools.com/python/numpy/seaborn_2.png\"  style=\"height: 100px; width:100px;\"/>"
      ],
      "metadata": {
        "id": "gkyZ1emBP1-2"
      },
      "id": "gkyZ1emBP1-2"
    },
    {
      "cell_type": "markdown",
      "source": [
        "##Install Seaborn:\n",
        "\n",
        ">If you have Python and PIP already installed on a system, install it using this command:\n",
        "\n",
        "`C:\\Users\\Your Name>pip install seaborn`\n",
        "\n",
        ">If you use Jupyter, install Seaborn using this command:\n",
        "\n",
        "`C:\\Users\\Your Name>!pip install seaborn`"
      ],
      "metadata": {
        "id": "B3o0lCWqRiJA"
      },
      "id": "B3o0lCWqRiJA"
    },
    {
      "cell_type": "code",
      "source": [
        "!pip install seaborn"
      ],
      "metadata": {
        "colab": {
          "base_uri": "https://localhost:8080/"
        },
        "id": "afdv90e-S-kC",
        "outputId": "779f4838-3dbe-4136-df07-8e68d72a9c4f"
      },
      "id": "afdv90e-S-kC",
      "execution_count": null,
      "outputs": [
        {
          "output_type": "stream",
          "name": "stdout",
          "text": [
            "Requirement already satisfied: seaborn in /usr/local/lib/python3.12/dist-packages (0.13.2)\n",
            "Requirement already satisfied: numpy!=1.24.0,>=1.20 in /usr/local/lib/python3.12/dist-packages (from seaborn) (2.0.2)\n",
            "Requirement already satisfied: pandas>=1.2 in /usr/local/lib/python3.12/dist-packages (from seaborn) (2.2.2)\n",
            "Requirement already satisfied: matplotlib!=3.6.1,>=3.4 in /usr/local/lib/python3.12/dist-packages (from seaborn) (3.10.0)\n",
            "Requirement already satisfied: contourpy>=1.0.1 in /usr/local/lib/python3.12/dist-packages (from matplotlib!=3.6.1,>=3.4->seaborn) (1.3.3)\n",
            "Requirement already satisfied: cycler>=0.10 in /usr/local/lib/python3.12/dist-packages (from matplotlib!=3.6.1,>=3.4->seaborn) (0.12.1)\n",
            "Requirement already satisfied: fonttools>=4.22.0 in /usr/local/lib/python3.12/dist-packages (from matplotlib!=3.6.1,>=3.4->seaborn) (4.59.2)\n",
            "Requirement already satisfied: kiwisolver>=1.3.1 in /usr/local/lib/python3.12/dist-packages (from matplotlib!=3.6.1,>=3.4->seaborn) (1.4.9)\n",
            "Requirement already satisfied: packaging>=20.0 in /usr/local/lib/python3.12/dist-packages (from matplotlib!=3.6.1,>=3.4->seaborn) (25.0)\n",
            "Requirement already satisfied: pillow>=8 in /usr/local/lib/python3.12/dist-packages (from matplotlib!=3.6.1,>=3.4->seaborn) (11.3.0)\n",
            "Requirement already satisfied: pyparsing>=2.3.1 in /usr/local/lib/python3.12/dist-packages (from matplotlib!=3.6.1,>=3.4->seaborn) (3.2.3)\n",
            "Requirement already satisfied: python-dateutil>=2.7 in /usr/local/lib/python3.12/dist-packages (from matplotlib!=3.6.1,>=3.4->seaborn) (2.9.0.post0)\n",
            "Requirement already satisfied: pytz>=2020.1 in /usr/local/lib/python3.12/dist-packages (from pandas>=1.2->seaborn) (2025.2)\n",
            "Requirement already satisfied: tzdata>=2022.7 in /usr/local/lib/python3.12/dist-packages (from pandas>=1.2->seaborn) (2025.2)\n",
            "Requirement already satisfied: six>=1.5 in /usr/local/lib/python3.12/dist-packages (from python-dateutil>=2.7->matplotlib!=3.6.1,>=3.4->seaborn) (1.17.0)\n"
          ]
        }
      ]
    },
    {
      "cell_type": "markdown",
      "source": [
        "##Displots:\n",
        "\n",
        ">Displot stands for distribution plot, it takes as input an array and plots a curve corresponding to the distribution of points in the array."
      ],
      "metadata": {
        "id": "_-IEzfgjRv2f"
      },
      "id": "_-IEzfgjRv2f"
    },
    {
      "cell_type": "markdown",
      "source": [
        "## Import Matplotlib:\n",
        "\n",
        ">Import the pyplot object of the Matplotlib module in your code using the following statement:\n",
        "\n",
        "`import matplotlib.pyplot as plt `"
      ],
      "metadata": {
        "id": "aWohf96ASX_n"
      },
      "id": "aWohf96ASX_n"
    },
    {
      "cell_type": "markdown",
      "source": [
        "## Import Seaborn:\n",
        ">Import the Seaborn module in your code using the following statement:\n",
        "\n",
        "`import seaborn as sns `"
      ],
      "metadata": {
        "id": "75eQxA3SSpDs"
      },
      "id": "75eQxA3SSpDs"
    },
    {
      "cell_type": "markdown",
      "source": [
        "## Plotting a Displot:"
      ],
      "metadata": {
        "id": "HULcWqShSyfP"
      },
      "id": "HULcWqShSyfP"
    },
    {
      "cell_type": "code",
      "source": [
        "import matplotlib.pyplot as plt\n",
        "import seaborn as sns\n",
        "\n",
        "sns.displot([0,1,2,3,4,5])\n",
        "plt.show"
      ],
      "metadata": {
        "colab": {
          "base_uri": "https://localhost:8080/",
          "height": 676
        },
        "id": "KgODVojdS513",
        "outputId": "7584c63e-ec92-406e-e4de-a0d72485646c"
      },
      "id": "KgODVojdS513",
      "execution_count": null,
      "outputs": [
        {
          "output_type": "execute_result",
          "data": {
            "text/plain": [
              "<function matplotlib.pyplot.show(close=None, block=None)>"
            ],
            "text/html": [
              "<div style=\"max-width:800px; border: 1px solid var(--colab-border-color);\"><style>\n",
              "      pre.function-repr-contents {\n",
              "        overflow-x: auto;\n",
              "        padding: 8px 12px;\n",
              "        max-height: 500px;\n",
              "      }\n",
              "\n",
              "      pre.function-repr-contents.function-repr-contents-collapsed {\n",
              "        cursor: pointer;\n",
              "        max-height: 100px;\n",
              "      }\n",
              "    </style>\n",
              "    <pre style=\"white-space: initial; background:\n",
              "         var(--colab-secondary-surface-color); padding: 8px 12px;\n",
              "         border-bottom: 1px solid var(--colab-border-color);\"><b>matplotlib.pyplot.show</b><br/>def show(*args, **kwargs) -&gt; None</pre><pre class=\"function-repr-contents function-repr-contents-collapsed\" style=\"\"><a class=\"filepath\" style=\"display:none\" href=\"#\">/usr/local/lib/python3.12/dist-packages/matplotlib/pyplot.py</a>Display all open figures.\n",
              "\n",
              "Parameters\n",
              "----------\n",
              "block : bool, optional\n",
              "    Whether to wait for all figures to be closed before returning.\n",
              "\n",
              "    If `True` block and run the GUI main loop until all figure windows\n",
              "    are closed.\n",
              "\n",
              "    If `False` ensure that all figure windows are displayed and return\n",
              "    immediately.  In this case, you are responsible for ensuring\n",
              "    that the event loop is running to have responsive figures.\n",
              "\n",
              "    Defaults to True in non-interactive mode and to False in interactive\n",
              "    mode (see `.pyplot.isinteractive`).\n",
              "\n",
              "See Also\n",
              "--------\n",
              "ion : Enable interactive mode, which shows / updates the figure after\n",
              "      every plotting command, so that calling ``show()`` is not necessary.\n",
              "ioff : Disable interactive mode.\n",
              "savefig : Save the figure to an image file instead of showing it on screen.\n",
              "\n",
              "Notes\n",
              "-----\n",
              "**Saving figures to file and showing a window at the same time**\n",
              "\n",
              "If you want an image file as well as a user interface window, use\n",
              "`.pyplot.savefig` before `.pyplot.show`. At the end of (a blocking)\n",
              "``show()`` the figure is closed and thus unregistered from pyplot. Calling\n",
              "`.pyplot.savefig` afterwards would save a new and thus empty figure. This\n",
              "limitation of command order does not apply if the show is non-blocking or\n",
              "if you keep a reference to the figure and use `.Figure.savefig`.\n",
              "\n",
              "**Auto-show in jupyter notebooks**\n",
              "\n",
              "The jupyter backends (activated via ``%matplotlib inline``,\n",
              "``%matplotlib notebook``, or ``%matplotlib widget``), call ``show()`` at\n",
              "the end of every cell by default. Thus, you usually don&#x27;t have to call it\n",
              "explicitly there.</pre>\n",
              "      <script>\n",
              "      if (google.colab.kernel.accessAllowed && google.colab.files && google.colab.files.view) {\n",
              "        for (const element of document.querySelectorAll('.filepath')) {\n",
              "          element.style.display = 'block'\n",
              "          element.onclick = (event) => {\n",
              "            event.preventDefault();\n",
              "            event.stopPropagation();\n",
              "            google.colab.files.view(element.textContent, 569);\n",
              "          };\n",
              "        }\n",
              "      }\n",
              "      for (const element of document.querySelectorAll('.function-repr-contents')) {\n",
              "        element.onclick = (event) => {\n",
              "          event.preventDefault();\n",
              "          event.stopPropagation();\n",
              "          element.classList.toggle('function-repr-contents-collapsed');\n",
              "        };\n",
              "      }\n",
              "      </script>\n",
              "      </div>"
            ]
          },
          "metadata": {},
          "execution_count": 65
        },
        {
          "output_type": "display_data",
          "data": {
            "text/plain": [
              "<Figure size 500x500 with 1 Axes>"
            ],
            "image/png": "[encoded data removed]"
          },
          "metadata": {}
        }
      ]
    },
    {
      "cell_type": "markdown",
      "source": [
        "## Plotting a Displot Without the Histogram:"
      ],
      "metadata": {
        "id": "1izBg3RHTjB5"
      },
      "id": "1izBg3RHTjB5"
    },
    {
      "cell_type": "code",
      "source": [
        "sns.displot([0, 1, 2, 3, 4, 5], kind=\"kde\")\n",
        "plt.show()"
      ],
      "metadata": {
        "id": "vxEz27GZT0sW",
        "outputId": "8f742d9b-59f0-4710-de0c-1c5b276a4af6",
        "colab": {
          "base_uri": "https://localhost:8080/",
          "height": 506
        }
      },
      "id": "vxEz27GZT0sW",
      "execution_count": null,
      "outputs": [
        {
          "output_type": "display_data",
          "data": {
            "text/plain": [
              "<Figure size 500x500 with 1 Axes>"
            ],
            "image/png": "[encoded data removed]"
          },
          "metadata": {}
        }
      ]
    },
    {
      "cell_type": "markdown",
      "source": [
        "**Note:** We will be using: sns.displot(arr, kind=\"kde\") to visualize random distributions in this tutorial."
      ],
      "metadata": {
        "id": "66yY4xFGT4pu"
      },
      "id": "66yY4xFGT4pu"
    },
    {
      "cell_type": "markdown",
      "source": [
        "# **Normal (Gaussian) Distribution**\n",
        "\n",
        "##Normal Distribution :\n",
        "\n",
        ">The Normal Distribution is one of the most important distributions.\n",
        "\n",
        ">It is also called the Gaussian Distribution after the German mathematician Carl Friedrich Gauss.\n",
        "\n",
        ">It fits the probability distribution of many events, eg. IQ Scores, Heartbeat etc.\n",
        "\n",
        ">Use the `random.normal()` method to get a Normal Data Distribution.\n",
        "\n",
        ">It has three parameters:\n",
        "\n",
        ">`loc` - (Mean) where the peak of the bell exists.\n",
        "\n",
        ">`scale` - (Standard Deviation) how flat the graph distribution should be.\n",
        "\n",
        ">`size` - The shape of the returned array."
      ],
      "metadata": {
        "id": "YV83MAbVIPLq"
      },
      "id": "YV83MAbVIPLq"
    },
    {
      "cell_type": "code",
      "source": [
        "# Generate a random normal distribution of size 2x3:\n",
        "from numpy import random\n",
        "\n",
        "x = random.normal(size=(2, 3))\n",
        "\n",
        "print(x)"
      ],
      "metadata": {
        "id": "M6qKTof0KqMa",
        "outputId": "186f26d5-e5b9-479a-db4f-3cc8b952972f",
        "colab": {
          "base_uri": "https://localhost:8080/"
        }
      },
      "id": "M6qKTof0KqMa",
      "execution_count": null,
      "outputs": [
        {
          "output_type": "stream",
          "name": "stdout",
          "text": [
            "[[ 0.96325514 -0.31380385  0.27276061]\n",
            " [-0.83896129 -2.39324106 -0.63681276]]\n"
          ]
        }
      ]
    },
    {
      "cell_type": "code",
      "source": [
        "# Generate a random normal distribution of size 2x3 with mean at 1 and standard deviation of 2:\n",
        "from numpy import random\n",
        "\n",
        "x = random.normal(loc=1, scale=2, size=(2, 3))\n",
        "\n",
        "print(x)"
      ],
      "metadata": {
        "id": "G57QiT92KvEj",
        "colab": {
          "base_uri": "https://localhost:8080/"
        },
        "outputId": "9c7b6530-7927-4f47-db33-0264da2d8af4"
      },
      "id": "G57QiT92KvEj",
      "execution_count": null,
      "outputs": [
        {
          "output_type": "stream",
          "name": "stdout",
          "text": [
            "[[ 5.29942931  2.83593436 -0.8533093 ]\n",
            " [-0.00769742  2.49106867  1.21865604]]\n"
          ]
        }
      ]
    },
    {
      "cell_type": "markdown",
      "source": [
        "## Visualization of Normal Distribution:"
      ],
      "metadata": {
        "id": "3XFBS0hMMYqm"
      },
      "id": "3XFBS0hMMYqm"
    },
    {
      "cell_type": "code",
      "source": [
        "from numpy import random\n",
        "import matplotlib.pyplot as plt\n",
        "import seaborn as sns\n",
        "\n",
        "sns.displot(random.normal(size=1000), kind=\"kde\")\n",
        "\n",
        "plt.show()"
      ],
      "metadata": {
        "colab": {
          "base_uri": "https://localhost:8080/",
          "height": 506
        },
        "id": "RLQGpopmMcz6",
        "outputId": "dfca92cb-8c2d-4d48-aff5-a963e2066e61"
      },
      "id": "RLQGpopmMcz6",
      "execution_count": null,
      "outputs": [
        {
          "output_type": "display_data",
          "data": {
            "text/plain": [
              "<Figure size 500x500 with 1 Axes>"
            ],
            "image/png": "[encoded data removed]"
          },
          "metadata": {}
        }
      ]
    },
    {
      "cell_type": "markdown",
      "source": [
        "**Note:** The curve of a Normal Distribution is also known as the Bell Curve because of the bell-shaped curve."
      ],
      "metadata": {
        "id": "8Xe8d1x5Meac"
      },
      "id": "8Xe8d1x5Meac"
    },
    {
      "cell_type": "markdown",
      "source": [
        "#**Binomial Distribution**\n",
        "\n",
        "## Binomial Distribution:\n",
        "\n",
        ">Binomial Distribution is a Discrete Distribution.\n",
        "\n",
        ">It describes the outcome of binary scenarios, e.g. toss of a coin, it will either be head or tails.\n",
        "\n",
        ">It has three parameters:\n",
        "\n",
        ">`n` - number of trials.\n",
        "\n",
        ">`p` - probability of occurrence of each trial (e.g. for toss of a coin 0.5 each).\n",
        "\n",
        ">`size` - The shape of the returned array.\n",
        "\n",
        ">**Discrete Distribution:** The distribution is defined at separate set of events, e.g. a coin toss's result is discrete as it can be only head or tails whereas height of people is continuous as it can be 170, 170.1, 170.11 and so on.\n"
      ],
      "metadata": {
        "id": "yjnxV2XuMko7"
      },
      "id": "yjnxV2XuMko7"
    },
    {
      "cell_type": "code",
      "source": [
        "# Given 10 trials for coin toss generate 10 data points:\n",
        "from numpy import random\n",
        "\n",
        "x = random.binomial(n=10, p=0.5, size=10)\n",
        "\n",
        "print(x)"
      ],
      "metadata": {
        "colab": {
          "base_uri": "https://localhost:8080/"
        },
        "id": "DxTpuxpLPnRH",
        "outputId": "7146ce6c-efe2-4a32-d108-a3ec6ce63e26"
      },
      "id": "DxTpuxpLPnRH",
      "execution_count": null,
      "outputs": [
        {
          "output_type": "stream",
          "name": "stdout",
          "text": [
            "[6 6 7 5 4 7 5 6 1 5]\n"
          ]
        }
      ]
    },
    {
      "cell_type": "markdown",
      "source": [
        "## Visualization of Binomial Distribution:\n"
      ],
      "metadata": {
        "id": "WKsKXOUeS7c1"
      },
      "id": "WKsKXOUeS7c1"
    },
    {
      "cell_type": "code",
      "source": [
        "from numpy import random\n",
        "import matplotlib.pyplot as plt\n",
        "import seaborn as sns\n",
        "\n",
        "sns.displot(random.binomial(n=10, p=0.5, size=1000))\n",
        "\n",
        "plt.show()"
      ],
      "metadata": {
        "id": "Abmo2f9xkiPu",
        "outputId": "19d3efe0-5578-44a7-b4ee-37c78faafccb",
        "colab": {
          "base_uri": "https://localhost:8080/",
          "height": 506
        }
      },
      "id": "Abmo2f9xkiPu",
      "execution_count": 1,
      "outputs": [
        {
          "output_type": "display_data",
          "data": {
            "text/plain": [
              "<Figure size 500x500 with 1 Axes>"
            ],
            "image/png": "[encoded data removed]"
          },
          "metadata": {}
        }
      ]
    },
    {
      "cell_type": "markdown",
      "source": [
        "##Difference Between Normal and Binomial Distribution :\n",
        "\n",
        ">The main difference is that normal distribution is continous whereas binomial is discrete, but if there are enough data points it will be quite similar to normal distribution with certain loc and scale."
      ],
      "metadata": {
        "id": "a_UqrFhnkj55"
      },
      "id": "a_UqrFhnkj55"
    },
    {
      "cell_type": "code",
      "source": [
        "from numpy import random\n",
        "import matplotlib.pyplot as plt\n",
        "import seaborn as sns\n",
        "\n",
        "data = {\n",
        "  \"normal\": random.normal(loc=50, scale=5, size=1000),\n",
        "  \"binomial\": random.binomial(n=100, p=0.5, size=1000)\n",
        "}\n",
        "\n",
        "sns.displot(data, kind=\"kde\")\n",
        "\n",
        "plt.show()"
      ],
      "metadata": {
        "id": "nlKG5W4vkzFB",
        "outputId": "58008410-206e-46c6-b381-2e263c0f194d",
        "colab": {
          "base_uri": "https://localhost:8080/",
          "height": 506
        }
      },
      "id": "nlKG5W4vkzFB",
      "execution_count": 2,
      "outputs": [
        {
          "output_type": "display_data",
          "data": {
            "text/plain": [
              "<Figure size 609.875x500 with 1 Axes>"
            ],
            "image/png": "[encoded data removed]"
          },
          "metadata": {}
        }
      ]
    },
    {
      "cell_type": "code",
      "source": [],
      "metadata": {
        "id": "MLsRATHUk9qW"
      },
      "id": "MLsRATHUk9qW",
      "execution_count": null,
      "outputs": []
    }
  ],
  "metadata": {
    "kernelspec": {
      "display_name": "Python 3 (ipykernel)",
      "language": "python",
      "name": "python3"
    },
    "language_info": {
      "codemirror_mode": {
        "name": "ipython",
        "version": 3
      },
      "file_extension": ".py",
      "mimetype": "text/x-python",
      "name": "python",
      "nbconvert_exporter": "python",
      "pygments_lexer": "ipython3",
      "version": "3.12.7"
    },
    "colab": {
      "provenance": []
    }
  },
  "nbformat": 4,
  "nbformat_minor": 5
}